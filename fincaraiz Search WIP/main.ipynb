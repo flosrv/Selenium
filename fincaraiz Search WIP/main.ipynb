{
 "cells": [
  {
   "cell_type": "code",
   "execution_count": 37,
   "id": "013ad319",
   "metadata": {},
   "outputs": [],
   "source": [
    "from imports import *\n",
    "from functions import *\n",
    "from auth import *\n",
    "from constants import *"
   ]
  },
  {
   "cell_type": "code",
   "execution_count": 38,
   "id": "ef1b42bb",
   "metadata": {},
   "outputs": [],
   "source": [
    "driver = create_driver()"
   ]
  },
  {
   "cell_type": "code",
   "execution_count": 39,
   "id": "646b9372",
   "metadata": {},
   "outputs": [],
   "source": [
    "wait = WebDriverWait(driver, 5)"
   ]
  },
  {
   "cell_type": "code",
   "execution_count": 40,
   "id": "3b95de7e",
   "metadata": {},
   "outputs": [
    {
     "name": "stdout",
     "output_type": "stream",
     "text": [
      "Clicked on Ingresar...\n",
      "Connexion réussie!\n"
     ]
    }
   ],
   "source": [
    "login(driver, email, password)"
   ]
  },
  {
   "cell_type": "markdown",
   "id": "4e3ed407",
   "metadata": {},
   "source": [
    "Type of contract"
   ]
  },
  {
   "cell_type": "code",
   "execution_count": null,
   "id": "daaa0e15",
   "metadata": {},
   "outputs": [],
   "source": [
    "buy_rent_projects_chosen =\"arriendo\"\n",
    "property_type_wanted = ['Casa', \"apartamento\", \"finca\"]\n"
   ]
  },
  {
   "cell_type": "code",
   "execution_count": 121,
   "id": "26fa8899",
   "metadata": {},
   "outputs": [
    {
     "ename": "ElementClickInterceptedException",
     "evalue": "Message: element click intercepted: Element <div aria-selected=\"false\" class=\"ant-select-item ant-select-item-option\" title=\"Arriendo\">...</div> is not clickable at point (335, 478). Other element would receive the click: <input type=\"text\" class=\"location-search__input\" placeholder=\"🔍︎ Busca por ubicación\" value=\"\">\n  (Session info: chrome=135.0.7049.96)\nStacktrace:\n\tGetHandleVerifier [0x00007FF7779D5355+78597]\n\tGetHandleVerifier [0x00007FF7779D53B0+78688]\n\t(No symbol) [0x00007FF7777891AA]\n\t(No symbol) [0x00007FF7777E7089]\n\t(No symbol) [0x00007FF7777E4A42]\n\t(No symbol) [0x00007FF7777E1AE1]\n\t(No symbol) [0x00007FF7777E0A42]\n\t(No symbol) [0x00007FF7777D2204]\n\t(No symbol) [0x00007FF7778070EA]\n\t(No symbol) [0x00007FF7777D1AB6]\n\t(No symbol) [0x00007FF777807300]\n\t(No symbol) [0x00007FF77782F2BB]\n\t(No symbol) [0x00007FF777806EC3]\n\t(No symbol) [0x00007FF7777D03F8]\n\t(No symbol) [0x00007FF7777D1163]\n\tGetHandleVerifier [0x00007FF777C7EF0D+2870973]\n\tGetHandleVerifier [0x00007FF777C796B8+2848360]\n\tGetHandleVerifier [0x00007FF777C96993+2967875]\n\tGetHandleVerifier [0x00007FF7779F019A+188746]\n\tGetHandleVerifier [0x00007FF7779F847F+222255]\n\tGetHandleVerifier [0x00007FF7779DD2D4+111236]\n\tGetHandleVerifier [0x00007FF7779DD482+111666]\n\tGetHandleVerifier [0x00007FF7779C35A9+5465]\n\tBaseThreadInitThunk [0x00007FFB21767374+20]\n\tRtlUserThreadStart [0x00007FFB21C5CC91+33]\n",
     "output_type": "error",
     "traceback": [
      "\u001b[31m---------------------------------------------------------------------------\u001b[39m",
      "\u001b[31mElementClickInterceptedException\u001b[39m          Traceback (most recent call last)",
      "\u001b[36mCell\u001b[39m\u001b[36m \u001b[39m\u001b[32mIn[121]\u001b[39m\u001b[32m, line 14\u001b[39m\n\u001b[32m     12\u001b[39m \u001b[38;5;28;01mfor\u001b[39;00m opt \u001b[38;5;129;01min\u001b[39;00m op_type_options:\n\u001b[32m     13\u001b[39m     \u001b[38;5;28;01mif\u001b[39;00m buy_rent_projects_chosen.lower() \u001b[38;5;129;01min\u001b[39;00m opt.text.strip().lower():\n\u001b[32m---> \u001b[39m\u001b[32m14\u001b[39m         \u001b[43mopt\u001b[49m\u001b[43m.\u001b[49m\u001b[43mclick\u001b[49m\u001b[43m(\u001b[49m\u001b[43m)\u001b[49m\n\u001b[32m     15\u001b[39m         \u001b[38;5;28;01mbreak\u001b[39;00m\n\u001b[32m     17\u001b[39m \u001b[38;5;66;03m# --- SELECTION DU TYPE DE BIEN ---\u001b[39;00m\n",
      "\u001b[36mFile \u001b[39m\u001b[32mc:\\Users\\f.gionnane\\Documents\\Selenium\\fincaraiz Search\\env\\Lib\\site-packages\\selenium\\webdriver\\remote\\webelement.py:119\u001b[39m, in \u001b[36mWebElement.click\u001b[39m\u001b[34m(self)\u001b[39m\n\u001b[32m    111\u001b[39m \u001b[38;5;28;01mdef\u001b[39;00m\u001b[38;5;250m \u001b[39m\u001b[34mclick\u001b[39m(\u001b[38;5;28mself\u001b[39m) -> \u001b[38;5;28;01mNone\u001b[39;00m:\n\u001b[32m    112\u001b[39m \u001b[38;5;250m    \u001b[39m\u001b[33;03m\"\"\"Clicks the element.\u001b[39;00m\n\u001b[32m    113\u001b[39m \n\u001b[32m    114\u001b[39m \u001b[33;03m    Example:\u001b[39;00m\n\u001b[32m   (...)\u001b[39m\u001b[32m    117\u001b[39m \u001b[33;03m    >>> element.click()\u001b[39;00m\n\u001b[32m    118\u001b[39m \u001b[33;03m    \"\"\"\u001b[39;00m\n\u001b[32m--> \u001b[39m\u001b[32m119\u001b[39m     \u001b[38;5;28;43mself\u001b[39;49m\u001b[43m.\u001b[49m\u001b[43m_execute\u001b[49m\u001b[43m(\u001b[49m\u001b[43mCommand\u001b[49m\u001b[43m.\u001b[49m\u001b[43mCLICK_ELEMENT\u001b[49m\u001b[43m)\u001b[49m\n",
      "\u001b[36mFile \u001b[39m\u001b[32mc:\\Users\\f.gionnane\\Documents\\Selenium\\fincaraiz Search\\env\\Lib\\site-packages\\selenium\\webdriver\\remote\\webelement.py:572\u001b[39m, in \u001b[36mWebElement._execute\u001b[39m\u001b[34m(self, command, params)\u001b[39m\n\u001b[32m    570\u001b[39m     params = {}\n\u001b[32m    571\u001b[39m params[\u001b[33m\"\u001b[39m\u001b[33mid\u001b[39m\u001b[33m\"\u001b[39m] = \u001b[38;5;28mself\u001b[39m._id\n\u001b[32m--> \u001b[39m\u001b[32m572\u001b[39m \u001b[38;5;28;01mreturn\u001b[39;00m \u001b[38;5;28;43mself\u001b[39;49m\u001b[43m.\u001b[49m\u001b[43m_parent\u001b[49m\u001b[43m.\u001b[49m\u001b[43mexecute\u001b[49m\u001b[43m(\u001b[49m\u001b[43mcommand\u001b[49m\u001b[43m,\u001b[49m\u001b[43m \u001b[49m\u001b[43mparams\u001b[49m\u001b[43m)\u001b[49m\n",
      "\u001b[36mFile \u001b[39m\u001b[32mc:\\Users\\f.gionnane\\Documents\\Selenium\\fincaraiz Search\\env\\Lib\\site-packages\\selenium\\webdriver\\remote\\webdriver.py:429\u001b[39m, in \u001b[36mWebDriver.execute\u001b[39m\u001b[34m(self, driver_command, params)\u001b[39m\n\u001b[32m    427\u001b[39m response = \u001b[38;5;28mself\u001b[39m.command_executor.execute(driver_command, params)\n\u001b[32m    428\u001b[39m \u001b[38;5;28;01mif\u001b[39;00m response:\n\u001b[32m--> \u001b[39m\u001b[32m429\u001b[39m     \u001b[38;5;28;43mself\u001b[39;49m\u001b[43m.\u001b[49m\u001b[43merror_handler\u001b[49m\u001b[43m.\u001b[49m\u001b[43mcheck_response\u001b[49m\u001b[43m(\u001b[49m\u001b[43mresponse\u001b[49m\u001b[43m)\u001b[49m\n\u001b[32m    430\u001b[39m     response[\u001b[33m\"\u001b[39m\u001b[33mvalue\u001b[39m\u001b[33m\"\u001b[39m] = \u001b[38;5;28mself\u001b[39m._unwrap_value(response.get(\u001b[33m\"\u001b[39m\u001b[33mvalue\u001b[39m\u001b[33m\"\u001b[39m, \u001b[38;5;28;01mNone\u001b[39;00m))\n\u001b[32m    431\u001b[39m     \u001b[38;5;28;01mreturn\u001b[39;00m response\n",
      "\u001b[36mFile \u001b[39m\u001b[32mc:\\Users\\f.gionnane\\Documents\\Selenium\\fincaraiz Search\\env\\Lib\\site-packages\\selenium\\webdriver\\remote\\errorhandler.py:232\u001b[39m, in \u001b[36mErrorHandler.check_response\u001b[39m\u001b[34m(self, response)\u001b[39m\n\u001b[32m    230\u001b[39m         alert_text = value[\u001b[33m\"\u001b[39m\u001b[33malert\u001b[39m\u001b[33m\"\u001b[39m].get(\u001b[33m\"\u001b[39m\u001b[33mtext\u001b[39m\u001b[33m\"\u001b[39m)\n\u001b[32m    231\u001b[39m     \u001b[38;5;28;01mraise\u001b[39;00m exception_class(message, screen, stacktrace, alert_text)  \u001b[38;5;66;03m# type: ignore[call-arg]  # mypy is not smart enough here\u001b[39;00m\n\u001b[32m--> \u001b[39m\u001b[32m232\u001b[39m \u001b[38;5;28;01mraise\u001b[39;00m exception_class(message, screen, stacktrace)\n",
      "\u001b[31mElementClickInterceptedException\u001b[39m: Message: element click intercepted: Element <div aria-selected=\"false\" class=\"ant-select-item ant-select-item-option\" title=\"Arriendo\">...</div> is not clickable at point (335, 478). Other element would receive the click: <input type=\"text\" class=\"location-search__input\" placeholder=\"🔍︎ Busca por ubicación\" value=\"\">\n  (Session info: chrome=135.0.7049.96)\nStacktrace:\n\tGetHandleVerifier [0x00007FF7779D5355+78597]\n\tGetHandleVerifier [0x00007FF7779D53B0+78688]\n\t(No symbol) [0x00007FF7777891AA]\n\t(No symbol) [0x00007FF7777E7089]\n\t(No symbol) [0x00007FF7777E4A42]\n\t(No symbol) [0x00007FF7777E1AE1]\n\t(No symbol) [0x00007FF7777E0A42]\n\t(No symbol) [0x00007FF7777D2204]\n\t(No symbol) [0x00007FF7778070EA]\n\t(No symbol) [0x00007FF7777D1AB6]\n\t(No symbol) [0x00007FF777807300]\n\t(No symbol) [0x00007FF77782F2BB]\n\t(No symbol) [0x00007FF777806EC3]\n\t(No symbol) [0x00007FF7777D03F8]\n\t(No symbol) [0x00007FF7777D1163]\n\tGetHandleVerifier [0x00007FF777C7EF0D+2870973]\n\tGetHandleVerifier [0x00007FF777C796B8+2848360]\n\tGetHandleVerifier [0x00007FF777C96993+2967875]\n\tGetHandleVerifier [0x00007FF7779F019A+188746]\n\tGetHandleVerifier [0x00007FF7779F847F+222255]\n\tGetHandleVerifier [0x00007FF7779DD2D4+111236]\n\tGetHandleVerifier [0x00007FF7779DD482+111666]\n\tGetHandleVerifier [0x00007FF7779C35A9+5465]\n\tBaseThreadInitThunk [0x00007FFB21767374+20]\n\tRtlUserThreadStart [0x00007FFB21C5CC91+33]\n"
     ]
    }
   ],
   "source": [
    "# --- OUVRIR LE SELECTEUR D'OPERATION ---\n",
    "op_type_selector = wait.until(EC.element_to_be_clickable((\n",
    "    By.CSS_SELECTOR, \".operation-type-filter .ant-select-selector\"\n",
    ")))\n",
    "op_type_selector.click()\n",
    "\n",
    "# --- ATTENDRE ET CLIQUER SUR LA BONNE OPTION ---\n",
    "op_type_options = wait.until(EC.presence_of_all_elements_located((\n",
    "    By.CSS_SELECTOR, \"div.ant-select-dropdown:not([style*='display: none']) .ant-select-item-option\"\n",
    ")))\n",
    "\n",
    "for opt in op_type_options:\n",
    "    if buy_rent_projects_chosen.lower() in opt.text.strip().lower():\n",
    "        opt.click()\n",
    "        break\n",
    "\n",
    "# --- SELECTION DU TYPE DE BIEN ---\n",
    "prop_type_selector = wait.until(EC.element_to_be_clickable((\n",
    "    By.CSS_SELECTOR, \".property-type-filter .ant-select-selector\"\n",
    ")))\n",
    "prop_type_selector.click()\n",
    "time.sleep(0.3)\n",
    "\n",
    "prop_type_options = wait.until(EC.presence_of_all_elements_located((\n",
    "    By.CSS_SELECTOR, \"div.ant-select-dropdown:not([style*='display: none']) .ant-select-item-option\"\n",
    ")))\n",
    "\n",
    "# SELECTION / DESELECTION SELON CONFIG\n",
    "for option in prop_type_options:\n",
    "    label = option.text.strip().lower()\n",
    "    is_selected = \"ant-select-item-option-selected\" in option.get_attribute(\"class\")\n",
    "    should_be_selected = any(label == wanted.lower() for wanted in property_type_wanted)\n",
    "\n",
    "    if should_be_selected and not is_selected:\n",
    "        option.click()\n",
    "    elif not should_be_selected and is_selected:\n",
    "        option.click()"
   ]
  },
  {
   "cell_type": "code",
   "execution_count": 110,
   "id": "dab3c20d",
   "metadata": {},
   "outputs": [
    {
     "name": "stdout",
     "output_type": "stream",
     "text": [
      "<selenium.webdriver.remote.webelement.WebElement (session=\"8c4d4d0cd0c89ba8610be83eb60794cb\", element=\"f.892DAC234AD5C098ADD4B9C8E28DF955.d.B13457649829E35B6C3084CBFB5B83E8.e.15948\")>\n"
     ]
    },
    {
     "data": {
      "text/plain": [
       "{'class': 'filter operation-type-filter'}"
      ]
     },
     "execution_count": 110,
     "metadata": {},
     "output_type": "execute_result"
    }
   ],
   "source": [
    "radio_pannel = wait.until(EC.presence_of_element_located((By.XPATH,'//*[@id=\"home-container\"]/section[1]/div[1]/div[2]/form/div/div[1]/div')))\n",
    "enfants = find_child_elements(radio_pannel)\n",
    "for enf in enfants:\n",
    "    print(enf)\n",
    "\n",
    "get_all_attributes(enf,driver)"
   ]
  },
  {
   "cell_type": "code",
   "execution_count": null,
   "id": "1b3740dc",
   "metadata": {},
   "outputs": [],
   "source": [
    "operation_type_filter = wait.until(EC.presence_of_element_located((\n",
    "    By.XPATH, \"//div[contains(@class, 'filter') and contains(@class, 'operation-type-filter')]\"\n",
    ")))"
   ]
  },
  {
   "cell_type": "code",
   "execution_count": 93,
   "id": "8b1b5084",
   "metadata": {},
   "outputs": [
    {
     "name": "stdout",
     "output_type": "stream",
     "text": [
      "⏳ Tentative de suppression du popup Fincaraiz...\n",
      "🧨 Pop-up Fincaraiz supprimé.\n"
     ]
    }
   ],
   "source": [
    "if search_url is not None:\n",
    "    driver.get(search_url)\n",
    "    nuke_fincaraiz_cookie_popup(driver)\n",
    "choisir_type_annonce(buy_rent_projects_chosen=buy_rent_projects_chosen, driver=driver)\n",
    "search_url = driver.current_url"
   ]
  },
  {
   "cell_type": "markdown",
   "id": "4b0bb94f",
   "metadata": {},
   "source": [
    "Type of Real Estate"
   ]
  },
  {
   "cell_type": "code",
   "execution_count": 118,
   "id": "bd7ab6dc",
   "metadata": {},
   "outputs": [
    {
     "name": "stdout",
     "output_type": "stream",
     "text": [
      "[]\n"
     ]
    }
   ],
   "source": [
    "property_type_wanted = ['Casa']\n",
    "\n",
    "list_title = []\n",
    "\n",
    "try:\n",
    "    # Attente explicite pour que l'élément soit présent\n",
    "    selector_span = wait.until(\n",
    "        EC.presence_of_element_located((By.CSS_SELECTOR, '.ant-select-selection-search-input'))\n",
    "    )\n",
    "\n",
    "    # Attendre que le dropdown soit visible\n",
    "    selector = wait.until(EC.presence_of_element_located((By.XPATH, \"//div[@class='ant-select-selector']\")))\n",
    "\n",
    "    # Vérifier si le dropdown est déjà ouvert\n",
    "    selector_expanded_value = selector_span.get_attribute(\"aria-expanded\")\n",
    "\n",
    "    # Si le dropdown est fermé, l'ouvrir\n",
    "    if selector_expanded_value == \"false\":\n",
    "        print(\"L'attribut 'aria-expanded' est:\", selector_expanded_value)\n",
    "        selector_expanded_value = selector_span.get_attribute(\"aria-expanded\")\n",
    "        print(\"Clicked on Selector ! Valeur Aria expanded:\", selector_expanded_value)\n",
    "        selector.click()\n",
    "        time.sleep(2)\n",
    "\n",
    "\n",
    "except Exception as e:\n",
    "    print(f\"Une erreur s'est produite : {e}\")\n",
    "\n",
    "# Affichage des titres des éléments sélectionnés\n",
    "print(list_title)"
   ]
  },
  {
   "cell_type": "code",
   "execution_count": 83,
   "id": "9bf0fb99",
   "metadata": {},
   "outputs": [
    {
     "name": "stdout",
     "output_type": "stream",
     "text": [
      "Erreur : Message: element not interactable: [object HTMLDivElement] has no size and location\n",
      "  (Session info: chrome=135.0.7049.96)\n",
      "Stacktrace:\n",
      "\tGetHandleVerifier [0x00007FF7779D5355+78597]\n",
      "\tGetHandleVerifier [0x00007FF7779D53B0+78688]\n",
      "\t(No symbol) [0x00007FF7777891AA]\n",
      "\t(No symbol) [0x00007FF777790ABC]\n",
      "\t(No symbol) [0x00007FF777793B1C]\n",
      "\t(No symbol) [0x00007FF777793BEF]\n",
      "\t(No symbol) [0x00007FF7777E6444]\n",
      "\t(No symbol) [0x00007FF7777E56A0]\n",
      "\t(No symbol) [0x00007FF77783A591]\n",
      "\t(No symbol) [0x00007FF7778070EA]\n",
      "\t(No symbol) [0x00007FF77782F2BB]\n",
      "\t(No symbol) [0x00007FF777806EC3]\n",
      "\t(No symbol) [0x00007FF7777D03F8]\n",
      "\t(No symbol) [0x00007FF7777D1163]\n",
      "\tGetHandleVerifier [0x00007FF777C7EF0D+2870973]\n",
      "\tGetHandleVerifier [0x00007FF777C796B8+2848360]\n",
      "\tGetHandleVerifier [0x00007FF777C96993+2967875]\n",
      "\tGetHandleVerifier [0x00007FF7779F019A+188746]\n",
      "\tGetHandleVerifier [0x00007FF7779F847F+222255]\n",
      "\tGetHandleVerifier [0x00007FF7779DD2D4+111236]\n",
      "\tGetHandleVerifier [0x00007FF7779DD482+111666]\n",
      "\tGetHandleVerifier [0x00007FF7779C35A9+5465]\n",
      "\tBaseThreadInitThunk [0x00007FFB21767374+20]\n",
      "\tRtlUserThreadStart [0x00007FFB21C5CC91+33]\n",
      "\n",
      "['Casa', 'Casa']\n"
     ]
    }
   ],
   "source": [
    "from selenium.webdriver.common.action_chains import ActionChains\n",
    "from selenium.webdriver.support.ui import WebDriverWait\n",
    "from selenium.webdriver.support import expected_conditions as EC\n",
    "\n",
    "try:\n",
    "    # Attente explicite pour l'élément de recherche\n",
    "    selector_span = wait.until(\n",
    "        EC.presence_of_element_located((By.CSS_SELECTOR, '.ant-select-selection-search-input'))\n",
    "    )\n",
    "\n",
    "    selector = wait.until(\n",
    "        EC.presence_of_element_located((By.XPATH, \"//div[@class='ant-select-selector']\"))\n",
    "    )\n",
    "\n",
    "    # Vérification de l'attribut 'aria-expanded'\n",
    "    selector_expanded_value = selector_span.get_attribute(\"aria-expanded\")\n",
    "\n",
    "    # Si aria-expanded est false, on clique pour ouvrir la liste\n",
    "    if selector_expanded_value == \"false\":\n",
    "        print(\"L'attribut 'aria-expanded' est:\", selector_expanded_value)\n",
    "        selector.click()\n",
    "        time.sleep(2)\n",
    "\n",
    "    # Attente pour obtenir tous les éléments\n",
    "    choices = wait.until(\n",
    "        EC.presence_of_all_elements_located((By.CSS_SELECTOR, 'div.ant-select-item'))\n",
    "    )\n",
    "\n",
    "    for choice in choices:\n",
    "        title = choice.get_attribute('title')\n",
    "        aria_selected = choice.get_attribute('aria-selected')\n",
    "\n",
    "        # Si aria-selected est \"false\" et que le titre correspond, on clique\n",
    "        for query in property_type_wanted:\n",
    "            if aria_selected == \"false\" and query.lower() in title.lower():\n",
    "                # Faire défiler l'élément dans la fenêtre\n",
    "                actions = ActionChains(driver)\n",
    "                actions.move_to_element(choice).perform()\n",
    "\n",
    "                # Attendre que l'élément soit cliquable\n",
    "                wait.until(EC.element_to_be_clickable(choice))\n",
    "\n",
    "                # Cliquer sur l'élément\n",
    "                choice.click()\n",
    "                print(f\"Propriété sélectionnée : {title}\")\n",
    "                time.sleep(1)\n",
    "\n",
    "            # Si aria-selected est \"true\" et que le titre ne correspond pas, on clique pour désélectionner\n",
    "            elif aria_selected == \"true\" and query.lower() not in title.lower():\n",
    "                # Faire défiler l'élément dans la fenêtre\n",
    "                actions = ActionChains(driver)\n",
    "                actions.move_to_element(choice).perform()\n",
    "\n",
    "                # Attendre que l'élément soit cliquable\n",
    "                wait.until(EC.element_to_be_clickable(choice))\n",
    "\n",
    "                # Cliquer sur l'élément\n",
    "                choice.click()\n",
    "                print(f\"Propriété désélectionnée : {title}\")\n",
    "                time.sleep(1)\n",
    "\n",
    "except Exception as e:\n",
    "    print(f\"Erreur : {e}\")\n",
    "\n",
    "# Afficher les titres des éléments sélectionnés\n",
    "print(list_title)\n"
   ]
  },
  {
   "cell_type": "code",
   "execution_count": 27,
   "id": "11c4f2ca",
   "metadata": {},
   "outputs": [
    {
     "name": "stdout",
     "output_type": "stream",
     "text": [
      "NO\n"
     ]
    }
   ],
   "source": [
    "enfants = find_child_elements(ant_selector)\n",
    "try:\n",
    "        # Trouver l'élément div avec la classe donnée\n",
    "    element = driver.find_element(By.CSS_SELECTOR, \"div.ant-select.ant-select-multiple.ant-select-show-arrow.ant-select-open.ant-select-show-search\")\n",
    "\n",
    "    # Afficher l'élément ou faire d'autres actions\n",
    "    print(element)\n",
    "    print(element.get_attribute('style'))\n",
    "except :\n",
    "    print(\"NO\")"
   ]
  },
  {
   "cell_type": "code",
   "execution_count": 65,
   "id": "e7a7dfbf",
   "metadata": {},
   "outputs": [
    {
     "name": "stdout",
     "output_type": "stream",
     "text": [
      "{'class': 'ant-select-selector'}\n"
     ]
    }
   ],
   "source": [
    "def get_all_attributes(driver, element):\n",
    "    return driver.execute_script(\"\"\"\n",
    "        let elem = arguments[0];\n",
    "        let attrs = {}; \n",
    "        for (let attr of elem.attributes) { \n",
    "            attrs[attr.name] = attr.value \n",
    "        } \n",
    "        return attrs;\n",
    "    \"\"\", element)\n",
    "\n",
    "# Exemple d’utilisation :\n",
    "attributes = get_all_attributes(driver, enfants[0])\n",
    "print(attributes)\n"
   ]
  },
  {
   "cell_type": "code",
   "execution_count": 19,
   "id": "2aae969b",
   "metadata": {},
   "outputs": [
    {
     "name": "stdout",
     "output_type": "stream",
     "text": [
      "❌ Désélectionné : Venta\n",
      "❌ Corrigé (désélection) : \n",
      "🎯 Sélection vérifiée et corrigée.\n"
     ]
    }
   ],
   "source": [
    "real_estate_types = [\"apartamento\", \"apartaestudio\"]\n",
    "select_real_estate_types(driver, real_estate_types)"
   ]
  },
  {
   "cell_type": "code",
   "execution_count": null,
   "id": "fb50857b",
   "metadata": {},
   "outputs": [
    {
     "name": "stdout",
     "output_type": "stream",
     "text": [
      "✅ Option trouvée :\n",
      "Santa marta\n",
      "Magdalena\n"
     ]
    }
   ],
   "source": [
    "chosen_location = \"Santa Marta\"\n",
    "\n",
    "try:\n",
    "    # Trouver le champ de recherche\n",
    "    location_field = driver.find_element(By.XPATH, \"//input[@placeholder='🔍︎ Busca por ubicación']\")\n",
    "    \n",
    "    # Entrer la localisation\n",
    "    location_field.clear()\n",
    "    location_field.send_keys(chosen_location)\n",
    "    time.sleep(1)\n",
    "\n",
    "    # Vérifier si le champ contient bien la bonne valeur\n",
    "    current_value = location_field.get_attribute(\"value\")\n",
    "    if current_value.strip().lower() != chosen_location.strip().lower():\n",
    "        print(f\"[!] Correction du champ: attendu '{chosen_location}', trouvé '{current_value}'\")\n",
    "        location_field.clear()\n",
    "        location_field.send_keys(chosen_location)\n",
    "        time.sleep(random.uniform(2, 3))\n",
    "\n",
    "    # Attendre l'apparition de la liste des options\n",
    "    WebDriverWait(driver, 5).until(\n",
    "        EC.presence_of_element_located((By.CSS_SELECTOR, \"ul.location-search__options-list\"))\n",
    "    )\n",
    "\n",
    "    try:\n",
    "            # Attendre et localiser l'option contenant le bon texte\n",
    "        element = WebDriverWait(driver, 5).until(\n",
    "        EC.presence_of_element_located((\n",
    "            By.XPATH,\n",
    "            f'''//li[contains(@class, \"location-search__options-list--item\") \n",
    "                and contains(translate(., 'ABCDEFGHIJKLMNOPQRSTUVWXYZ', 'abcdefghijklmnopqrstuvwxyz'), \n",
    "                \"{chosen_location.lower()}\")]'''\n",
    "        ))\n",
    "    )\n",
    "        element.click()\n",
    "    except:\n",
    "        print(\"No match\")\n",
    "\n",
    "    # Récupérer et afficher le texte\n",
    "    texte_affiche = element.text\n",
    "    print(f\"✅ Option trouvée :\\n{texte_affiche}\")\n",
    "\n",
    "\n",
    "except Exception as e:\n",
    "    print(\"[ERREUR]\", str(e))\n"
   ]
  },
  {
   "cell_type": "code",
   "execution_count": null,
   "id": "c2520378",
   "metadata": {},
   "outputs": [],
   "source": [
    "search_button.click()\n",
    "time.sleep(1)"
   ]
  },
  {
   "cell_type": "code",
   "execution_count": 28,
   "id": "6e911d20",
   "metadata": {},
   "outputs": [],
   "source": [
    "location_field_2 = driver.find_element(By.XPATH, \"//div[@class='topBarFilters__searchKeyword']//input[@placeholder='🔍︎ Busca por ubicación']\")\n",
    "location_field_2_value = location_field_2.get_attribute('value')\n",
    "if location_field_2_value != chosen_location:\n",
    "    location_field_2.send_keys(chosen_location)\n",
    "    time.sleep(random.uniform(2,3))\n",
    "    location_field_2.send_keys(Keys.ENTER)\n"
   ]
  },
  {
   "cell_type": "code",
   "execution_count": 9,
   "id": "695813a1",
   "metadata": {},
   "outputs": [],
   "source": [
    "real_estate_types_string = \"-\".join(str(i) for i in real_estate_types)\n",
    "json_file = {}\n",
    "file_name = \"urls.json\"\n",
    "search_page_name = f\"{chosen_location.replace(' ', '_') if chosen_location is not None else ''}_{real_estate_types_string}_{buy_rent_projects_chosen}\"\n",
    "json_file[search_page_name] = driver.current_url\n",
    "# Ouverture du fichier en mode écriture et sauvegarde du dictionnaire en format JSON\n",
    "with open(file_name, 'w') as f:\n",
    "    json.dump(json_file, f, indent=4)  # 'indent' pour un format plus lisible"
   ]
  },
  {
   "cell_type": "code",
   "execution_count": 11,
   "id": "e43841ec",
   "metadata": {},
   "outputs": [
    {
     "name": "stdout",
     "output_type": "stream",
     "text": [
      "⏳ Tentative de suppression du popup Fincaraiz...\n",
      "🧨 Pop-up Fincaraiz supprimé.\n"
     ]
    }
   ],
   "source": [
    "driver.refresh()\n",
    "nuke_fincaraiz_cookie_popup(driver)"
   ]
  },
  {
   "cell_type": "code",
   "execution_count": 15,
   "id": "2cc92a7b",
   "metadata": {},
   "outputs": [
    {
     "name": "stdout",
     "output_type": "stream",
     "text": [
      "Dernière page : 50\n",
      "URL : https://www.fincaraiz.com.co/arriendo/apartamentos-y-apartaestudios/pagina50\n"
     ]
    }
   ],
   "source": [
    "# Récupérer tous les liens de pagination avec un numéro (on filtre ceux qui ont juste un nombre comme texte)\n",
    "pagination_links = driver.find_elements(By.XPATH, '//a[@class=\"ant-pagination-item-link CO\" and string(number(text()))!=\"NaN\"]')\n",
    "\n",
    "# Extraire les numéros\n",
    "page_numbers = [(link, int(link.text)) for link in pagination_links if link.text.isdigit()]\n",
    "\n",
    "# Trier les numéros (par sécurité)\n",
    "page_numbers.sort(key=lambda x: x[1])\n",
    "\n",
    "# Prendre le plus grand (dernier bouton de pagination)\n",
    "dernier_lien, numero_page = page_numbers[-1]\n",
    "\n",
    "# Afficher ou cliquer\n",
    "print(f\"Dernière page : {numero_page}\")\n",
    "print(f\"URL : {dernier_lien.get_attribute('href')}\")\n",
    "\n",
    "# Tu peux aussi faire : dernier_lien.click()\n"
   ]
  },
  {
   "cell_type": "code",
   "execution_count": 14,
   "id": "e49f9673",
   "metadata": {},
   "outputs": [
    {
     "data": {
      "text/plain": [
       "'2'"
      ]
     },
     "execution_count": 14,
     "metadata": {},
     "output_type": "execute_result"
    }
   ],
   "source": [
    "last_page = driver.find_element(By.CSS_SELECTOR, \"a.ant-pagination-item-link\")\n",
    "last_page.text"
   ]
  },
  {
   "cell_type": "code",
   "execution_count": 10,
   "id": "c099dd77",
   "metadata": {},
   "outputs": [
    {
     "name": "stdout",
     "output_type": "stream",
     "text": [
      "Nombre d'éléments trouvés: 21\n",
      "Annonce ID: 01JS92B2V0DS40CXY6P2PEG4RD\n",
      "Title: Apartamento en  Arriendo\n",
      "Price: $ 1.300.000\n",
      "Rooms: 3 Habs.\n",
      "Bathrooms: 2 Baños\n",
      "Area: 63 m²\n",
      "Location: \n",
      "Owner: \n",
      "Link to Details: https://www.fincaraiz.com.co/apartamento-en-arriendo/192036228\n",
      "\n",
      "\n",
      "Annonce ID: 01JS92B2X7TGQJ94B504QW2K9V\n",
      "Title: Apartaestudio en Arriendo\n",
      "Price: $ 1.650.000\n",
      "Rooms: 1 Habs.\n",
      "Bathrooms: 1 Baño\n",
      "Area: 36 m²\n",
      "Location: \n",
      "Owner: \n",
      "Link to Details: https://www.fincaraiz.com.co/apartaestudio-en-arriendo/192281137\n",
      "\n",
      "\n",
      "Annonce ID: 01JS92B305S7JXED5ZKB6W0XFV\n",
      "Title: Apartamento en  Arriendo\n",
      "Price: \n",
      "Rooms: \n",
      "Bathrooms: \n",
      "Area: \n",
      "Location: \n",
      "Owner: \n",
      "Link to Details: https://www.fincaraiz.com.co/apartamento-en-arriendo/192223358\n",
      "\n",
      "\n",
      "Annonce ID: 01JS92B31SP2M2N6ZM7Z18H15J\n",
      "Title: Apartamento en arriendo\n",
      "Price: \n",
      "Rooms: \n",
      "Bathrooms: \n",
      "Area: \n",
      "Location: \n",
      "Owner: \n",
      "Link to Details: https://www.fincaraiz.com.co/apartamento-en-arriendo/10237322\n",
      "\n",
      "\n",
      "Annonce ID: 01JS92B33CH16Y3GMN41WZKH0J\n",
      "Title: Apartamento en  Arriendo\n",
      "Price: \n",
      "Rooms: \n",
      "Bathrooms: \n",
      "Area: \n",
      "Location: \n",
      "Owner: \n",
      "Link to Details: https://www.fincaraiz.com.co/apartamento-en-arriendo/192241701\n",
      "\n",
      "\n",
      "Annonce ID: 01JS92B34X1SQPD0SQ9ZVHSX8R\n",
      "Title: Apartaestudio en  Arriendo\n",
      "Price: \n",
      "Rooms: \n",
      "Bathrooms: \n",
      "Area: \n",
      "Location: \n",
      "Owner: \n",
      "Link to Details: https://www.fincaraiz.com.co/apartaestudio-en-arriendo/192133186\n",
      "\n",
      "\n",
      "Annonce ID: 01JS92B3706YAXVW88YWKEE1P2\n",
      "Title: Apartamento en Arriendo en Villa Campestre, Riomar, Barranquilla\n",
      "Price: \n",
      "Rooms: \n",
      "Bathrooms: \n",
      "Area: \n",
      "Location: \n",
      "Owner: \n",
      "Link to Details: https://www.fincaraiz.com.co/apartamento-en-arriendo-en-villa-campestre-riomar-barranquilla/192277739\n",
      "\n",
      "\n",
      "Annonce ID: 01JS92B391MFPHB25Y8FJ6K42Y\n",
      "Title: Apartaestudio en  Arriendo\n",
      "Price: \n",
      "Rooms: \n",
      "Bathrooms: \n",
      "Area: \n",
      "Location: \n",
      "Owner: \n",
      "Link to Details: https://www.fincaraiz.com.co/apartaestudio-en-arriendo/191897736\n",
      "\n",
      "\n",
      "Annonce ID: 01JS92B3AK8JVC7EWA1HVN1E6N\n",
      "Title: Apartamento en  Arriendo\n",
      "Price: \n",
      "Rooms: \n",
      "Bathrooms: \n",
      "Area: \n",
      "Location: \n",
      "Owner: \n",
      "Link to Details: https://www.fincaraiz.com.co/apartamento-en-arriendo/191795262\n",
      "\n",
      "\n",
      "Annonce ID: 01JS92B3C1B7FTH9YBTBFRPGZN\n",
      "Title: Apartamento en  Arriendo\n",
      "Price: \n",
      "Rooms: \n",
      "Bathrooms: \n",
      "Area: \n",
      "Location: \n",
      "Owner: \n",
      "Link to Details: https://www.fincaraiz.com.co/apartamento-en-arriendo/192164893\n",
      "\n",
      "\n",
      "Annonce ID: 01JS92B3DHFB6VCFKNCBS0354Y\n",
      "Title: Apartamento en Arriendo en Calle del banco, Sabaneta\n",
      "Price: \n",
      "Rooms: \n",
      "Bathrooms: \n",
      "Area: \n",
      "Location: \n",
      "Owner: \n",
      "Link to Details: https://www.fincaraiz.com.co/apartamento-en-arriendo-en-calle-del-banco-sabaneta/192262517\n",
      "\n",
      "\n",
      "Annonce ID: 01JS92B3F3NDEP1P34JAQJ2AV2\n",
      "Title: Apartamento en  Arriendo\n",
      "Price: \n",
      "Rooms: \n",
      "Bathrooms: \n",
      "Area: \n",
      "Location: \n",
      "Owner: \n",
      "Link to Details: https://www.fincaraiz.com.co/apartamento-en-arriendo/191651924\n",
      "\n",
      "\n",
      "Annonce ID: 01JS92B3GJF6CK2W6PF71V19K7\n",
      "Title: Apartamento en  Arriendo\n",
      "Price: \n",
      "Rooms: \n",
      "Bathrooms: \n",
      "Area: \n",
      "Location: \n",
      "Owner: \n",
      "Link to Details: https://www.fincaraiz.com.co/apartamento-en-arriendo/192142987\n",
      "\n",
      "\n",
      "Annonce ID: 01JS92B3J5BV02GNKHGVWCQ8AP\n",
      "Title: Apartamento en  Arriendo\n",
      "Price: \n",
      "Rooms: \n",
      "Bathrooms: \n",
      "Area: \n",
      "Location: \n",
      "Owner: \n",
      "Link to Details: https://www.fincaraiz.com.co/apartamento-en-arriendo/192235225\n",
      "\n",
      "\n",
      "Annonce ID: 01JS92B3N0PY5Y82920E8183Z3\n",
      "Title: Apartamento en  Arriendo\n",
      "Price: \n",
      "Rooms: \n",
      "Bathrooms: \n",
      "Area: \n",
      "Location: \n",
      "Owner: \n",
      "Link to Details: https://www.fincaraiz.com.co/apartamento-en-arriendo/192120756\n",
      "\n",
      "\n",
      "Annonce ID: 01JS92B3Q4DA56YA1SQJ5TXVKS\n",
      "Title: Apartamento en Arriendo en Verbenal san antonio, Zona norte, Bogotá\n",
      "Price: \n",
      "Rooms: \n",
      "Bathrooms: \n",
      "Area: \n",
      "Location: \n",
      "Owner: \n",
      "Link to Details: https://www.fincaraiz.com.co/apartamento-en-arriendo-en-verbenal-san-antonio-zona-norte-bogota/192254426\n",
      "\n",
      "\n",
      "Annonce ID: 01JS92B3RNSMA3Q0ZGB6E25GSP\n",
      "Title: Apartamento en  Arriendo\n",
      "Price: \n",
      "Rooms: \n",
      "Bathrooms: \n",
      "Area: \n",
      "Location: \n",
      "Owner: \n",
      "Link to Details: https://www.fincaraiz.com.co/apartamento-en-arriendo/191917309\n",
      "\n",
      "\n",
      "Annonce ID: 01JS92B3T5KVP74END4RSYSNF1\n",
      "Title: Apartamento en  Arriendo\n",
      "Price: \n",
      "Rooms: \n",
      "Bathrooms: \n",
      "Area: \n",
      "Location: \n",
      "Owner: \n",
      "Link to Details: https://www.fincaraiz.com.co/apartamento-en-arriendo/192231647\n",
      "\n",
      "\n",
      "Annonce ID: 01JS92B3VMB1XSH63MRDKS74ZN\n",
      "Title: Apartamento en  Arriendo\n",
      "Price: \n",
      "Rooms: \n",
      "Bathrooms: \n",
      "Area: \n",
      "Location: \n",
      "Owner: \n",
      "Link to Details: https://www.fincaraiz.com.co/apartamento-en-arriendo/191247498\n",
      "\n",
      "\n",
      "Annonce ID: 01JS92B3X4630TZFD11TK539Z5\n",
      "Title: Apartamento en  Arriendo\n",
      "Price: \n",
      "Rooms: \n",
      "Bathrooms: \n",
      "Area: \n",
      "Location: \n",
      "Owner: \n",
      "Link to Details: https://www.fincaraiz.com.co/apartamento-en-arriendo/192165549\n",
      "\n",
      "\n",
      "Annonce ID: 01JS92B3YH3VBVJH35YTP92GCP\n",
      "Title: Apartamento en  Arriendo\n",
      "Price: \n",
      "Rooms: \n",
      "Bathrooms: \n",
      "Area: \n",
      "Location: \n",
      "Owner: \n",
      "Link to Details: https://www.fincaraiz.com.co/apartamento-en-arriendo/191592477\n",
      "\n",
      "\n"
     ]
    }
   ],
   "source": [
    "import ulid\n",
    "\n",
    "try:\n",
    "    section_listing = driver.find_element(By.CSS_SELECTOR, \"section.listingsWrapper\")\n",
    "    # Trouver tous les éléments de classe 'listingCard'\n",
    "    listing_cards = section_listing.find_elements(By.CSS_SELECTOR, \"div.listingCard\")\n",
    "\n",
    "    # Afficher le nombre d'éléments trouvés\n",
    "    print(f\"Nombre d'éléments trouvés: {len(listing_cards)}\")\n",
    "\n",
    "    # Dictionnaire pour stocker les annonces avec une clé ULID\n",
    "    annonces_dict = {}\n",
    "\n",
    "    # Afficher les éléments extraits\n",
    "    for card in listing_cards:\n",
    "        try:\n",
    "            # Trouver le lien avec la classe 'lc-data' et récupérer l'attribut 'title'\n",
    "            title = card.find_element(By.CSS_SELECTOR, \"a.lc-data\").get_attribute(\"title\")\n",
    "        except:\n",
    "            title = \"N/A\"\n",
    "      \n",
    "        try:\n",
    "            # Extraire les informations dans les éléments <strong>\n",
    "            card_strongs = card.find_elements(By.TAG_NAME, \"strong\")\n",
    "            if len(card_strongs) >= 6:  # S'assurer qu'on a bien 6 éléments\n",
    "                price = card_strongs[0].text\n",
    "                rooms = card_strongs[1].text\n",
    "                bathrooms = card_strongs[2].text\n",
    "                area = card_strongs[3].text\n",
    "                location = card_strongs[4].text\n",
    "                owner = card_strongs[5].text\n",
    "            else:\n",
    "                price = rooms = bathrooms = area = location = owner = \"N/A\"\n",
    "        except:\n",
    "            price = rooms = bathrooms = area = location = owner = \"N/A\"\n",
    "\n",
    "        try:\n",
    "            # Trouver le lien vers les détails de l'annonce\n",
    "            link_to_details = card.find_elements(By.TAG_NAME, 'a')[0].get_attribute(\"href\")\n",
    "        except:\n",
    "            link_to_details = \"N/A\"\n",
    "\n",
    "        # Générer un ULID unique pour cette annonce\n",
    "        annonce_id = str(ulid.ulid())\n",
    "\n",
    "        # Créer un dictionnaire pour l'annonce\n",
    "        annonce_data = {\n",
    "            'title': title,\n",
    "            'price': price,\n",
    "            'rooms': rooms,\n",
    "            'bathrooms': bathrooms,\n",
    "            'area': area,\n",
    "            'location': location,\n",
    "            'owner': owner,\n",
    "            'link_to_details': link_to_details\n",
    "        }\n",
    "\n",
    "        # Ajouter cette annonce au dictionnaire avec le ULID comme clé\n",
    "        annonces_dict[annonce_id] = annonce_data\n",
    "\n",
    "        # Afficher les informations de l'annonce\n",
    "        print(f\"Annonce ID: {annonce_id}\")\n",
    "        print(f\"Title: {title}\")\n",
    "        print(f\"Price: {price}\")\n",
    "        print(f\"Rooms: {rooms}\")\n",
    "        print(f\"Bathrooms: {bathrooms}\")\n",
    "        print(f\"Area: {area}\")\n",
    "        print(f\"Location: {location}\")\n",
    "        print(f\"Owner: {owner}\")\n",
    "        print(f\"Link to Details: {link_to_details}\")\n",
    "        print(\"\\n\")\n",
    "\n",
    "except Exception as e:\n",
    "    print(f\"Erreur: {e}\")\n"
   ]
  },
  {
   "cell_type": "code",
   "execution_count": null,
   "id": "04e00263",
   "metadata": {},
   "outputs": [],
   "source": [
    "one_card = listing_cards[0]\n",
    "searched_url = driver.current_url\n",
    "link_to_details = card.find_elements(By.TAG_NAME, 'a')[0].get_attribute(\"href\")\n",
    "driver.get(link_to_details)\n",
    "nuke_fincaraiz_cookie_popup(driver)"
   ]
  },
  {
   "cell_type": "code",
   "execution_count": null,
   "id": "de1d4c9e",
   "metadata": {},
   "outputs": [],
   "source": [
    "# Trouver l'élément <span> avec la classe 'lc-title'\n",
    "title_element = driver.find_elements(By.CSS_SELECTOR, \"span.lc-title\")\n",
    "\n",
    "# Récupérer le texte de l'élément\n",
    "title_text = title_element.text\n",
    "\n",
    "# Afficher le texte récupéré\n",
    "print(title_element)\n"
   ]
  },
  {
   "cell_type": "code",
   "execution_count": null,
   "id": "54cbd6f0",
   "metadata": {},
   "outputs": [],
   "source": [
    "section_listing = driver.find_element(By.CSS_SELECTOR, \"section.listingsWrapper\")"
   ]
  },
  {
   "cell_type": "code",
   "execution_count": null,
   "id": "bf7d671f",
   "metadata": {},
   "outputs": [],
   "source": [
    "driver.get(searched_url)\n",
    "time.sleep(1)\n",
    "second_card = listing_cards[1]\n",
    "searched_url = driver.current_url\n",
    "try:\n",
    "    link_to_details = second_card.find_elements(By.TAG_NAME, 'a')\n",
    "    if link_to_details:\n",
    "        print(\"yes\")\n",
    "        driver.get(link_to_details)\n",
    "except Exception as e:\n",
    "    nuke_fincaraiz_cookie_popup(driver)"
   ]
  },
  {
   "cell_type": "code",
   "execution_count": null,
   "id": "243c60fc",
   "metadata": {},
   "outputs": [],
   "source": [
    "place_details = driver.find_elements(By.CSS_SELECTOR, \"p.jsx-3405404036\")\n",
    "Ciudad = place_details[1].text\n",
    "direccion = place_details[3].text\n"
   ]
  },
  {
   "cell_type": "code",
   "execution_count": null,
   "id": "1d22b0e5",
   "metadata": {},
   "outputs": [],
   "source": [
    "container = driver.find_element(By.XPATH,'//*[@id=\"__next\"]/div/div[2]/div/div[3]/div[2]/div[1]/div[2]/div')\n",
    "# Trouver toutes les div intérieures de cet élément\n",
    "divs_intérieures = container.find_elements(By.XPATH, './/div')\n",
    "\n",
    "# Initialiser un dictionnaire pour stocker les données\n",
    "données = {}\n",
    "\n",
    "# Itérer sur chaque div trouvée\n",
    "for index, div in enumerate(divs_intérieures):\n",
    "    # Vérifier si la div contient un texte clé et une valeur\n",
    "    text = div.text.strip()\n",
    "    if \"¡Pregúntale!\" in text:\n",
    "        value = \"Not Given\"\n",
    "    else:\n",
    "        value = text\n",
    "    # Ajouter les données au dictionnaire (en utilisant l'index comme clé)\n",
    "        # Nous pourrions vouloir un meilleur mapping, mais cela dépend de la structure des divs\n",
    "    données[f\"Div {index + 1}\"] = value\n",
    "\n",
    "# Afficher le dictionnaire résultant\n",
    "print(données)\n"
   ]
  },
  {
   "cell_type": "code",
   "execution_count": null,
   "id": "ba9870cb",
   "metadata": {},
   "outputs": [],
   "source": [
    "driver.refresh()\n",
    "nuke_fincaraiz_cookie_popup(driver)\n",
    "\n",
    "# Trouver l'élément enfant\n",
    "one_card = driver.find_element(By.XPATH, '//*[@id=\"__next\"]/div[3]/div/section/div[2]')\n",
    "\n",
    "# Récupérer le parent\n",
    "parent_element = one_card.find_element(By.XPATH, './..')\n",
    "\n",
    "# Tous les enfants ayant la classe 'listingCard'\n",
    "all_cards = [\n",
    "    el for el in parent_element.find_elements(By.XPATH, './*')\n",
    "    if 'listingCard' in el.get_attribute('class')\n",
    "]\n",
    "\n",
    "premier_enfant = all_cards[0]\n",
    "\n",
    "html_content = all_cards[0].get_attribute('outerHTML')\n",
    "\n",
    "# Application sur chaque élément dans `all_cards`\n",
    "info_list = []\n",
    "\n",
    "try:\n",
    "    # Extraire le numéro de la page\n",
    "    page_number = int(driver.find_element(By.CSS_SELECTOR, \"strong.body.body-bold\").text.split(\"-\")[1].strip())\n",
    "    print(page_number)\n",
    "except:\n",
    "    print(\"No\")\n",
    "    page_number = 0  # Si l'extraction échoue, on peut définir page_number à 0 pour éviter une erreur\n",
    "\n",
    "# Boucle pour parcourir les pages\n",
    "for iter in range(page_number):\n",
    "    nuke_fincaraiz_cookie_popup(driver)\n",
    "    time.sleep(random.uniform(2, 3))\n",
    "    # Trouver le bouton suivant pour passer à la page suivante\n",
    "    \n",
    "    # Boucle pour traiter les cartes de la page actuelle\n",
    "    for card in all_cards:\n",
    "        card_info = extract_card_info(card)\n",
    "        if card_info:\n",
    "            info_list.append(card_info)\n",
    "\n",
    "    # Si on n'est pas à la dernière page, cliquer sur le bouton \"suivant\"\n",
    "    if iter < page_number - 1:  # Vérification si ce n'est pas la dernière page\n",
    "        try:\n",
    "            next_page_button = WebDriverWait(driver, 10).until(\n",
    "                EC.element_to_be_clickable((By.XPATH, \"//a[normalize-space()='>']\"))\n",
    "            )\n",
    "            next_page_button.click()\n",
    "        except TimeoutException:\n",
    "            print(\"Le bouton suivant n'est pas cliquable.\")\n",
    "\n",
    "# Affichage des informations extraites\n",
    "for info in info_list:\n",
    "    print(info)\n"
   ]
  },
  {
   "cell_type": "code",
   "execution_count": null,
   "id": "84d5771f",
   "metadata": {},
   "outputs": [],
   "source": [
    "len(info_list)"
   ]
  },
  {
   "cell_type": "code",
   "execution_count": null,
   "id": "10ccba6d",
   "metadata": {},
   "outputs": [],
   "source": [
    "len(info_list)"
   ]
  }
 ],
 "metadata": {
  "kernelspec": {
   "display_name": "env",
   "language": "python",
   "name": "python3"
  },
  "language_info": {
   "codemirror_mode": {
    "name": "ipython",
    "version": 3
   },
   "file_extension": ".py",
   "mimetype": "text/x-python",
   "name": "python",
   "nbconvert_exporter": "python",
   "pygments_lexer": "ipython3",
   "version": "3.13.2"
  }
 },
 "nbformat": 4,
 "nbformat_minor": 5
}
