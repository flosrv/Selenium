{
 "cells": [
  {
   "cell_type": "code",
   "execution_count": 16,
   "id": "c28b8b63",
   "metadata": {},
   "outputs": [],
   "source": [
    "from imports import *\n",
    "from functions import *\n",
    "from constants import *"
   ]
  },
  {
   "cell_type": "code",
   "execution_count": 40,
   "id": "8e4868cc",
   "metadata": {},
   "outputs": [],
   "source": [
    "try:\n",
    "    driver = create_driver()\n",
    "    # Suppression de l'élément Cambiar Pais\n",
    "    driver.execute_script(\"\"\"\n",
    "    var element = document.querySelector(\"#cambiarPais\");\n",
    "    if (element) {\n",
    "        element.remove();  // Cette ligne supprime l'élément du DOM\n",
    "    }\n",
    "\"\"\")\n",
    "    driver.refresh()\n",
    "    wait = WebDriverWait(driver, 10)\n",
    "except :\n",
    "    pass"
   ]
  },
  {
   "cell_type": "markdown",
   "id": "2e10f104",
   "metadata": {},
   "source": [
    "# Connection to Account"
   ]
  },
  {
   "cell_type": "code",
   "execution_count": 41,
   "id": "2156fdc5",
   "metadata": {},
   "outputs": [
    {
     "name": "stdout",
     "output_type": "stream",
     "text": [
      "Email Input found\n",
      "Password Input found\n"
     ]
    }
   ],
   "source": [
    "\n",
    "try:\n",
    "    driver.get(website_url)\n",
    "\n",
    "    # Find Mi Cuenta and click on it\n",
    "    mi_cuenta = wait.until(EC.element_to_be_clickable((By.XPATH,\n",
    "        \"//a[contains(@title, 'Mi Cuenta')]\")))\n",
    "    if not mi_cuenta.is_selected():\n",
    "        mi_cuenta.click()\n",
    "       \n",
    "except Exception as e:\n",
    "    print(str(e))\n",
    "\n",
    "try:\n",
    "    email_input = wait.until(EC.presence_of_element_located((By.XPATH, \n",
    "                    \"//input[contains(@id, 'signin_username')]\")))\n",
    "    if email_input:\n",
    "        print(\"Email Input found\")\n",
    "        email_input.send_keys(my_email)\n",
    "        email_input.send_keys(Keys.ENTER)\n",
    "\n",
    "except Exception as e:\n",
    "    print(str(e)) \n",
    "\n",
    "try:\n",
    "    password_input = wait.until(EC.presence_of_element_located((By.XPATH, \n",
    "                    \"//input[contains(@id, 'signin_password')]\")))\n",
    "    if password_input:\n",
    "        print(\"Password Input found\")\n",
    "        password_input.send_keys(my_password)\n",
    "        password_input.send_keys(Keys.ENTER)\n",
    "\n",
    "except Exception as e:\n",
    "    print(str(e)) \n"
   ]
  },
  {
   "cell_type": "markdown",
   "id": "78548b2b",
   "metadata": {},
   "source": [
    "# Queries"
   ]
  },
  {
   "cell_type": "code",
   "execution_count": 69,
   "id": "0b1685c5",
   "metadata": {},
   "outputs": [],
   "source": [
    "QUERY_CATEGORY = \"technology\"\n",
    "QUERY_SEARCH = \"\"\n",
    "QUERY_BOOK_STATE = [\"new\"]\n",
    "\n",
    "place_category_menu = wait.until(EC.presence_of_all_elements_located((By.XPATH, \n",
    "                        \"//li[contains(@class, 'category-li') and contains(@data-category-id,'')]\")))\n"
   ]
  },
  {
   "cell_type": "code",
   "execution_count": null,
   "id": "187b514d",
   "metadata": {},
   "outputs": [],
   "source": [
    "#function to accept a string and translate it in spanish \n",
    "# put everything in lower and \n",
    "# ignore accents with unidecode return str result\n",
    "\n",
    "def process_string(query):\n",
    "    query = query.lower().strip()\n",
    "    query = unidecode(query)\n",
    "    query = GoogleTranslator(source='auto', target='es').translate(query)\n",
    "    return query\n"
   ]
  },
  {
   "cell_type": "code",
   "execution_count": null,
   "id": "620f134d",
   "metadata": {},
   "outputs": [],
   "source": [
    "# try:\n",
    "#     Categories_menu = wait.until(EC.presence_of_element_located((By.XPATH, \n",
    "#                         \"//div[contains(@class, 'categories col-left')]\")))\n",
    "#     print('Category menu Found !')\n",
    "# except Exception as e:\n",
    "#     print(f\"❌ Error: {str(e)}\")\n",
    "\n",
    "try:\n",
    "    categories = place_category_menu\n",
    "    print('Categories Found !')\n",
    "\n",
    "    if QUERY_CATEGORY:\n",
    "        query_category = process_string(QUERY_CATEGORY).strip()  # Traite la chaîne de recherche\n",
    "        print(f\"🔍 Query: {query_category}\")\n",
    "\n",
    "\n",
    "    for cat in categories:\n",
    "        category_name =cat.text.strip()\n",
    "        link = find_element(cat, \"xpath\", \".//a[contains(@itemprop, 'WPSideBar')]\")\n",
    "        category_href = link.get_attribute(\"href\")\n",
    "        print(f\"🔄 Comparing:\\n'{query_category}'\\n'{category_name}'\")\n",
    "        print(f\"🔗 Category link: {category_href}\\n\")\n",
    "        # Si une correspondance est trouvée# Si une correspondance est trouvée\n",
    "        if query_category in category_name.lower():\n",
    "            print(f\"✅ Match found! Navigating to: {category_href}\")\n",
    "            driver.get(category_href)\n",
    "            break  # Arrêter dès qu'on trouve la correspondance\n",
    "\n",
    "except Exception as e:\n",
    "    print(f\"❌ Error: {str(e)}\")"
   ]
  },
  {
   "cell_type": "code",
   "execution_count": null,
   "id": "6f045259",
   "metadata": {},
   "outputs": [],
   "source": [
    "if all(x in QUERY_BOOK_STATE for x in [\"new\", \"used\"]):\n",
    "    current_url = driver.current_url.split(\"?\")[0]\n",
    "    url_new_and_used_books =  current_url + \"?condition=nuevosyusados\"\n",
    "    driver.get(url_new_and_used_books)\n",
    "\n",
    "elif any(\"new\" in q.lower() for q in QUERY_BOOK_STATE) :\n",
    "    current_url = driver.current_url.split(\"?\")[0]\n",
    "    url_new_books =  current_url + \"?condition=new\"\n",
    "    driver.get(url_new_books)\n",
    "\n",
    "elif any(\"used\" in q.lower() for q in QUERY_BOOK_STATE):\n",
    "    current_url = driver.current_url.split(\"?\")[0]\n",
    "    url_new_books =  current_url + \"?condition=used\"\n",
    "    driver.get(url_new_books)"
   ]
  }
 ],
 "metadata": {
  "kernelspec": {
   "display_name": "env",
   "language": "python",
   "name": "python3"
  },
  "language_info": {
   "codemirror_mode": {
    "name": "ipython",
    "version": 3
   },
   "file_extension": ".py",
   "mimetype": "text/x-python",
   "name": "python",
   "nbconvert_exporter": "python",
   "pygments_lexer": "ipython3",
   "version": "3.13.2"
  }
 },
 "nbformat": 4,
 "nbformat_minor": 5
}
