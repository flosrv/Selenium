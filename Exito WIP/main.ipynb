{
 "cells": [
  {
   "cell_type": "code",
   "execution_count": 1,
   "id": "d467ad63",
   "metadata": {},
   "outputs": [],
   "source": [
    "from imports import *\n",
    "from functions import *\n",
    "from constants import *\n",
    "# Active l'extension autoreload dans un notebook Jupyter\n",
    "%load_ext autoreload\n",
    "%autoreload 2"
   ]
  },
  {
   "cell_type": "markdown",
   "id": "1418364a",
   "metadata": {},
   "source": [
    "# Launching Driver and Website Main Page"
   ]
  },
  {
   "cell_type": "code",
   "execution_count": 3,
   "id": "40508cff",
   "metadata": {},
   "outputs": [],
   "source": [
    "driver = create_driver(website_url)"
   ]
  },
  {
   "cell_type": "code",
   "execution_count": 4,
   "id": "ad2a1fd8",
   "metadata": {},
   "outputs": [],
   "source": [
    "driver.get(website_url)\n",
    "destroy_intrusive_elements(driver)\n",
    "wait = WebDriverWait(driver, timeout=10)\n",
    "\n",
    "############## CONNECTION #######################################################################################################################################\n",
    "mi_cuenta = wait.until(EC.presence_of_element_located((By.XPATH, \"//span[normalize-space()='Mi cuenta']\")))  # Remplacer par l'élément attendu\n",
    "mi_cuenta.click()\n",
    "# Envoie de l'email sur le site\n",
    "try:\n",
    "    ingresar_email_zone = wait.until(EC.presence_of_element_located((By.XPATH, \"//input[@placeholder='Ingresa tu email']\")))\n",
    "    ingresar_email_zone.clear()\n",
    "    ingresar_email_zone.send_keys(EMAIL)\n",
    "    ingresar_email_zone.send_keys(Keys.ENTER)\n",
    "except:\n",
    "    print('NO')"
   ]
  },
  {
   "cell_type": "markdown",
   "id": "8dd7ba98",
   "metadata": {},
   "source": [
    "# Connection"
   ]
  },
  {
   "cell_type": "markdown",
   "id": "3e9d2e5c",
   "metadata": {},
   "source": [
    "# Search Mechanic"
   ]
  },
  {
   "cell_type": "code",
   "execution_count": 5,
   "id": "94b5d586",
   "metadata": {},
   "outputs": [],
   "source": [
    "SEARCH_QUERY = \"portatil ASUS 1TB RTX RYZEN\""
   ]
  },
  {
   "cell_type": "markdown",
   "id": "47a083b0",
   "metadata": {},
   "source": [
    "Dynamically Building the Name of the CSV File to store collected Data"
   ]
  },
  {
   "cell_type": "code",
   "execution_count": 6,
   "id": "3b9a496a",
   "metadata": {},
   "outputs": [
    {
     "data": {
      "text/plain": [
       "'Exito_Search_portatil_ASUS_1TB_RTX_RYZEN.csv'"
      ]
     },
     "execution_count": 6,
     "metadata": {},
     "output_type": "execute_result"
    }
   ],
   "source": [
    "csv_output_name = f\"Exito_Search_{SEARCH_QUERY.replace(\" \", \"_\")}.csv\"\n",
    "\n",
    "dict_results = {}\n",
    "today = dt.now()\n",
    "dict_results[\"Timestamp\"] = today\n",
    "\n",
    "csv_output_name"
   ]
  },
  {
   "cell_type": "markdown",
   "id": "77a2f732",
   "metadata": {},
   "source": [
    "# Launch Query"
   ]
  },
  {
   "cell_type": "code",
   "execution_count": null,
   "id": "d66a824a",
   "metadata": {},
   "outputs": [
    {
     "name": "stdout",
     "output_type": "stream",
     "text": [
      "Page completely loaded!\n",
      "Search field found and is clickable!\n",
      "Field cleared using JavaScript!\n",
      "No text to clear with BACKSPACE.\n",
      "Search query 'portatil ASUS 1TB RTX RYZEN' sent!\n"
     ]
    }
   ],
   "source": [
    "driver.get(website_url)\n",
    "\n",
    "try:\n",
    "    # Attendre que la page soit complètement chargée\n",
    "    \n",
    "\n",
    "    # Try to find the search field\n",
    "    try:\n",
    "        search_field = wait.until(\n",
    "            EC.element_to_be_clickable(\n",
    "                (By.XPATH, \"//input[@data-fs-input='true' and @aria-label='search']\")\n",
    "            )\n",
    "        )\n",
    "        print(\"Search field found and is clickable!\")\n",
    "    except Exception as e:\n",
    "        print(f\"❌ Error while finding search field: {e}\")\n",
    "        raise\n",
    "\n",
    "    try:\n",
    "        # Ensure the field is clear (use JavaScript to clear if necessary)\n",
    "        driver.execute_script(\"arguments[0].value = '';\", search_field)\n",
    "        print(\"Field cleared using JavaScript!\")\n",
    "    except Exception as e:\n",
    "        print(f\"❌ Error while clearing field using JavaScript: {e}\")\n",
    "        raise\n",
    "\n",
    "    try:\n",
    "        # Optionally, use BACKSPACE to ensure the field is emptied\n",
    "        current_value = search_field.get_attribute('value')\n",
    "        if current_value:\n",
    "            search_field.send_keys(Keys.BACKSPACE * len(current_value))\n",
    "            print(\"Text cleared using BACKSPACE.\")\n",
    "        else:\n",
    "            print(\"No text to clear with BACKSPACE.\")\n",
    "    except Exception as e:\n",
    "        print(f\"❌ Error while using BACKSPACE to clear text: {e}\")\n",
    "        raise\n",
    "\n",
    "    try:\n",
    "        # Send the search query\n",
    "        search_field.send_keys(SEARCH_QUERY)\n",
    "        search_field.send_keys(Keys.ENTER)\n",
    "        print(f\"Search query '{SEARCH_QUERY}' sent!\")\n",
    "    except Exception as e:\n",
    "        print(f\"❌ Error while sending search query: {e}\")\n",
    "        raise\n",
    "\n",
    "except Exception as e:\n",
    "    print(f\"General error during search process: {str(e)}\")"
   ]
  },
  {
   "cell_type": "markdown",
   "id": "d6904168",
   "metadata": {},
   "source": [
    "# Data Collection"
   ]
  },
  {
   "cell_type": "markdown",
   "id": "0dc4fa66",
   "metadata": {},
   "source": [
    "One Card"
   ]
  },
  {
   "cell_type": "code",
   "execution_count": null,
   "id": "2f8e370b",
   "metadata": {},
   "outputs": [
    {
     "name": "stdout",
     "output_type": "stream",
     "text": [
      "Titre : Portatil Asus Proart P16 Oled Amd Ryzen 9 Rtx 4070 Ram 32Gb Ssd 1Tb Windows 11 Home\n",
      "Link : https://www.exito.com/portatil-asus-proart-p16-oled-amd-ryzen-9-rtx-4070-ram-32gb-ssd-1tb-windows-11-home-104055765-mp/p\n",
      "Marque : ASUS\n",
      "Prix : $ 13.112.900\n",
      "Ancien prix : $ 17.466.900\n",
      "Réduction : 25%\n",
      "\n"
     ]
    }
   ],
   "source": [
    "products_listing = find_element(driver, \"xpath\", \"//div[contains(@data-fs-product-listing-results, '')]\")\n",
    "cards = find_elements(products_listing, \"xpath\", \".//article[contains(@class, 'productCard')]\")\n",
    "card = cards[0]\n",
    "title = find_element(card, \"xpath\", \".//h3[contains(@class, 'name')]\").text.strip()\n",
    "print(f\"Titre : {title}\")\n",
    "link = find_element(card, \"xpath\", \".//a[contains(@data-testid,'product-link')]\").get_attribute('href')\n",
    "print(f\"Link : {link}\")\n",
    "\n",
    "brand = find_element(card, \"xpath\", \".//h3[contains(@class, 'brand')]\").text.strip()\n",
    "print(f\"Marque : {brand}\")\n",
    "actual_price = find_element(card, \"xpath\", \".//p[contains(@class, 'ProductPrice')]\").text.strip()\n",
    "print(f\"Prix : {actual_price}\")\n",
    "try:\n",
    "    last_price = find_element(card, \"xpath\", \".//p[contains(@class, 'promotion_price')]\").text.strip()\n",
    "    print(f\"Ancien prix : {last_price}\")\n",
    "    # calculer le pourcentage de réduction\n",
    "    discount = get_discount_percentage(last_price, actual_price)\n",
    "    print(f\"Réduction : {discount}%\\n\")\n",
    "\n",
    "except NoSuchElementException or TimeoutException:\n",
    "    print(\"Last Price not found...\")\n",
    "\n",
    "driver.get(link)\n",
    "wait_page_to_load(driver)"
   ]
  },
  {
   "cell_type": "markdown",
   "id": "8e9241ad",
   "metadata": {},
   "source": [
    "# Product Page Scraping"
   ]
  },
  {
   "cell_type": "code",
   "execution_count": 40,
   "id": "b8fbf15c",
   "metadata": {},
   "outputs": [
    {
     "name": "stdout",
     "output_type": "stream",
     "text": [
      "Product Section Found !\n",
      "Dealer: Smartbuy_co\n",
      "Stock details: ¡Últimas 1 unidades!\n",
      "PLU_ID: ASUS-PLU: 104055765\n",
      "No disponible para compra y recoge\n",
      "Garantía del producto: 12 meses.\n",
      "Image Zone Found !\n",
      "10 images Found !\n",
      "Image 1: https://exitocol.vtexassets.com/arquivos/ids/25918247/portatil-asus-proart-p16-oled-amd-ryzen-9-rtx-4070-ram-32gb-ssd-1tb-windows-11-home.jpg?v=638706010037170000\n",
      "Image 2: https://exitocol.vtexassets.com/arquivos/ids/25918248/portatil-asus-proart-p16-oled-amd-ryzen-9-rtx-4070-ram-32gb-ssd-1tb-windows-11-home.jpg?v=638706010038730000\n",
      "Image 3: https://exitocol.vtexassets.com/arquivos/ids/25918249/portatil-asus-proart-p16-oled-amd-ryzen-9-rtx-4070-ram-32gb-ssd-1tb-windows-11-home.jpg?v=638706010041400000\n",
      "Image 4: https://exitocol.vtexassets.com/arquivos/ids/25918250/portatil-asus-proart-p16-oled-amd-ryzen-9-rtx-4070-ram-32gb-ssd-1tb-windows-11-home.jpg?v=638706010043270000\n",
      "Image 5: https://exitocol.vtexassets.com/arquivos/ids/25918251/portatil-asus-proart-p16-oled-amd-ryzen-9-rtx-4070-ram-32gb-ssd-1tb-windows-11-home.jpg?v=638706010044130000\n",
      "Image 6: https://exitocol.vtexassets.com/arquivos/ids/25918247/portatil-asus-proart-p16-oled-amd-ryzen-9-rtx-4070-ram-32gb-ssd-1tb-windows-11-home.jpg?v=638706010037170000\n",
      "Image 7: https://exitocol.vtexassets.com/arquivos/ids/25918248/portatil-asus-proart-p16-oled-amd-ryzen-9-rtx-4070-ram-32gb-ssd-1tb-windows-11-home.jpg?v=638706010038730000\n",
      "Image 8: https://exitocol.vtexassets.com/arquivos/ids/25918249/portatil-asus-proart-p16-oled-amd-ryzen-9-rtx-4070-ram-32gb-ssd-1tb-windows-11-home.jpg?v=638706010041400000\n",
      "Image 9: https://exitocol.vtexassets.com/arquivos/ids/25918250/portatil-asus-proart-p16-oled-amd-ryzen-9-rtx-4070-ram-32gb-ssd-1tb-windows-11-home.jpg?v=638706010043270000\n",
      "Image 10: https://exitocol.vtexassets.com/arquivos/ids/25918251/portatil-asus-proart-p16-oled-amd-ryzen-9-rtx-4070-ram-32gb-ssd-1tb-windows-11-home.jpg?v=638706010044130000\n",
      "Message: \n",
      "Stacktrace:\n",
      "\tGetHandleVerifier [0x00007FF791E8EFA5+77893]\n",
      "\tGetHandleVerifier [0x00007FF791E8F000+77984]\n",
      "\t(No symbol) [0x00007FF791C591BA]\n",
      "\t(No symbol) [0x00007FF791CAF16D]\n",
      "\t(No symbol) [0x00007FF791CAF41C]\n",
      "\t(No symbol) [0x00007FF791CA1B1C]\n",
      "\t(No symbol) [0x00007FF791CD716F]\n",
      "\t(No symbol) [0x00007FF791CA19E6]\n",
      "\t(No symbol) [0x00007FF791CD7340]\n",
      "\t(No symbol) [0x00007FF791CFF07F]\n",
      "\t(No symbol) [0x00007FF791CD6F03]\n",
      "\t(No symbol) [0x00007FF791CA0328]\n",
      "\t(No symbol) [0x00007FF791CA1093]\n",
      "\tGetHandleVerifier [0x00007FF792147B6D+2931725]\n",
      "\tGetHandleVerifier [0x00007FF792142132+2908626]\n",
      "\tGetHandleVerifier [0x00007FF7921600F3+3031443]\n",
      "\tGetHandleVerifier [0x00007FF791EA91EA+184970]\n",
      "\tGetHandleVerifier [0x00007FF791EB086F+215311]\n",
      "\tGetHandleVerifier [0x00007FF791E96EC4+110436]\n",
      "\tGetHandleVerifier [0x00007FF791E97072+110866]\n",
      "\tGetHandleVerifier [0x00007FF791E7D479+5401]\n",
      "\tBaseThreadInitThunk [0x00007FFA38937374+20]\n",
      "\tRtlUserThreadStart [0x00007FFA38D1CC91+33]\n",
      "\n",
      "Products Specifications Found !\n"
     ]
    }
   ],
   "source": [
    "try:\n",
    "    product_section = find_element(driver, \"xpath\", \n",
    "                                   \"//section[contains(@data-fs-product-container,'true')]\")\n",
    "    print(f\"Product Section Found !\")\n",
    "except NoSuchElementException:\n",
    "    print(\"Product Section Not Found !\")\n",
    "try:\n",
    "    Dealer = find_element(product_section, \"xpath\", \n",
    "                      \".//a[contains(@href, 'seller')]\").text.strip()\n",
    "    print(f\"Dealer: {Dealer}\")\n",
    "except NoSuchElementException:\n",
    "    print(\"Dealer Not Found !\")\n",
    "\n",
    "try:\n",
    "    stock_details = find_element(product_section, \"xpath\", \n",
    "        \".//p[contains(@data-fs-product-details-stock__qty,'true')]\")\n",
    "    print(f\"Stock details: {stock_details.text.strip()}\")\n",
    "except NoSuchElementException:\n",
    "    print(\"Dealer Not Found !\")\n",
    "\n",
    "try:\n",
    "    PLU_ID = find_element(product_section, \"xpath\",\n",
    "        \".//span[contains(@class,'product-title') and contains(@class,'specification')]\")\n",
    "    print(f\"PLU_ID: {PLU_ID.text.strip()}\")\n",
    "except NoSuchElementException:\n",
    "    print(\"PLU not found !\")\n",
    "\n",
    "try:\n",
    "    compra_y_recoge = find_element(product_section, \"xpath\",\n",
    "    \".//p[contains(@data-fs-promises-paragraph,'true') and contains(@data-fs-promises-bold,'true')]\").text.strip()\n",
    "    print(f\"{compra_y_recoge} para compra y recoge\") \n",
    "except NoSuchElementException:\n",
    "    print(\"Compra y recoge data not found !\")    \n",
    "\n",
    "try:\n",
    "    garantia = find_element(product_section, \"xpath\",\n",
    "    \".//p[contains(@data-fs-product-aditional-info-garantia__txt,'true')]\").text.strip()\n",
    "    print(f\"{garantia}\") \n",
    "except NoSuchElementException:\n",
    "    print(\"Guarantee data not found !\")  \n",
    "\n",
    "try:\n",
    "    img_zone = find_element(product_section, \"xpath\",\n",
    "    \".//section[contains(@data-fs-product-details-gallery,'true')]\")\n",
    "    print(f\"Image Zone Found !\") \n",
    "\n",
    "    try:\n",
    "        images = find_elements(img_zone, \"xpath\",\n",
    "        \".//img[contains(@src,'') and contains(@alt, '') and contains(@src,'')]\")\n",
    "        print(f\"{len(images)} images Found !\")\n",
    "        list_images = []\n",
    "        for i, image in enumerate(images):\n",
    "            image_url = image.get_attribute(\"src\")\n",
    "            print(f\"Image {i+1}: {image_url}\")\n",
    "            list_images.append(image_url)\n",
    "\n",
    "\n",
    "    except NoSuchElementException:\n",
    "     print(\"Images not found !\")  \n",
    "except NoSuchElementException:\n",
    "    print(\"Image Zone not found !\")\n",
    "\n",
    "\n",
    "try:\n",
    "    Products_specifications = find_element(product_section, \"xpath\",\n",
    "                                           \n",
    "    \".//section[contains(@class, 'product-specifications_fs')]\")\n",
    "    print(f\"Products Specifications Found !\") \n",
    "\n",
    "except Exception:\n",
    "    print(\"Products Specifications not found !\")\n",
    " "
   ]
  },
  {
   "cell_type": "markdown",
   "id": "46bf0729",
   "metadata": {},
   "source": [
    "One Card"
   ]
  },
  {
   "cell_type": "code",
   "execution_count": 35,
   "id": "7ca4983d",
   "metadata": {},
   "outputs": [
    {
     "name": "stdout",
     "output_type": "stream",
     "text": [
      "Erreur lors de la navigation : Message: no such element: Unable to locate element: {\"method\":\"xpath\",\"selector\":\"//*[@id=\"header-page\"]/aside/ul/section[2]\"}\n",
      "  (Session info: chrome=135.0.7049.115); For documentation on this error, please visit: https://www.selenium.dev/documentation/webdriver/troubleshooting/errors#no-such-element-exception\n",
      "Stacktrace:\n",
      "\tGetHandleVerifier [0x00007FF791E8EFA5+77893]\n",
      "\tGetHandleVerifier [0x00007FF791E8F000+77984]\n",
      "\t(No symbol) [0x00007FF791C591BA]\n",
      "\t(No symbol) [0x00007FF791CAF16D]\n",
      "\t(No symbol) [0x00007FF791CAF41C]\n",
      "\t(No symbol) [0x00007FF791D02237]\n",
      "\t(No symbol) [0x00007FF791CD716F]\n",
      "\t(No symbol) [0x00007FF791CFF07F]\n",
      "\t(No symbol) [0x00007FF791CD6F03]\n",
      "\t(No symbol) [0x00007FF791CA0328]\n",
      "\t(No symbol) [0x00007FF791CA1093]\n",
      "\tGetHandleVerifier [0x00007FF792147B6D+2931725]\n",
      "\tGetHandleVerifier [0x00007FF792142132+2908626]\n",
      "\tGetHandleVerifier [0x00007FF7921600F3+3031443]\n",
      "\tGetHandleVerifier [0x00007FF791EA91EA+184970]\n",
      "\tGetHandleVerifier [0x00007FF791EB086F+215311]\n",
      "\tGetHandleVerifier [0x00007FF791E96EC4+110436]\n",
      "\tGetHandleVerifier [0x00007FF791E97072+110866]\n",
      "\tGetHandleVerifier [0x00007FF791E7D479+5401]\n",
      "\tBaseThreadInitThunk [0x00007FFA38937374+20]\n",
      "\tRtlUserThreadStart [0x00007FFA38D1CC91+33]\n",
      "\n"
     ]
    }
   ],
   "source": [
    "category = \"Tecnología\"\n",
    "article_type_choice = \"Portátiles\"\n",
    "\n",
    "main_page=driver.current_url\n",
    "def go_to_article_page(driver, category, article_type):\n",
    "    import time\n",
    "    from selenium.webdriver.common.by import By\n",
    "\n",
    "    try:\n",
    "        # Récupère le menu des catégories\n",
    "        categories_menu = driver.find_element(By.XPATH, '//*[@id=\"header-page\"]/aside/ul/section[2]')\n",
    "\n",
    "        # Cherche tous les div ayant l'attribut data-link-content=\"true\"\n",
    "        divs_with_data_link_content = categories_menu.find_elements(By.XPATH, './/div[@data-link-content=\"true\"]')\n",
    "\n",
    "        # Clique sur la catégorie principale\n",
    "        for div in divs_with_data_link_content:\n",
    "            if div.text.strip() == category:\n",
    "                div.click()\n",
    "                print(f\"Catégorie '{category}' cliquée.\")\n",
    "                time.sleep(1)\n",
    "                break\n",
    "\n",
    "        # Menu déroulé : chercher le type d'article\n",
    "        selected_menu = driver.find_element(By.XPATH, './/ul[@data-content-list=\"true\"]')\n",
    "        list_elements = selected_menu.find_elements(By.TAG_NAME, 'li')\n",
    "\n",
    "        for li in list_elements:\n",
    "            if li.text.strip() == article_type:\n",
    "                try:\n",
    "                    link = li.find_element(By.TAG_NAME, 'a')\n",
    "                    link.click()\n",
    "                    print(f\"Lien cliqué vers la page '{article_type}'\")\n",
    "                    time.sleep(2)\n",
    "                    return driver.current_url\n",
    "                except:\n",
    "                    print(f\"Lien introuvable dans l'élément '{article_type}'\")\n",
    "                    return None\n",
    "        print(f\"Type d'article '{article_type}' non trouvé.\")\n",
    "        return None\n",
    "\n",
    "    except Exception as e:\n",
    "        print(f\"Erreur lors de la navigation : {e}\")\n",
    "        return None\n",
    "try:\n",
    "    go_to_article_page(driver, category, article_type_choice)\n",
    "except Exception as e:\n",
    "    print(str(e))"
   ]
  },
  {
   "cell_type": "markdown",
   "id": "fe1458d8",
   "metadata": {},
   "source": [
    "Getting all the Checkboxes"
   ]
  },
  {
   "cell_type": "code",
   "execution_count": null,
   "id": "bfdcf38a",
   "metadata": {},
   "outputs": [],
   "source": [
    "computer_filter_menu = driver.find_element(By.XPATH, \"//div[@class='accordion_fs-accordion__mi4MR']\")\n",
    "\n",
    "# Récupère tous les titres des filtres (balises h4)\n",
    "filters = computer_filter_menu.find_elements(By.TAG_NAME, 'h4')\n",
    "Sub_categoría = filters[1]\n",
    "\n",
    "# desktop-store-filter-Sub-categoría-Accesorios de cámaras\n",
    "\n",
    "# Vérifier si l'élément Sub_categoría a été trouvé\n",
    "if Sub_categoría:\n",
    "    # Trouver toutes les checkboxes à l'intérieur de 'Sub_categoría'\n",
    "    checkboxes = Sub_categoría.find_elements(By.XPATH, '//input[@type=\"checkbox\" and @data-fs-checkbox=\"true\"]')\n",
    "    print(f\"Nombre de checkboxes trouvées : {len(checkboxes)}\")\n",
    "    for checkbox in checkboxes:\n",
    "        print(checkbox.get_attribute(\"data-value\"))\n",
    "else:\n",
    "    print(\"L'élément 'Sub-categoría' n'a pas été trouvé.\")"
   ]
  },
  {
   "cell_type": "code",
   "execution_count": null,
   "id": "2198c3e8",
   "metadata": {},
   "outputs": [],
   "source": [
    "def cocher_checkboxes(filters_choice, checkboxes, driver):\n",
    "    # Normalisation des filtres\n",
    "    filters_normalized = [unidecode(item.lower()) for item in filters_choice]\n",
    "\n",
    "    for i in range(len(checkboxes)):\n",
    "        try:\n",
    "            # On relocalise à chaque boucle pour éviter stale\n",
    "            checkboxes_refreshed = driver.find_elements(By.CSS_SELECTOR, \"input[type='checkbox'][data-value]\")\n",
    "            if i >= len(checkboxes_refreshed):\n",
    "                break  # Au cas où le DOM change\n",
    "\n",
    "            checkbox = checkboxes_refreshed[i]\n",
    "\n",
    "            data_value_raw = checkbox.get_attribute(\"data-value\")\n",
    "            if data_value_raw is None:\n",
    "                continue\n",
    "\n",
    "            data_value = unidecode(data_value_raw.replace(\"-\", \" \").lower())\n",
    "            matched = any(f in data_value for f in filters_normalized)\n",
    "\n",
    "            if matched and not checkbox.is_selected():\n",
    "                click_with_JS(checkbox, driver)\n",
    "                print(f\"[CHECK] Checkbox pour '{data_value}' cochée.\")\n",
    "\n",
    "            elif not matched and checkbox.is_selected():\n",
    "                click_with_JS(checkbox, driver)\n",
    "                print(f\"[UNCHECK] Checkbox pour '{data_value}' décochée.\")\n",
    "        \n",
    "        except Exception as e:\n",
    "            print(f\"[ERROR] Problème sur checkbox {i}: {e}\")\n",
    "            continue\n",
    "\n",
    "from unidecode import unidecode\n"
   ]
  },
  {
   "cell_type": "code",
   "execution_count": null,
   "id": "4df878ce",
   "metadata": {},
   "outputs": [],
   "source": [
    "queries = [\n",
    "    \"asus\", \"8 gb\", \"16 GB\", \"nvidia\", \"amd\", \"24 gb\", \"32 gb\", \"ssd\",\n",
    "    \"ryzen 7\", \"500 GB\", \"1 TB\", \"i7\", \"gaming\", 'portatiles'\n",
    "]"
   ]
  },
  {
   "cell_type": "code",
   "execution_count": null,
   "id": "7c26adc9",
   "metadata": {},
   "outputs": [],
   "source": [
    "try:\n",
    "    cocher_checkboxes(filters_choice=queries, checkboxes=checkboxes,driver=driver)\n",
    "except Exception as e:\n",
    "    print(str(e))"
   ]
  },
  {
   "cell_type": "code",
   "execution_count": null,
   "id": "8ed6ffd7",
   "metadata": {},
   "outputs": [],
   "source": [
    "from currencies import Currency\n",
    "\n",
    "class CurrencyConverter:\n",
    "    def __init__(self, from_currency, to_currency, exchange_rate):\n",
    "        self.from_currency = Currency(from_currency)\n",
    "        self.to_currency = Currency(to_currency)\n",
    "        self.exchange_rate = exchange_rate\n",
    "\n",
    "    def convert(self, amount):\n",
    "        # Effectuer la conversion de l'euro vers le COP\n",
    "        amount_in_target_currency = amount * self.exchange_rate\n",
    "        # Retourne un float sans formatage en chaîne\n",
    "        return amount_in_target_currency\n",
    "\n",
    "# Exemple d'utilisation :\n",
    "# Taux de conversion (peut être récupéré depuis une API, ici 1 EUR = 4500 COP)\n",
    "exchange_rate_eur_to_cop = 4500\n",
    "\n",
    "# Création d'un convertisseur de devise\n",
    "converter_eur_cop = CurrencyConverter('EUR', 'COP', exchange_rate_eur_to_cop)\n"
   ]
  },
  {
   "cell_type": "code",
   "execution_count": null,
   "id": "98eb819c",
   "metadata": {},
   "outputs": [],
   "source": [
    "# Exemple d'utilisation\n",
    "min_value = converter_eur_cop.convert(300)  # Conversion de 300 EUR\n",
    "max_value = converter_eur_cop.convert(500)  # Conversion de 450 EUR"
   ]
  },
  {
   "cell_type": "code",
   "execution_count": null,
   "id": "ff756298",
   "metadata": {},
   "outputs": [],
   "source": [
    "def set_slider_value(driver, min_value, max_value):\n",
    "    # Récupérer la valeur actuelle des deux sliders avant de les changer\n",
    "    initial_left_value = driver.execute_script(\"\"\"\n",
    "    const leftSlider = document.querySelector('input[type=\"range\"][data-slider-thumb=\"left\"]');\n",
    "    return leftSlider ? leftSlider.value : null;\n",
    "    \"\"\")\n",
    "    \n",
    "    initial_right_value = driver.execute_script(\"\"\"\n",
    "    const rightSlider = document.querySelector('input[type=\"range\"][data-slider-thumb=\"right\"]');\n",
    "    return rightSlider ? rightSlider.value : null;\n",
    "    \"\"\")\n",
    "\n",
    "    print(f\"Valeur initiale du slider gauche : {initial_left_value}\")\n",
    "    print(f\"Valeur initiale du slider droit : {initial_right_value}\")\n",
    "\n",
    "    # Changer la valeur des sliders via JavaScript\n",
    "    script = \"\"\"\n",
    "    const leftSlider = document.querySelector('input[type=\"range\"][data-slider-thumb=\"left\"]');\n",
    "    const rightSlider = document.querySelector('input[type=\"range\"][data-slider-thumb=\"right\"]');\n",
    "    \n",
    "    if (leftSlider) {\n",
    "        leftSlider.value = arguments[0]; // Définir la nouvelle valeur du slider gauche\n",
    "        leftSlider.dispatchEvent(new Event('input', { bubbles: true })); // Simuler l'événement 'input'\n",
    "        leftSlider.dispatchEvent(new Event('change', { bubbles: true })); // Simuler l'événement 'change'\n",
    "    }\n",
    "\n",
    "    if (rightSlider) {\n",
    "        rightSlider.value = arguments[1]; // Définir la nouvelle valeur du slider droit\n",
    "        rightSlider.dispatchEvent(new Event('input', { bubbles: true })); // Simuler l'événement 'input'\n",
    "        rightSlider.dispatchEvent(new Event('change', { bubbles: true })); // Simuler l'événement 'change'\n",
    "    }\n",
    "    \"\"\"\n",
    "    # Exécuter le script pour changer les valeurs des deux sliders\n",
    "    driver.execute_script(script, min_value, max_value)\n",
    "\n",
    "    # Récupérer la nouvelle valeur des deux sliders après modification\n",
    "    final_left_value = driver.execute_script(\"\"\"\n",
    "    const leftSlider = document.querySelector('input[type=\"range\"][data-slider-thumb=\"left\"]');\n",
    "    return leftSlider ? leftSlider.value : null;\n",
    "    \"\"\")\n",
    "\n",
    "    final_right_value = driver.execute_script(\"\"\"\n",
    "    const rightSlider = document.querySelector('input[type=\"range\"][data-slider-thumb=\"right\"]');\n",
    "    return rightSlider ? rightSlider.value : null;\n",
    "    \"\"\")\n",
    "\n",
    "    print(f\"Valeur après modification du slider gauche : {final_left_value}\")\n",
    "    print(f\"Valeur après modification du slider droit : {final_right_value}\")\n",
    "\n",
    "    # Comparer les valeurs avant et après\n",
    "    if initial_left_value != final_left_value:\n",
    "        print(f\"Le slider gauche a été mis à jour avec succès. Nouvelle valeur : {final_left_value}\")\n",
    "    else:\n",
    "        print(f\"Aucune modification n'a été effectuée sur le slider gauche. Valeur actuelle : {final_left_value}\")\n",
    "\n",
    "    if initial_right_value != final_right_value:\n",
    "        print(f\"Le slider droit a été mis à jour avec succès. Nouvelle valeur : {final_right_value}\")\n",
    "    else:\n",
    "        print(f\"Aucune modification n'a été effectuée sur le slider droit. Valeur actuelle : {final_right_value}\")\n"
   ]
  },
  {
   "cell_type": "code",
   "execution_count": null,
   "id": "975fa476",
   "metadata": {},
   "outputs": [],
   "source": [
    "set_slider_value(driver, min_value, max_value)"
   ]
  },
  {
   "cell_type": "code",
   "execution_count": null,
   "id": "73f4e60e",
   "metadata": {},
   "outputs": [],
   "source": [
    "aplicar_filtros = driver.find_element(By.XPATH, \"//button[normalize-space()='Aplicar filtros']\")\n",
    "aplicar_filtros.click()"
   ]
  }
 ],
 "metadata": {
  "kernelspec": {
   "display_name": "env",
   "language": "python",
   "name": "python3"
  },
  "language_info": {
   "codemirror_mode": {
    "name": "ipython",
    "version": 3
   },
   "file_extension": ".py",
   "mimetype": "text/x-python",
   "name": "python",
   "nbconvert_exporter": "python",
   "pygments_lexer": "ipython3",
   "version": "3.13.2"
  }
 },
 "nbformat": 4,
 "nbformat_minor": 5
}
