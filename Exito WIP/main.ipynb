{
 "cells": [
  {
   "cell_type": "code",
   "execution_count": 1,
   "id": "d467ad63",
   "metadata": {},
   "outputs": [],
   "source": [
    "from imports import *\n",
    "from functions import *\n",
    "from auth import *\n",
    "from constants import *\n",
    "# Active l'extension autoreload dans un notebook Jupyter\n",
    "%load_ext autoreload\n",
    "%autoreload 2"
   ]
  },
  {
   "cell_type": "code",
   "execution_count": 2,
   "id": "f7c6eccf",
   "metadata": {},
   "outputs": [],
   "source": [
    "driver = create_driver()"
   ]
  },
  {
   "cell_type": "code",
   "execution_count": 3,
   "id": "c36d69ae",
   "metadata": {},
   "outputs": [],
   "source": [
    "wait = WebDriverWait(driver, timeout=3)"
   ]
  },
  {
   "cell_type": "code",
   "execution_count": 4,
   "id": "b58130b9",
   "metadata": {},
   "outputs": [],
   "source": [
    "driver.get(website_url)\n",
    "mi_cuenta = wait.until(EC.presence_of_element_located((By.XPATH, \"//span[normalize-space()='Mi cuenta']\")))  # Remplacer par l'élément attendu\n",
    "mi_cuenta.click()"
   ]
  },
  {
   "cell_type": "code",
   "execution_count": null,
   "id": "230a65bd",
   "metadata": {},
   "outputs": [
    {
     "name": "stdout",
     "output_type": "stream",
     "text": [
      "Please visit this URL to authorize this application: https://accounts.google.com/o/oauth2/auth?response_type=code&client_id=786169607261-vlr2d3cvfagt9q8ngt7n1ub4tcececdi.apps.googleusercontent.com&redirect_uri=http%3A%2F%2Flocalhost%3A54444%2F&scope=https%3A%2F%2Fwww.googleapis.com%2Fauth%2Fgmail.readonly&state=IXiNA6hIPs29hnJQXm6uu0ny5YIfW4&access_type=offline\n"
     ]
    }
   ],
   "source": [
    "# Envoie de l'email sur le site\n",
    "try:\n",
    "    ingresar_email_zone = wait.until(EC.presence_of_element_located((By.XPATH, \"//input[@placeholder='Ingresa tu email']\")))\n",
    "    ingresar_email_zone.clear()\n",
    "    ingresar_email_zone.send_keys(EMAIL)\n",
    "    ingresar_email_zone.send_keys(Keys.ENTER)\n",
    "except:\n",
    "    print('NO')"
   ]
  },
  {
   "cell_type": "code",
   "execution_count": null,
   "id": "48a5ace0",
   "metadata": {},
   "outputs": [],
   "source": [
    "try:\n",
    "    ingresar_email_zone = wait.until(EC.presence_of_element_located((By.XPATH, \"//input[@placeholder='Ingresa tu email']\")))\n",
    "    ingresar_email_zone.clear()\n",
    "    ingresar_email_zone.send_keys(email)\n",
    "    ingresar_email_zone.send_keys(Keys.ENTER)\n",
    "except:\n",
    "    print('NO')"
   ]
  },
  {
   "cell_type": "code",
   "execution_count": null,
   "id": "b377b266",
   "metadata": {},
   "outputs": [],
   "source": [
    "main_page=driver.current_url\n",
    "hamburger_button = wait.until(EC.presence_of_element_located((By.XPATH, \"//*[name()='path' and @id='Trazado_7945']\")))\n",
    "hamburger_button.click()"
   ]
  },
  {
   "cell_type": "markdown",
   "id": "664c248a",
   "metadata": {},
   "source": [
    "Go on the Computer Page"
   ]
  },
  {
   "cell_type": "code",
   "execution_count": null,
   "id": "7ca4983d",
   "metadata": {},
   "outputs": [],
   "source": [
    "category = \"Tecnología\"\n",
    "article_type_choice = \"Portátiles\"\n",
    "\n",
    "main_page=driver.current_url\n",
    "def go_to_article_page(driver, category, article_type):\n",
    "    import time\n",
    "    from selenium.webdriver.common.by import By\n",
    "\n",
    "    try:\n",
    "        # Récupère le menu des catégories\n",
    "        categories_menu = driver.find_element(By.XPATH, '//*[@id=\"header-page\"]/aside/ul/section[2]')\n",
    "\n",
    "        # Cherche tous les div ayant l'attribut data-link-content=\"true\"\n",
    "        divs_with_data_link_content = categories_menu.find_elements(By.XPATH, './/div[@data-link-content=\"true\"]')\n",
    "\n",
    "        # Clique sur la catégorie principale\n",
    "        for div in divs_with_data_link_content:\n",
    "            if div.text.strip() == category:\n",
    "                div.click()\n",
    "                print(f\"Catégorie '{category}' cliquée.\")\n",
    "                time.sleep(1)\n",
    "                break\n",
    "\n",
    "        # Menu déroulé : chercher le type d'article\n",
    "        selected_menu = driver.find_element(By.XPATH, './/ul[@data-content-list=\"true\"]')\n",
    "        list_elements = selected_menu.find_elements(By.TAG_NAME, 'li')\n",
    "\n",
    "        for li in list_elements:\n",
    "            if li.text.strip() == article_type:\n",
    "                try:\n",
    "                    link = li.find_element(By.TAG_NAME, 'a')\n",
    "                    link.click()\n",
    "                    print(f\"Lien cliqué vers la page '{article_type}'\")\n",
    "                    time.sleep(2)\n",
    "                    return driver.current_url\n",
    "                except:\n",
    "                    print(f\"Lien introuvable dans l'élément '{article_type}'\")\n",
    "                    return None\n",
    "        print(f\"Type d'article '{article_type}' non trouvé.\")\n",
    "        return None\n",
    "\n",
    "    except Exception as e:\n",
    "        print(f\"Erreur lors de la navigation : {e}\")\n",
    "        return None\n",
    "try:\n",
    "    go_to_article_page(driver, category, article_type_choice)\n",
    "except Exception as e:\n",
    "    print(str(e))"
   ]
  },
  {
   "cell_type": "code",
   "execution_count": null,
   "id": "2bcf216f",
   "metadata": {},
   "outputs": [],
   "source": [
    "# Récupère le menu contenant tous les filtres (accordéons)\n",
    "computer_filter_menu = driver.find_element(By.XPATH, \"//div[@class='accordion_fs-accordion__mi4MR']\")\n",
    "\n",
    "# Récupère tous les titres des filtres (balises h4)\n",
    "filters = computer_filter_menu.find_elements(By.TAG_NAME, 'h4')\n",
    "\n",
    "# Dictionnaire pour stocker les filtres trouvés\n",
    "filters_dict = {}\n",
    "\n",
    "# Parcours et affiche les filtres\n",
    "for f in filters:\n",
    "    filter_name = f.text.strip()\n",
    "    print(filter_name)\n",
    "    filters_dict[filter_name] = f  # Stocke le WebElement par nom\n",
    "\n",
    "# Exemple : accéder à un filtre spécifique\n",
    "if \"Categoria\" in filters_dict:\n",
    "    categoria_filter = filters_dict[\"Categoria\"]\n",
    "    categoria_filter.click()  # Déroule le filtre si besoin\n",
    "    print(\"Filtre 'Categoria' sélectionné.\")\n",
    "\n",
    "import json\n",
    "\n",
    "# Crée un dictionnaire avec juste les noms des filtres (clés) sans les WebElement\n",
    "filters_names = list(filters_dict.keys())\n",
    "\n",
    "# Sauvegarde dans un fichier JSON ou affiche\n",
    "with open(\"computers_filters.json\", \"w\", encoding=\"utf-8\") as f:\n",
    "    json.dump(filters_names, f, ensure_ascii=False, indent=2)\n",
    "\n",
    "# Ou juste afficher proprement :\n",
    "print(json.dumps(filters_names, indent=2, ensure_ascii=False))\n"
   ]
  },
  {
   "cell_type": "markdown",
   "id": "620bf415",
   "metadata": {},
   "source": [
    "Analyser Catégorie"
   ]
  },
  {
   "cell_type": "code",
   "execution_count": null,
   "id": "cc0560d2",
   "metadata": {},
   "outputs": [],
   "source": [
    "Categoría = next((f for f in filters if f.text == \"Categoría\"), None)\n",
    "# Trouver toutes les checkboxes (éléments <input type=\"checkbox\">) à l'intérieur de l'élément 'Categoría'\n",
    "checkboxes = Categoría.find_elements(By.XPATH, './/input[@type=\"checkbox\"]')\n",
    "checkboxes"
   ]
  },
  {
   "cell_type": "code",
   "execution_count": null,
   "id": "f1516394",
   "metadata": {},
   "outputs": [],
   "source": [
    "def click_with_JS(element, driver):\n",
    "    driver.execute_script(\"arguments[0].click();\", element)"
   ]
  },
  {
   "cell_type": "code",
   "execution_count": null,
   "id": "aeef3505",
   "metadata": {},
   "outputs": [],
   "source": [
    "try:\n",
    "    checkbox_computador = driver.find_element(By.XPATH, '//*[@id=\"desktop-store-filter-Categoría-Computadores\"]')\n",
    "    click_with_JS(checkbox_computador, driver)  \n",
    "    print(get_all_attributes(checkbox_computador, driver))\n",
    "except Exception as e:\n",
    "    print(str(e))"
   ]
  },
  {
   "cell_type": "markdown",
   "id": "fe1458d8",
   "metadata": {},
   "source": [
    "Analysing Sub Categoria"
   ]
  },
  {
   "cell_type": "code",
   "execution_count": null,
   "id": "bfdcf38a",
   "metadata": {},
   "outputs": [],
   "source": [
    "Sub_categoría = filters[1]\n",
    "\n",
    "# desktop-store-filter-Sub-categoría-Accesorios de cámaras\n",
    "\n",
    "# Vérifier si l'élément Sub_categoría a été trouvé\n",
    "if Sub_categoría:\n",
    "    # Trouver toutes les checkboxes à l'intérieur de 'Sub_categoría'\n",
    "    checkboxes = Sub_categoría.find_elements(By.XPATH, '//input[@type=\"checkbox\" and @data-fs-checkbox=\"true\"]')\n",
    "    print(f\"Nombre de checkboxes trouvées : {len(checkboxes)}\")\n",
    "    for checkbox in checkboxes:\n",
    "        print(checkbox.get_attribute(\"data-value\"))\n",
    "else:\n",
    "    print(\"L'élément 'Sub-categoría' n'a pas été trouvé.\")"
   ]
  },
  {
   "cell_type": "code",
   "execution_count": null,
   "id": "59cf47d4",
   "metadata": {},
   "outputs": [],
   "source": [
    "one_checkbox =  checkboxes[0]\n",
    "get_all_attributes(one_checkbox, driver)"
   ]
  },
  {
   "cell_type": "code",
   "execution_count": null,
   "id": "2198c3e8",
   "metadata": {},
   "outputs": [],
   "source": [
    "# Liste des éléments que l'utilisateur veut\n",
    "filters_choice = [\n",
    "    \"asus\", \n",
    "    \"accesorios de camaras\", \n",
    "    \"televisores samsung\", \n",
    "    \"acer\", \n",
    "    \"smartwatch\",\n",
    "]\n",
    "\n",
    "# Fonction pour cocher les checkboxes en fonction des éléments voulus\n",
    "from unidecode import unidecode\n",
    "\n",
    "def cocher_checkboxes(filters_choice, checkboxes):\n",
    "    for checkbox in checkboxes:\n",
    "        # Récupère le data-value de la checkbox, remplace les \"-\" par des espaces et enlève les accents\n",
    "        data_value = unidecode(checkbox.get_attribute(\"data-value\").replace(\"-\", \" \").lower())\n",
    "        \n",
    "        # Vérifie si l'un des éléments voulus est contenu dans le data-value\n",
    "        for item in filters_choice:\n",
    "            # Enlève aussi les accents de l'élément de la liste de filtres\n",
    "            item_normalized = unidecode(item.lower())\n",
    "            if item_normalized in data_value:\n",
    "                checkbox.click()  # Coche la checkbox si l'élément est trouvé\n",
    "                print(f\"Checkbox pour '{data_value}' cochée.\")\n",
    "                break  # Sort de la boucle dès qu'une correspondance est trouvée\n"
   ]
  }
 ],
 "metadata": {
  "kernelspec": {
   "display_name": "env",
   "language": "python",
   "name": "python3"
  },
  "language_info": {
   "codemirror_mode": {
    "name": "ipython",
    "version": 3
   },
   "file_extension": ".py",
   "mimetype": "text/x-python",
   "name": "python",
   "nbconvert_exporter": "python",
   "pygments_lexer": "ipython3",
   "version": "3.13.2"
  }
 },
 "nbformat": 4,
 "nbformat_minor": 5
}
