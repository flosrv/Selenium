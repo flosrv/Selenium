{
 "cells": [
  {
   "cell_type": "code",
   "execution_count": 1,
   "id": "d467ad63",
   "metadata": {},
   "outputs": [],
   "source": [
    "from imports import *\n",
    "from functions import *\n",
    "from constants import *\n",
    "# Active l'extension autoreload dans un notebook Jupyter\n",
    "%load_ext autoreload\n",
    "%autoreload 2"
   ]
  },
  {
   "cell_type": "markdown",
   "id": "1418364a",
   "metadata": {},
   "source": [
    "# Launching Driver and Website Main Page"
   ]
  },
  {
   "cell_type": "code",
   "execution_count": 2,
   "id": "6fe702f5",
   "metadata": {},
   "outputs": [],
   "source": [
    "driver = create_driver()\n",
    "driver.get(website_url)\n",
    "wait = WebDriverWait(driver, timeout=3)\n",
    "mi_cuenta = wait.until(EC.presence_of_element_located((By.XPATH, \"//span[normalize-space()='Mi cuenta']\")))  # Remplacer par l'élément attendu\n",
    "mi_cuenta.click()\n",
    "# Envoie de l'email sur le site\n",
    "try:\n",
    "    ingresar_email_zone = wait.until(EC.presence_of_element_located((By.XPATH, \"//input[@placeholder='Ingresa tu email']\")))\n",
    "    ingresar_email_zone.clear()\n",
    "    ingresar_email_zone.send_keys(EMAIL)\n",
    "    ingresar_email_zone.send_keys(Keys.ENTER)\n",
    "except:\n",
    "    print('NO')"
   ]
  },
  {
   "cell_type": "markdown",
   "id": "e7edf229",
   "metadata": {},
   "source": [
    "Waiting Function statement"
   ]
  },
  {
   "cell_type": "code",
   "execution_count": 3,
   "id": "74198653",
   "metadata": {},
   "outputs": [],
   "source": [
    "wait10 = WebDriverWait(driver, timeout=10)"
   ]
  },
  {
   "cell_type": "markdown",
   "id": "3e9d2e5c",
   "metadata": {},
   "source": [
    "# Search Mechanic"
   ]
  },
  {
   "cell_type": "code",
   "execution_count": 114,
   "id": "94b5d586",
   "metadata": {},
   "outputs": [],
   "source": [
    "SEARCH_QUERY = \"portatil ASUS Ryzen 7 1TB 16GB\""
   ]
  },
  {
   "cell_type": "markdown",
   "id": "47a083b0",
   "metadata": {},
   "source": [
    "Dynamically Building the Name of the CSV File to store collected Data"
   ]
  },
  {
   "cell_type": "code",
   "execution_count": 115,
   "id": "3b9a496a",
   "metadata": {},
   "outputs": [
    {
     "data": {
      "text/plain": [
       "'Exito_Search_portatil_ASUS_Ryzen_7_1TB_16GB.csv'"
      ]
     },
     "execution_count": 115,
     "metadata": {},
     "output_type": "execute_result"
    }
   ],
   "source": [
    "csv_output_name = f\"Exito_Search_{SEARCH_QUERY.replace(\" \", \"_\")}.csv\"\n",
    "csv_output_name"
   ]
  },
  {
   "cell_type": "code",
   "execution_count": 21,
   "id": "b377b266",
   "metadata": {},
   "outputs": [
    {
     "name": "stdout",
     "output_type": "stream",
     "text": [
      "Search field found !\n"
     ]
    }
   ],
   "source": [
    "main_page=driver.current_url\n",
    "try:\n",
    "    search_field = wait10.until(\n",
    "        EC.presence_of_element_located((By.XPATH, \"//input[contains(@placeholder, 'Buscar en exito.com') and contains(@data-fs-input, 'true')]\"))\n",
    "    )\n",
    "    print(\"Search field found !\")\n",
    "    try:\n",
    "        search_field.send_keys(SEARCH_QUERY)\n",
    "        time.sleep(1)\n",
    "        search_field.send_keys(Keys.ENTER)\n",
    "\n",
    "    except Exception as e:\n",
    "        print(str(e))\n",
    "\n",
    "except:\n",
    "    print(\"Search field not found\")"
   ]
  },
  {
   "cell_type": "code",
   "execution_count": null,
   "id": "ec34f4ff",
   "metadata": {},
   "outputs": [],
   "source": [
    "def filter_products_img_urls(img_urls):\n",
    "    \"\"\"\n",
    "    Filtre une liste d'URLs d'images pour ne garder que celles qui contiennent **tous** les termes définis dans 'list_accepted_terms'.\n",
    "    \"\"\"\n",
    "    list_accepted_terms = [\"vtexassets\", \"arquivos\", \"ids\", \"v=\"]\n",
    "    \n",
    "    # Filtrer et garder uniquement les URLs qui contiennent **tous** les termes nécessaires\n",
    "    filtered_urls = [url for url in img_urls if all(term in url for term in list_accepted_terms)]\n",
    "    \n",
    "    return filtered_urls\n",
    "\n",
    "def normalize_text(text):\n",
    "    # Supprimer les sauts de ligne et les espaces inutiles\n",
    "    text = text.replace(\"\\n\", \" \")  # Remplacer les sauts de ligne par un espace\n",
    "    text = re.sub(r'\\s+', ' ', text)  # Remplacer les espaces multiples par un seul espace\n",
    "    text = text.strip()  # Supprimer les espaces en début et fin de texte\n",
    "    return text"
   ]
  },
  {
   "cell_type": "markdown",
   "id": "d6904168",
   "metadata": {},
   "source": [
    "# Data Collection"
   ]
  },
  {
   "cell_type": "code",
   "execution_count": 158,
   "id": "48072600",
   "metadata": {},
   "outputs": [],
   "source": [
    "from datetime import datetime as dt"
   ]
  },
  {
   "cell_type": "code",
   "execution_count": null,
   "id": "2f8e370b",
   "metadata": {},
   "outputs": [
    {
     "name": "stdout",
     "output_type": "stream",
     "text": [
      "5 articles found on the first page\n",
      "\n",
      "🛍️ Portatil Asus Intel Core I5 1235U Ram 16Gb Ssd 1Tb Pantalla 15.6 Fhd Quiet Blue Color\n",
      "💰 Prix actuel : $ 2.498.000\n",
      "💸 Ancien prix : $ 3.449.000\n",
      "🔻 Réduction : 28%%\n",
      "🖼️ Image originale: https://exitocol.vtexassets.com/arquivos/ids/23178710-300-auto/portatil-asus-intel-core-i5-1235u-ram-16gb-ssd-1tb-pantalla-156-fhd-quiet-blue-color.jpg?v=638539797549700000\n",
      "🔄 Image après survol: https://exitocol.vtexassets.com/arquivos/ids/23178711-300-auto/portatil-asus-intel-core-i5-1235u-ram-16gb-ssd-1tb-pantalla-156-fhd-quiet-blue-color.jpg?v=638539797551400000\n",
      "\n",
      "🛍️ Portatil Asus Amd Ryzen 7 7730U Ssd 1Tb Ram 16Gb Led 16 Full Hd\n",
      "💰 Prix actuel : $ 2.879.900\n",
      "💸 Ancien prix : $ 3.009.800\n",
      "🔻 Réduction : 4%%\n",
      "🖼️ Image originale: https://exitocol.vtexassets.com/arquivos/ids/23717525-300-auto/portatil-asus-amd-ryzen-7-7730u-ssd-1tb-ram-16gb-led-16-full-hd.jpg?v=638569370397670000\n",
      "🔄 Image après survol: https://exitocol.vtexassets.com/arquivos/ids/23717526-300-auto/portatil-asus-amd-ryzen-7-7730u-ssd-1tb-ram-16gb-led-16-full-hd.jpg?v=638569370399100000\n",
      "\n",
      "🛍️ Portatil Asus Amd Ryzen 7 7730U Ssd 1Tb Ram 16Gb Led 15,6 Pulgadas Full Hd\n",
      "💰 Prix actuel : $ 2.879.900\n",
      "💸 Ancien prix : $ 2.999.800\n",
      "🔻 Réduction : 4%%\n",
      "🖼️ Image originale: https://exitocol.vtexassets.com/arquivos/ids/23741338-300-auto/portatil-asus-amd-ryzen-7-7730u-ssd-1tb-ram-16gb-led-156-pulgadas-full-hd.jpg?v=638570202604400000\n",
      "🖼️ Pas de changement d'image après survol.\n",
      "\n",
      "🛍️ Portatil Asus Amd Ryzen 7 7730U Ssd 2Tb Ram 16Gb Led 16 Full Hd\n",
      "💰 Prix actuel : $ 3.189.900\n",
      "💸 Ancien prix : $ 3.779.800\n",
      "🔻 Réduction : 16%%\n",
      "🖼️ Image originale: https://exitocol.vtexassets.com/arquivos/ids/23717907-300-auto/portatil-asus-amd-ryzen-7-7730u-ssd-2tb-ram-16gb-led-16-full-hd.jpg?v=638569371266830000\n",
      "🖼️ Pas de changement d'image après survol.\n",
      "\n",
      "🛍️ Portatil Asus Amd Ryzen 7 7730U Ssd 1Tb Ram 12Gb Led 15,6 Pulgadas Full Hd\n",
      "💰 Prix actuel : $ 2.839.900\n",
      "💸 Ancien prix : $ 2.999.800\n",
      "🔻 Réduction : 5%%\n",
      "🖼️ Image originale: https://exitocol.vtexassets.com/arquivos/ids/23741328-300-auto/portatil-asus-amd-ryzen-7-7730u-ssd-1tb-ram-12gb-led-156-pulgadas-full-hd.jpg?v=638570202570700000\n",
      "🖼️ Pas de changement d'image après survol.\n"
     ]
    }
   ],
   "source": [
    "import logging\n",
    "from datetime import datetime as dt\n",
    "from selenium.webdriver.common.by import By\n",
    "from selenium.webdriver.common.action_chains import ActionChains\n",
    "from selenium.webdriver.common.exceptions import NoSuchElementException\n",
    "\n",
    "# Set up logging\n",
    "logging.basicConfig(level=logging.INFO, format='%(asctime)s - %(levelname)s - %(message)s')\n",
    "\n",
    "dict_results = {}\n",
    "today = dt.now()\n",
    "dict_results[\"Timestamp\"] = today\n",
    "count = 0\n",
    "page_num = 1\n",
    "\n",
    "while True:\n",
    "    # Récupérer la page de produits\n",
    "    time_sleep(page=page_num, action=\"navigate\", page_type=\"listing\")\n",
    "    logging.info(\"🚀 Navigating to product listing page...\")\n",
    "    \n",
    "    try:\n",
    "        product_listing = wait10.until(EC.presence_of_element_located((By.XPATH, \"//ul[contains(@data-fs-product-grid, 'true')]\")))\n",
    "        cards = product_listing.find_elements(By.XPATH, \".//div[contains(@class, 'productCard_contentInfo')]\")\n",
    "        total_results_str = wait10.until(EC.presence_of_element_located((By.XPATH, \"//p[contains(@data-testid, 'total-product-count')]\"))).text\n",
    "        match = re.search(r\"\\d{1,9}\", total_results_str)\n",
    "        \n",
    "        if match:\n",
    "            total_results = int(match.group())\n",
    "            dict_results[\"Total Result\"] = total_results\n",
    "            logging.info(f\"🔢 Total products found: {total_results}\")\n",
    "\n",
    "    except Exception as e:\n",
    "        logging.error(f\"❌ Error while fetching the product listing: {e}\")\n",
    "        break\n",
    "\n",
    "    # Boucle sur chaque produit\n",
    "    for card in cards:\n",
    "        count += 1\n",
    "        datas = {}\n",
    "\n",
    "        ####################### GET TITLE ##########################################################################################################################################################################################\n",
    "        \n",
    "        try:\n",
    "            time_sleep(page=page_num, action=\"scroll\", page_type=\"listing\")\n",
    "            logging.info(\"📝 Scraping product title...\")\n",
    "            title = wait10.until(EC.presence_of_element_located((By.XPATH, \".//h3[contains(@class, 'styles_name__qQJiK')]\")))\n",
    "            datas[\"Title\"] = title.text\n",
    "            logging.info(f\"📦 Product Title: {title.text}\")\n",
    "\n",
    "            actual_price = card.find_element(By.XPATH, \".//p[contains(@class, 'ProductPrice')]\").text\n",
    "            datas[\"Price\"] = actual_price\n",
    "            logging.info(f\"💰 Current Price: {actual_price}\")\n",
    "\n",
    "        ######################## GET PRICE AND DISCOUNTS ##########################################################################################################################################################################################\n",
    "        \n",
    "            try:\n",
    "                last_price = card.find_element(By.XPATH, \".//p[contains(@class, 'promotion_price')]\").text\n",
    "                datas[\"Last Price\"] = last_price\n",
    "                logging.info(f\"💸 Last Price: {last_price}\")\n",
    "                cleaned_actual_price = actual_price.replace('$', '').replace(',', '').strip()\n",
    "                cleaned_last_price = last_price.replace('$', '').replace(',', '').strip()\n",
    "                discount_value = get_discount_percentage(cleaned_last_price, cleaned_actual_price)\n",
    "                datas[\"Discount\"] = discount_value\n",
    "                logging.info(f\"🔻 Discount: {discount_value}%\")\n",
    "            except NoSuchElementException:\n",
    "                logging.info(\"❌ No promotion available for this product.\")\n",
    "\n",
    "            try:\n",
    "                images_zone = card.find_element(By.XPATH, \".//img[contains(@alt, 'Imagen del producto')]\")\n",
    "                img_url = images_zone.get_attribute('src')\n",
    "                datas[\"Original Image\"] = img_url\n",
    "                logging.info(f\"🖼️ Original Image URL: {img_url}\")\n",
    "                ActionChains(driver).move_to_element(images_zone).perform()\n",
    "                new_img_url = images_zone.get_attribute('src')\n",
    "                if new_img_url != img_url:\n",
    "                    datas[\"Hovered Image\"] = new_img_url\n",
    "                    logging.info(f\"🔄 Hovered Image URL: {new_img_url}\")\n",
    "                else:\n",
    "                    logging.info(\"🖼️ No change in image after hover.\")\n",
    "            except NoSuchElementException:\n",
    "                logging.info(\"❌ Image not found.\")\n",
    "\n",
    "            ########## PRODUCT PAGE SCRAPING ##########\n",
    "\n",
    "            logging.info(\"🔗 Navigating to product detail page...\")\n",
    "            link_producto_detalles = find_element(card, \"xpath\",\".//a[contains(@data-testid,'product-link')]\").get_attribute('href')\n",
    "            time_sleep(page=page_num, action=\"click\", page_type=\"listing\")\n",
    "            driver.get(link_producto_detalles)\n",
    "            time_sleep(page=page_num, action=\"navigate\", page_type=\"product\")\n",
    "            product_section = wait10.until(EC.presence_of_element_located((By.XPATH, \"//section[contains(@class, 'section product-details')]\")))\n",
    "\n",
    "            PLU_ID = find_element(product_section, \"xpath\", \".//span[contains(@class, 'product-title__specification')]\").text\n",
    "            datas[\"PLU_ID\"] = PLU_ID\n",
    "            logging.info(f\"🆔 PLU ID: {PLU_ID}\")\n",
    "\n",
    "            imgs_tags = find_elements(product_section, \"xpath\", \".//img[contains(@src, '')]\")\n",
    "            imgs_url = [img.get_attribute('src') for img in imgs_tags]\n",
    "            imgs_url = filter_products_img_urls(imgs_url)\n",
    "            datas['Images URL'] = imgs_url\n",
    "            logging.info(f\"🖼️ Product Images: {imgs_url}\")\n",
    "\n",
    "            stock_details = find_element(product_section, \"xpath\", \".//p[@data-fs-product-details-stock__qty='true']\").text\n",
    "            datas[\"Stock Details\"] = stock_details\n",
    "            logging.info(f\"📦 Stock Status: {stock_details}\")\n",
    "\n",
    "            dealer_part = find_element(product_section, \"xpath\", \".//a[contains(text(), 'Mundo digital vm')]\")\n",
    "            dealer = dealer_part.text\n",
    "            datas[\"Dealer\"] = dealer\n",
    "            dealer_url = dealer_part.get_attribute(\"href\")\n",
    "            datas[\"Dealer URL\"] = dealer_url\n",
    "            logging.info(f\"🏢 Dealer: {dealer}, URL: {dealer_url}\")\n",
    "\n",
    "            article_text_container = find_element(product_section, \"xpath\", \".//article[contains(@data-accordion-item, 'true') and contains(@data-testid, 'store-accordion-item-item')]\")\n",
    "            product_specifications = find_element(article_text_container, \"xpath\", \".//div[contains(@data-fs-content-specification,'true')]\")\n",
    "            detalles = find_elements(product_specifications, \"xpath\", \".//div[contains(@data-fs-specification,'')]\")\n",
    "            for div in detalles:\n",
    "                paragraph_title = find_element(div, \"xpath\", \".//p[contains(@data-fs-title-specification, 'true')]\").text\n",
    "                paragraph_text = find_element(div, \"xpath\", \".//p[contains(@data-fs-text-specification, 'true')]\").text\n",
    "                detail = f\"{paragraph_title}: {paragraph_text}\"\n",
    "                logging.info(f\"📋 Product Specification: {detail}\")\n",
    "\n",
    "            product_description = find_element(article_text_container, \"xpath\", \".//div[contains(@data-fs-description-text, '')]\").text\n",
    "            datas[\"Product Description\"] = product_description\n",
    "            logging.info(f\"📝 Product Description: {product_description}\")\n",
    "\n",
    "            delivery_details_zone = find_element(product_section, \"xpath\", \".//section[contains(@class, 'deliveryPromises')]\")\n",
    "            delivery_details = find_element(delivery_details_zone, \"xpath\", \".//span[contains(@data-fs-promises-bold,'true')]\").text\n",
    "            disponibilidad_compra_y_recoge = find_element(delivery_details_zone, \"xpath\", \".//p[contains(@data-fs-promises-bold,'true')]\").text\n",
    "            datas[\"Delivery Details\"] = delivery_details\n",
    "            datas[\"Purchase & Pick-up\"] = disponibilidad_compra_y_recoge\n",
    "            logging.info(f\"🚚 Delivery Info: {delivery_details}\")\n",
    "            logging.info(f\"🏪 Availability for Pick-up: {disponibilidad_compra_y_recoge}\")\n",
    "\n",
    "            dict_results[count] = datas\n",
    "\n",
    "            driver.back()\n",
    "            time_sleep(page=page_num, action=\"navigate\", page_type=\"listing\")\n",
    "\n",
    "        except Exception as e:\n",
    "            logging.error(f\"❌ Error occurred while scraping product: {e}\")\n",
    "            break\n",
    "\n",
    "    try:\n",
    "        time_sleep(page=page_num, action=\"click\", page_type=\"listing\")\n",
    "        button_next_page = wait10.until(EC.presence_of_element_located((By.XPATH, \"//button[contains(@class, 'Pagination_next')]\")))\n",
    "        button_next_page.click()\n",
    "        page_num += 1\n",
    "        logging.info(f\"📄 Moving to page {page_num}...\")\n",
    "    except NoSuchElementException:\n",
    "        logging.info(\"🚫 No next page found. Stopping the loop...\")\n",
    "        break\n"
   ]
  },
  {
   "cell_type": "code",
   "execution_count": null,
   "id": "5ddae67f",
   "metadata": {},
   "outputs": [
    {
     "name": "stdout",
     "output_type": "stream",
     "text": [
      "493 resultados\n",
      "Total Result : 493\n"
     ]
    }
   ],
   "source": [
    "total_results_str = wait10.until(EC.presence_of_element_located((By.XPATH, \"//p[contains(@data-testid, 'total-product-count')]\"))).text\n",
    "match = re.search(r\"\\d{1,9}\", total_results_str)\n",
    "\n",
    "if match:\n",
    "    total_results = int(match.group())\n",
    "    print(f\"Total Result : {total_results}\")"
   ]
  },
  {
   "cell_type": "code",
   "execution_count": null,
   "id": "ad63302f",
   "metadata": {},
   "outputs": [],
   "source": [
    "driver.get(\"https://www.exito.com/s?q=portatil+ASUS+Ryzen+7+1TB+RAM&sort=score_desc&page=0\")\n",
    "\n",
    "product_listing = wait10.until(EC.presence_of_element_located((By.XPATH, \"//ul[contains(@data-fs-product-grid, 'true')]\")))\n",
    "cards = product_listing.find_elements(By.XPATH, \".//div[contains(@class, 'productCard_contentInfo')]\")\n",
    "\n",
    "one_card = cards[0]"
   ]
  },
  {
   "cell_type": "markdown",
   "id": "9080ba6b",
   "metadata": {},
   "source": [
    "# Article Details"
   ]
  },
  {
   "cell_type": "code",
   "execution_count": null,
   "id": "6346a985",
   "metadata": {},
   "outputs": [
    {
     "name": "stdout",
     "output_type": "stream",
     "text": [
      "['https://exitocol.vtexassets.com/arquivos/ids/23178710/portatil-asus-intel-core-i5-1235u-ram-16gb-ssd-1tb-pantalla-156-fhd-quiet-blue-color.jpg?v=638539797549700000', 'https://exitocol.vtexassets.com/arquivos/ids/23178711/portatil-asus-intel-core-i5-1235u-ram-16gb-ssd-1tb-pantalla-156-fhd-quiet-blue-color.jpg?v=638539797551400000', 'https://exitocol.vtexassets.com/arquivos/ids/23178712/portatil-asus-intel-core-i5-1235u-ram-16gb-ssd-1tb-pantalla-156-fhd-quiet-blue-color.jpg?v=638539797552500000', 'https://exitocol.vtexassets.com/arquivos/ids/23178713/portatil-asus-intel-core-i5-1235u-ram-16gb-ssd-1tb-pantalla-156-fhd-quiet-blue-color.jpg?v=638539797554070000', 'https://exitocol.vtexassets.com/arquivos/ids/23178714/portatil-asus-intel-core-i5-1235u-ram-16gb-ssd-1tb-pantalla-156-fhd-quiet-blue-color.jpg?v=638539797556270000', 'https://exitocol.vtexassets.com/arquivos/ids/23178710/portatil-asus-intel-core-i5-1235u-ram-16gb-ssd-1tb-pantalla-156-fhd-quiet-blue-color.jpg?v=638539797549700000', 'https://exitocol.vtexassets.com/arquivos/ids/23178711/portatil-asus-intel-core-i5-1235u-ram-16gb-ssd-1tb-pantalla-156-fhd-quiet-blue-color.jpg?v=638539797551400000', 'https://exitocol.vtexassets.com/arquivos/ids/23178712/portatil-asus-intel-core-i5-1235u-ram-16gb-ssd-1tb-pantalla-156-fhd-quiet-blue-color.jpg?v=638539797552500000', 'https://exitocol.vtexassets.com/arquivos/ids/23178713/portatil-asus-intel-core-i5-1235u-ram-16gb-ssd-1tb-pantalla-156-fhd-quiet-blue-color.jpg?v=638539797554070000', 'https://exitocol.vtexassets.com/arquivos/ids/23178714/portatil-asus-intel-core-i5-1235u-ram-16gb-ssd-1tb-pantalla-156-fhd-quiet-blue-color.jpg?v=638539797556270000', 'https://exitocol.vtexassets.com/arquivos/ids/23178710/portatil-asus-intel-core-i5-1235u-ram-16gb-ssd-1tb-pantalla-156-fhd-quiet-blue-color.jpg?v=638539797549700000']\n",
      "Texte complet : ¡Últimas 10 unidades!\n",
      "Dealer: Mundo digital vm\n",
      "Dealer URL : https://www.exito.com/s?q=&seller=15148&facets=seller&sort=score_desc&page=0\n",
      "Puerto HDMI: Si\n",
      "Batería: 3 celdas, 41 WHr\n",
      "Procesador: INTEL CORE I 5 1235U\n",
      "Velocidad del procesador: 4.40GHZ\n",
      "Modelo: X1504ZA\n",
      "Puerto HDMI Si Batería 3 celdas, 41 WHr Procesador INTEL CORE I 5 1235U Velocidad del procesador 4.40GHZ Modelo X1504ZA Procesadores Intel® Core™ de 12ᵃ Generación Un impulso para el desempeño de tu mundo. Hasta un 40 % de mejora en el desempeño1 Supresión de ruido automática Ver todo Portátil Asus X1504ZA Core i5 1235u 16gb 1Tb FHD 60Hz 15.6 Convierte las tareas cotidianas en algo especial con Vivobook 15, tu herramienta esencial para hacer las cosas más fácilmente, en cualquier lugar. También es completamente fácil de usar, con su bisagra plana de 180° y el protector físico de la cámara web. ASUS Antimicrobial Guard Plus protege las superficies que se tocan con frecuencia de bacterias dañinas, salvaguardando su salud. ¡Haz que todos tus días sean más agradables con Vivobook 15! Con Vivobook 15, siempre estará listo para realizar cualquier tarea cotidiana, ya sea trabajo, juego o entretenimiento. Independientemente de lo que necesite lograr, siempre hay suficiente potencia informática disponible con procesador Intel de 12.ª generación.® Core™, 24GB de memoria rápida, 512Gb de almacenamiento SSD rápido y una amplia gama de conectividad inalámbrica hasta WiFi 6E7 le permite cargar contenido en línea en un abrir y cerrar de ojos. Carga con velocidad Vivobook 15 admite carga rápida, lo que le permite cargar una batería baja al 60 % en tan solo 49 minutos, ¡para que pueda estar listo y funcionando más rápido que nunca! ======-- ESPECIFICACIONES DETALLADAS --====== CONDICIONES Producto Nuevo Modelo X1504ZA Marca ASUS Color AZUL TRANQUILO PROCESADOR: Intel®Core™ i5-1235U 10 NUCLEOS / 12 HILOS FRECUENCIA BASE 1.30 GHz FREC. MAX NUCLEOS EFICIENTES 3.30 GHz FREC. MAX NUCLEOS PERFORMANCE 4.40 GHz MEMORIA TOTAL: 16GB Memoria DDR4 de 8 GB On Board + 1 x 8gb slot 16 GB DDR4 SO-DIMM ALMACENAMIENTO: 1 TB SSD M.2 NVMe™ PCIe® 3.0 TARJETA DE VÍDEO: gráficos Intel Iris X PANTALLA: 15,6\", FHD (1920 x 1080) 16:9, Retroiluminación LED, 60Hz , 250 nits, NTSC: 45 %, Pantalla antideslumbrante, TÜV Rheinland-certified SISTEMA OPERATIVO: FREE-DOS PUERTOS: 1x USB 2.0 Tipo A 1x USB 3.2 Gen 1 Tipo C 2x USB 3.2 Gen 1 Tipo A 1x HDMI 1.4 1x conector de audio combinado de 3,5 mm 1x entrada CC Ranuras de expansión 1x ranura DDR4 SO-DIMM 1x M.2 2280 PCIe 4.0x4 DIMENSIONES: 35.97 x 23.25 x 1.79 Peso 1.70 kg (3.75 lbs) CÁMARA: Cámara 720p HD Con bloqueo de seguridad AUDIO Y PARLANTES: SonicMaster Altavoz incorporado Matriz de micrófono incorporada con compatibilidad de reconocimiento de voz de Cortana TECLADO: Teclado tipo chiclet, Precision Touchpad Sensor de huellas dactilares integrado con el panel táctil CONECTIVIDAD: Wi-Fi 6E (802.11ax) (Doble banda) 1*1 + Bluetooth® 5.3 BATERIA PRINCIPAL: 42 Wh, 3S1P, 3 celdas Li-ion Alimentación Adaptador de CA de ø4,5, 45 W, Salida: 19 V CC, 2,37 A, 45 W, Entrada: 100-240 V CA 50/60 Hz universal 45W AC Adapter (included with ADL U series Processor) CERTIFICACIONES: Grado militar Estándar de grado militar US MIL-STD 810H Cumplimiento normativo EPEAT Silver Energy star 8.0 RoHS REACH (Este producto es 100% nuevo y original que ha sido repotencializado en una de sus partes para un mayor rendimiento.). The Asus Vivobook 15 (X1504VA-NJ522WS) is a powerful and versatile laptop, offering an excellent balance of performance, portability, and personal tasks, a student navigating through academic commitments, or just someone who appreciates a good entertainment experience, the Vivobook 15 meets the mark on all fronts. Ver todo\n"
     ]
    }
   ],
   "source": [
    "##########  PRODUCT PAGE SCRAPING ###########################################################################################################################################################################################################################\n",
    "\n",
    "product_section = find_element(driver, \"xpath\", \"//section[contains(@class, 'section product-details')]\")\n",
    "\n",
    "PLU_ID = find_element(product_section, \"xpath\", \".//span[contains(@class, 'product-title__specification')]\").text\n",
    "\n",
    "# Récupération des images\n",
    "imgs_tags = find_elements(product_section, \"xpath\", \".//img[contains(@src, '')]\")\n",
    "\n",
    "imgs_url = [img.get_attribute('src') for img in imgs_tags]\n",
    "\n",
    "imgs_url =filter_products_img_urls(imgs_url)\n",
    "print(imgs_url)\n",
    "\n",
    "stock_details = find_element(product_section, \"xpath\", \".//p[@data-fs-product-details-stock__qty='true']\").text\n",
    "\n",
    "# Affiche le texte\n",
    "print(f\"Texte complet : {stock_details}\")\n",
    "\n",
    "\n",
    "# Trouver l'élément <a> contenant \"Mundo digital vm\"\n",
    "dealer_part = find_element(product_section, \"xpath\", \".//a[contains(text(), 'Mundo digital vm')]\")\n",
    "\n",
    "# Récupérer le texte de l'élément <a> (le texte \"Mundo digital vm\")\n",
    "dealer = dealer_part.text\n",
    "print(f\"Dealer: {dealer}\")\n",
    "\n",
    "# Récupérer l'URL associée à cet élément <a>\n",
    "dealer_url = dealer_part.get_attribute(\"href\")\n",
    "print(f\"Dealer URL : {dealer_url}\")\n",
    "\n",
    "\n",
    "article_text_container = find_element(product_section, \n",
    "    \"xpath\", \".//article[contains(@data-accordion-item, 'true') and contains(@data-testid, 'store-accordion-item-item')]\")\n",
    "\n",
    "product_specifications = find_element(article_text_container, \n",
    "            \"xpath\", \".//div[contains(@data-fs-content-specification,'true')]\")\n",
    "detalles = find_elements(product_specifications, \n",
    "        \"xpath\", \".//div[contains(@data-fs-specification,'')]\")\n",
    "len(detalles)\n",
    "for div in detalles:\n",
    "    paragraph_title = find_element(div, \"xpath\", \".//p[contains(@data-fs-title-specification, 'true')]\").text\n",
    "    paragraph_text = find_element(div, \"xpath\", \".//p[contains(@data-fs-text-specification, 'true')]\").text\n",
    "    detail = f\"{paragraph_title}: {paragraph_text}\"\n",
    "    print(detail)\n",
    "product_description = find_element(article_text_container, \"xpath\", \n",
    "                    \".//div[contains(@data-fs-description-text, '')]\").text\n",
    "\n",
    "normalized_description = normalize_text(product_description)\n",
    "print(normalized_description)\n",
    "\n",
    "delivery_details_zone = find_element(product_section, \"xpath\", \n",
    "\".//section[contains(@class, 'deliveryPromises')]\")\n",
    "delivery_details = find_element(delivery_details_zone, \"xpath\",\n",
    "            \".//span[contains(@data-fs-promises-bold,'true')]\").text\n",
    "disponibilidad_compra_y_recoge = find_element(delivery_details_zone, \"xpath\",\n",
    "            \".//p[contains(@data-fs-promises-bold,'true')]\").text\n",
    "\n",
    "##########  ###########################################################################################################################################################################################################################\n",
    "\n"
   ]
  },
  {
   "cell_type": "markdown",
   "id": "664c248a",
   "metadata": {},
   "source": [
    "Go on the Computer Page"
   ]
  },
  {
   "cell_type": "code",
   "execution_count": 110,
   "id": "7ca4983d",
   "metadata": {},
   "outputs": [
    {
     "name": "stdout",
     "output_type": "stream",
     "text": [
      "Catégorie 'Tecnología' cliquée.\n",
      "Lien cliqué vers la page 'Portátiles'\n"
     ]
    }
   ],
   "source": [
    "category = \"Tecnología\"\n",
    "article_type_choice = \"Portátiles\"\n",
    "\n",
    "main_page=driver.current_url\n",
    "def go_to_article_page(driver, category, article_type):\n",
    "    import time\n",
    "    from selenium.webdriver.common.by import By\n",
    "\n",
    "    try:\n",
    "        # Récupère le menu des catégories\n",
    "        categories_menu = driver.find_element(By.XPATH, '//*[@id=\"header-page\"]/aside/ul/section[2]')\n",
    "\n",
    "        # Cherche tous les div ayant l'attribut data-link-content=\"true\"\n",
    "        divs_with_data_link_content = categories_menu.find_elements(By.XPATH, './/div[@data-link-content=\"true\"]')\n",
    "\n",
    "        # Clique sur la catégorie principale\n",
    "        for div in divs_with_data_link_content:\n",
    "            if div.text.strip() == category:\n",
    "                div.click()\n",
    "                print(f\"Catégorie '{category}' cliquée.\")\n",
    "                time.sleep(1)\n",
    "                break\n",
    "\n",
    "        # Menu déroulé : chercher le type d'article\n",
    "        selected_menu = driver.find_element(By.XPATH, './/ul[@data-content-list=\"true\"]')\n",
    "        list_elements = selected_menu.find_elements(By.TAG_NAME, 'li')\n",
    "\n",
    "        for li in list_elements:\n",
    "            if li.text.strip() == article_type:\n",
    "                try:\n",
    "                    link = li.find_element(By.TAG_NAME, 'a')\n",
    "                    link.click()\n",
    "                    print(f\"Lien cliqué vers la page '{article_type}'\")\n",
    "                    time.sleep(2)\n",
    "                    return driver.current_url\n",
    "                except:\n",
    "                    print(f\"Lien introuvable dans l'élément '{article_type}'\")\n",
    "                    return None\n",
    "        print(f\"Type d'article '{article_type}' non trouvé.\")\n",
    "        return None\n",
    "\n",
    "    except Exception as e:\n",
    "        print(f\"Erreur lors de la navigation : {e}\")\n",
    "        return None\n",
    "try:\n",
    "    go_to_article_page(driver, category, article_type_choice)\n",
    "except Exception as e:\n",
    "    print(str(e))"
   ]
  },
  {
   "cell_type": "markdown",
   "id": "fe1458d8",
   "metadata": {},
   "source": [
    "Getting all the Checkboxes"
   ]
  },
  {
   "cell_type": "code",
   "execution_count": null,
   "id": "bfdcf38a",
   "metadata": {},
   "outputs": [],
   "source": [
    "computer_filter_menu = driver.find_element(By.XPATH, \"//div[@class='accordion_fs-accordion__mi4MR']\")\n",
    "\n",
    "# Récupère tous les titres des filtres (balises h4)\n",
    "filters = computer_filter_menu.find_elements(By.TAG_NAME, 'h4')\n",
    "Sub_categoría = filters[1]\n",
    "\n",
    "# desktop-store-filter-Sub-categoría-Accesorios de cámaras\n",
    "\n",
    "# Vérifier si l'élément Sub_categoría a été trouvé\n",
    "if Sub_categoría:\n",
    "    # Trouver toutes les checkboxes à l'intérieur de 'Sub_categoría'\n",
    "    checkboxes = Sub_categoría.find_elements(By.XPATH, '//input[@type=\"checkbox\" and @data-fs-checkbox=\"true\"]')\n",
    "    print(f\"Nombre de checkboxes trouvées : {len(checkboxes)}\")\n",
    "    for checkbox in checkboxes:\n",
    "        print(checkbox.get_attribute(\"data-value\"))\n",
    "else:\n",
    "    print(\"L'élément 'Sub-categoría' n'a pas été trouvé.\")"
   ]
  },
  {
   "cell_type": "code",
   "execution_count": 125,
   "id": "2198c3e8",
   "metadata": {},
   "outputs": [],
   "source": [
    "def cocher_checkboxes(filters_choice, checkboxes, driver):\n",
    "    # Normalisation des filtres\n",
    "    filters_normalized = [unidecode(item.lower()) for item in filters_choice]\n",
    "\n",
    "    for i in range(len(checkboxes)):\n",
    "        try:\n",
    "            # On relocalise à chaque boucle pour éviter stale\n",
    "            checkboxes_refreshed = driver.find_elements(By.CSS_SELECTOR, \"input[type='checkbox'][data-value]\")\n",
    "            if i >= len(checkboxes_refreshed):\n",
    "                break  # Au cas où le DOM change\n",
    "\n",
    "            checkbox = checkboxes_refreshed[i]\n",
    "\n",
    "            data_value_raw = checkbox.get_attribute(\"data-value\")\n",
    "            if data_value_raw is None:\n",
    "                continue\n",
    "\n",
    "            data_value = unidecode(data_value_raw.replace(\"-\", \" \").lower())\n",
    "            matched = any(f in data_value for f in filters_normalized)\n",
    "\n",
    "            if matched and not checkbox.is_selected():\n",
    "                click_with_JS(checkbox, driver)\n",
    "                print(f\"[CHECK] Checkbox pour '{data_value}' cochée.\")\n",
    "\n",
    "            elif not matched and checkbox.is_selected():\n",
    "                click_with_JS(checkbox, driver)\n",
    "                print(f\"[UNCHECK] Checkbox pour '{data_value}' décochée.\")\n",
    "        \n",
    "        except Exception as e:\n",
    "            print(f\"[ERROR] Problème sur checkbox {i}: {e}\")\n",
    "            continue\n",
    "\n",
    "from unidecode import unidecode\n"
   ]
  },
  {
   "cell_type": "code",
   "execution_count": 123,
   "id": "4df878ce",
   "metadata": {},
   "outputs": [],
   "source": [
    "queries = [\n",
    "    \"asus\", \"8 gb\", \"16 GB\", \"nvidia\", \"amd\", \"24 gb\", \"32 gb\", \"ssd\",\n",
    "    \"ryzen 7\", \"500 GB\", \"1 TB\", \"i7\", \"gaming\", 'portatiles'\n",
    "]"
   ]
  },
  {
   "cell_type": "code",
   "execution_count": 126,
   "id": "7c26adc9",
   "metadata": {},
   "outputs": [
    {
     "name": "stdout",
     "output_type": "stream",
     "text": [
      "[CHECK] Checkbox pour 'computadores gaming' cochée.\n",
      "[CHECK] Checkbox pour 'portatiles' cochée.\n",
      "[CHECK] Checkbox pour 'amd' cochée.\n",
      "[CHECK] Checkbox pour 'astro gaming' cochée.\n",
      "[CHECK] Checkbox pour 'asus' cochée.\n"
     ]
    }
   ],
   "source": [
    "try:\n",
    "    cocher_checkboxes(filters_choice=queries, checkboxes=checkboxes,driver=driver)\n",
    "except Exception as e:\n",
    "    print(str(e))"
   ]
  },
  {
   "cell_type": "code",
   "execution_count": 38,
   "id": "8ed6ffd7",
   "metadata": {},
   "outputs": [],
   "source": [
    "from currencies import Currency\n",
    "\n",
    "class CurrencyConverter:\n",
    "    def __init__(self, from_currency, to_currency, exchange_rate):\n",
    "        self.from_currency = Currency(from_currency)\n",
    "        self.to_currency = Currency(to_currency)\n",
    "        self.exchange_rate = exchange_rate\n",
    "\n",
    "    def convert(self, amount):\n",
    "        # Effectuer la conversion de l'euro vers le COP\n",
    "        amount_in_target_currency = amount * self.exchange_rate\n",
    "        # Retourne un float sans formatage en chaîne\n",
    "        return amount_in_target_currency\n",
    "\n",
    "# Exemple d'utilisation :\n",
    "# Taux de conversion (peut être récupéré depuis une API, ici 1 EUR = 4500 COP)\n",
    "exchange_rate_eur_to_cop = 4500\n",
    "\n",
    "# Création d'un convertisseur de devise\n",
    "converter_eur_cop = CurrencyConverter('EUR', 'COP', exchange_rate_eur_to_cop)\n"
   ]
  },
  {
   "cell_type": "code",
   "execution_count": 82,
   "id": "98eb819c",
   "metadata": {},
   "outputs": [],
   "source": [
    "# Exemple d'utilisation\n",
    "min_value = converter_eur_cop.convert(300)  # Conversion de 300 EUR\n",
    "max_value = converter_eur_cop.convert(500)  # Conversion de 450 EUR"
   ]
  },
  {
   "cell_type": "code",
   "execution_count": 105,
   "id": "ff756298",
   "metadata": {},
   "outputs": [],
   "source": [
    "def set_slider_value(driver, min_value, max_value):\n",
    "    # Récupérer la valeur actuelle des deux sliders avant de les changer\n",
    "    initial_left_value = driver.execute_script(\"\"\"\n",
    "    const leftSlider = document.querySelector('input[type=\"range\"][data-slider-thumb=\"left\"]');\n",
    "    return leftSlider ? leftSlider.value : null;\n",
    "    \"\"\")\n",
    "    \n",
    "    initial_right_value = driver.execute_script(\"\"\"\n",
    "    const rightSlider = document.querySelector('input[type=\"range\"][data-slider-thumb=\"right\"]');\n",
    "    return rightSlider ? rightSlider.value : null;\n",
    "    \"\"\")\n",
    "\n",
    "    print(f\"Valeur initiale du slider gauche : {initial_left_value}\")\n",
    "    print(f\"Valeur initiale du slider droit : {initial_right_value}\")\n",
    "\n",
    "    # Changer la valeur des sliders via JavaScript\n",
    "    script = \"\"\"\n",
    "    const leftSlider = document.querySelector('input[type=\"range\"][data-slider-thumb=\"left\"]');\n",
    "    const rightSlider = document.querySelector('input[type=\"range\"][data-slider-thumb=\"right\"]');\n",
    "    \n",
    "    if (leftSlider) {\n",
    "        leftSlider.value = arguments[0]; // Définir la nouvelle valeur du slider gauche\n",
    "        leftSlider.dispatchEvent(new Event('input', { bubbles: true })); // Simuler l'événement 'input'\n",
    "        leftSlider.dispatchEvent(new Event('change', { bubbles: true })); // Simuler l'événement 'change'\n",
    "    }\n",
    "\n",
    "    if (rightSlider) {\n",
    "        rightSlider.value = arguments[1]; // Définir la nouvelle valeur du slider droit\n",
    "        rightSlider.dispatchEvent(new Event('input', { bubbles: true })); // Simuler l'événement 'input'\n",
    "        rightSlider.dispatchEvent(new Event('change', { bubbles: true })); // Simuler l'événement 'change'\n",
    "    }\n",
    "    \"\"\"\n",
    "    # Exécuter le script pour changer les valeurs des deux sliders\n",
    "    driver.execute_script(script, min_value, max_value)\n",
    "\n",
    "    # Récupérer la nouvelle valeur des deux sliders après modification\n",
    "    final_left_value = driver.execute_script(\"\"\"\n",
    "    const leftSlider = document.querySelector('input[type=\"range\"][data-slider-thumb=\"left\"]');\n",
    "    return leftSlider ? leftSlider.value : null;\n",
    "    \"\"\")\n",
    "\n",
    "    final_right_value = driver.execute_script(\"\"\"\n",
    "    const rightSlider = document.querySelector('input[type=\"range\"][data-slider-thumb=\"right\"]');\n",
    "    return rightSlider ? rightSlider.value : null;\n",
    "    \"\"\")\n",
    "\n",
    "    print(f\"Valeur après modification du slider gauche : {final_left_value}\")\n",
    "    print(f\"Valeur après modification du slider droit : {final_right_value}\")\n",
    "\n",
    "    # Comparer les valeurs avant et après\n",
    "    if initial_left_value != final_left_value:\n",
    "        print(f\"Le slider gauche a été mis à jour avec succès. Nouvelle valeur : {final_left_value}\")\n",
    "    else:\n",
    "        print(f\"Aucune modification n'a été effectuée sur le slider gauche. Valeur actuelle : {final_left_value}\")\n",
    "\n",
    "    if initial_right_value != final_right_value:\n",
    "        print(f\"Le slider droit a été mis à jour avec succès. Nouvelle valeur : {final_right_value}\")\n",
    "    else:\n",
    "        print(f\"Aucune modification n'a été effectuée sur le slider droit. Valeur actuelle : {final_right_value}\")\n"
   ]
  },
  {
   "cell_type": "code",
   "execution_count": 106,
   "id": "975fa476",
   "metadata": {},
   "outputs": [
    {
     "name": "stdout",
     "output_type": "stream",
     "text": [
      "Valeur initiale du slider gauche : 38000\n",
      "Valeur initiale du slider droit : 38000\n",
      "Valeur après modification du slider gauche : 1350000\n",
      "Valeur après modification du slider droit : 2250000\n",
      "Le slider gauche a été mis à jour avec succès. Nouvelle valeur : 1350000\n",
      "Le slider droit a été mis à jour avec succès. Nouvelle valeur : 2250000\n"
     ]
    }
   ],
   "source": [
    "set_slider_value(driver, min_value, max_value)"
   ]
  },
  {
   "cell_type": "code",
   "execution_count": 107,
   "id": "73f4e60e",
   "metadata": {},
   "outputs": [],
   "source": [
    "aplicar_filtros = driver.find_element(By.XPATH, \"//button[normalize-space()='Aplicar filtros']\")\n",
    "aplicar_filtros.click()"
   ]
  }
 ],
 "metadata": {
  "kernelspec": {
   "display_name": "env",
   "language": "python",
   "name": "python3"
  },
  "language_info": {
   "codemirror_mode": {
    "name": "ipython",
    "version": 3
   },
   "file_extension": ".py",
   "mimetype": "text/x-python",
   "name": "python",
   "nbconvert_exporter": "python",
   "pygments_lexer": "ipython3",
   "version": "3.13.2"
  }
 },
 "nbformat": 4,
 "nbformat_minor": 5
}
