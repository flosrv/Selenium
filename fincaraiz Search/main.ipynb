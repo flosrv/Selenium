{
 "cells": [
  {
   "cell_type": "code",
   "execution_count": 1,
   "id": "013ad319",
   "metadata": {},
   "outputs": [],
   "source": [
    "from imports import *\n",
    "from functions import *\n",
    "from auth import *\n",
    "from constants import *"
   ]
  },
  {
   "cell_type": "code",
   "execution_count": null,
   "id": "ef1b42bb",
   "metadata": {},
   "outputs": [],
   "source": [
    "driver = create_driver()\n"
   ]
  },
  {
   "cell_type": "code",
   "execution_count": 52,
   "id": "b2de6b18",
   "metadata": {},
   "outputs": [],
   "source": [
    "wait = WebDriverWait(driver, 3)"
   ]
  },
  {
   "cell_type": "code",
   "execution_count": 54,
   "id": "3b95de7e",
   "metadata": {},
   "outputs": [
    {
     "name": "stdout",
     "output_type": "stream",
     "text": [
      "⏳ Tentative de suppression du popup Fincaraiz...\n",
      "🧨 Pop-up Fincaraiz supprimé.\n",
      "Erreur lors de la connexion :\n",
      "name 'wait' is not defined\n"
     ]
    }
   ],
   "source": [
    "login(driver, email, password)"
   ]
  },
  {
   "cell_type": "markdown",
   "id": "4e3ed407",
   "metadata": {},
   "source": [
    "Type of contract"
   ]
  },
  {
   "cell_type": "code",
   "execution_count": null,
   "id": "8b1b5084",
   "metadata": {},
   "outputs": [
    {
     "name": "stdout",
     "output_type": "stream",
     "text": [
      "Option trouvée : Venta\n",
      ">> 'Venta' sélectionné.\n"
     ]
    }
   ],
   "source": [
    "buy_rent_projects =\"arriendo\"\n",
    "choose_rent_buy_projects(driver, buy_rent_projects)"
   ]
  },
  {
   "cell_type": "markdown",
   "id": "bc9a276d",
   "metadata": {},
   "source": [
    "Type of Real Estate"
   ]
  },
  {
   "cell_type": "code",
   "execution_count": null,
   "id": "2aae969b",
   "metadata": {},
   "outputs": [
    {
     "name": "stdout",
     "output_type": "stream",
     "text": [
      "✅ Sélections supprimées.\n"
     ]
    }
   ],
   "source": [
    "real_estate_types = [\"apartamento\", \"apartaestudio\"]\n",
    "\n",
    "select_real_estate_types(driver, real_estate_types)"
   ]
  }
 ],
 "metadata": {
  "kernelspec": {
   "display_name": "env",
   "language": "python",
   "name": "python3"
  },
  "language_info": {
   "codemirror_mode": {
    "name": "ipython",
    "version": 3
   },
   "file_extension": ".py",
   "mimetype": "text/x-python",
   "name": "python",
   "nbconvert_exporter": "python",
   "pygments_lexer": "ipython3",
   "version": "3.13.2"
  }
 },
 "nbformat": 4,
 "nbformat_minor": 5
}
