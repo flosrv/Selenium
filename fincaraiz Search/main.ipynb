{
 "cells": [
  {
   "cell_type": "code",
   "execution_count": 1,
   "id": "013ad319",
   "metadata": {},
   "outputs": [],
   "source": [
    "from imports import *\n",
    "from functions import *\n",
    "from auth import *\n",
    "from constants import *"
   ]
  },
  {
   "cell_type": "code",
   "execution_count": 2,
   "id": "ef1b42bb",
   "metadata": {},
   "outputs": [],
   "source": [
    "driver = create_driver()\n",
    "wait = WebDriverWait(driver, 3)"
   ]
  },
  {
   "cell_type": "code",
   "execution_count": 3,
   "id": "3b95de7e",
   "metadata": {},
   "outputs": [
    {
     "name": "stdout",
     "output_type": "stream",
     "text": [
      "⏳ Tentative de suppression du popup Fincaraiz...\n",
      "🧨 Pop-up Fincaraiz supprimé.\n",
      "Erreur lors de la connexion :\n",
      "name 'wait' is not defined\n"
     ]
    }
   ],
   "source": [
    "login(driver, email, password)"
   ]
  },
  {
   "cell_type": "code",
   "execution_count": null,
   "id": "2aae969b",
   "metadata": {},
   "outputs": [],
   "source": [
    "real_estate_types = [\"apartamento\", \"apartaestudio\", \"cabana\", \"casa campestre\", \"casa lote\", \"finca\", \"habitacion\"]\n"
   ]
  },
  {
   "cell_type": "code",
   "execution_count": null,
   "id": "ca983486",
   "metadata": {},
   "outputs": [
    {
     "name": "stdout",
     "output_type": "stream",
     "text": [
      "✅ Sélections supprimées.\n",
      "\n",
      "Apartamento\n",
      "Apartaestudio\n",
      "Cabaña\n",
      "Casa Campestre\n",
      "Casa Lote\n",
      "Finca\n",
      "Habitación\n",
      "\n",
      "choices not found:\n",
      " Message: element not interactable\n",
      "  (Session info: chrome=135.0.7049.96)\n",
      "Stacktrace:\n",
      "\tGetHandleVerifier [0x00007FF7779D5355+78597]\n",
      "\tGetHandleVerifier [0x00007FF7779D53B0+78688]\n",
      "\t(No symbol) [0x00007FF777788FDC]\n",
      "\t(No symbol) [0x00007FF7777E061D]\n",
      "\t(No symbol) [0x00007FF7777D2204]\n",
      "\t(No symbol) [0x00007FF7778070EA]\n",
      "\t(No symbol) [0x00007FF7777D1AB6]\n",
      "\t(No symbol) [0x00007FF777807300]\n",
      "\t(No symbol) [0x00007FF77782F2BB]\n",
      "\t(No symbol) [0x00007FF777806EC3]\n",
      "\t(No symbol) [0x00007FF7777D03F8]\n",
      "\t(No symbol) [0x00007FF7777D1163]\n",
      "\tGetHandleVerifier [0x00007FF777C7EF0D+2870973]\n",
      "\tGetHandleVerifier [0x00007FF777C796B8+2848360]\n",
      "\tGetHandleVerifier [0x00007FF777C96993+2967875]\n",
      "\tGetHandleVerifier [0x00007FF7779F019A+188746]\n",
      "\tGetHandleVerifier [0x00007FF7779F847F+222255]\n",
      "\tGetHandleVerifier [0x00007FF7779DD2D4+111236]\n",
      "\tGetHandleVerifier [0x00007FF7779DD482+111666]\n",
      "\tGetHandleVerifier [0x00007FF7779C35A9+5465]\n",
      "\tBaseThreadInitThunk [0x00007FFB21767374+20]\n",
      "\tRtlUserThreadStart [0x00007FFB21C5CC91+33]\n",
      "\n"
     ]
    }
   ],
   "source": [
    "select_area = driver.find_element(By.CSS_SELECTOR, \".ant-select-selector\")\n",
    "clear_ant_select_choices(driver)\n",
    "select_area.click()\n",
    "\n",
    "try:\n",
    "    # Attendre que l'élément contenant \"Casa\" soit cliquable\n",
    "    choices = driver.find_elements(By.CLASS_NAME, \"ant-select-item-option-content\")\n",
    "\n",
    "    for choice in choices:\n",
    "        if choice.text.lower() == \"casa\":\n",
    "            choice_casa = choice\n",
    "        if choice.text.lower() == \"apartaestudio\":\n",
    "            choice_apartaestudio= choice\n",
    "        if choice.text.lower() == \"cabaña\" or choice.text.lower() == \"cabana\":\n",
    "            choice_cabana = choice\n",
    "        if choice.text.lower() == \"casa\":\n",
    "            choice_casa = choice\n",
    "        if choice.text.lower() == \"casa\":\n",
    "            choice_casa = choice\n",
    "        if choice.text.lower() == \"casa\":\n",
    "            choice_casa = choice\n",
    "        if choice.text.lower() == \"casa\":\n",
    "            choice_casa = choice\n",
    "             \n",
    "        \n",
    "        print(choice.text)\n",
    "        choice.click()\n",
    "\n",
    "except Exception as e:\n",
    "    print(f\"choices not found:\\n {str(e)}\")"
   ]
  },
  {
   "cell_type": "code",
   "execution_count": null,
   "id": "49b002ee",
   "metadata": {},
   "outputs": [
    {
     "name": "stdout",
     "output_type": "stream",
     "text": [
      "<selenium.webdriver.remote.webelement.WebElement (session=\"eaa6526b39e2105c23239c4b27a7fa56\", element=\"f.9DE8707C9116CADA51E0D830377D59CF.d.671935E017091FDA8A1DDC827C0DE624.e.38\")>\n"
     ]
    }
   ],
   "source": [
    "ant_selector = driver.find_element(By.XPATH, \"//div[@class='ant-select-selector']\")\n",
    "ant_selector.click()\n",
    "\n",
    "try:\n",
    "    div_choices = driver.find_element(By.XPATH,\"//div[@class='home-cover_content']\")\n",
    "    print(div_choices)\n",
    "    for choice in\n",
    "except Exception as e:\n",
    "    print(\"div_choices not found\")\n",
    "\n",
    "\n",
    "try:\n",
    "    # Attendre que les options soient visibles (s'il y a un délai de chargement)\n",
    "    options = ant_selector.find_elements(By.CSS_SELECTOR, \"div[class='ant-select-item-option-content']\")\n",
    "    # Afficher chaque option disponible\n",
    "    for option in options:\n",
    "        print(option.text)\n",
    "except:\n",
    "    print(\"Element non trouvé\")\n"
   ]
  },
  {
   "cell_type": "code",
   "execution_count": null,
   "id": "2ce11b93",
   "metadata": {},
   "outputs": [],
   "source": [
    "clear_ant_select_choices()\n"
   ]
  }
 ],
 "metadata": {
  "kernelspec": {
   "display_name": "env",
   "language": "python",
   "name": "python3"
  },
  "language_info": {
   "codemirror_mode": {
    "name": "ipython",
    "version": 3
   },
   "file_extension": ".py",
   "mimetype": "text/x-python",
   "name": "python",
   "nbconvert_exporter": "python",
   "pygments_lexer": "ipython3",
   "version": "3.13.2"
  }
 },
 "nbformat": 4,
 "nbformat_minor": 5
}
