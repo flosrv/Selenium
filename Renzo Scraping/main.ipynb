{
 "cells": [
  {
   "cell_type": "code",
   "execution_count": null,
   "id": "1076d76e",
   "metadata": {},
   "outputs": [],
   "source": [
    "from functions import *\n",
    "from imports import *\n",
    "from constants import *"
   ]
  },
  {
   "cell_type": "code",
   "execution_count": null,
   "id": "0753271f",
   "metadata": {},
   "outputs": [],
   "source": [
    "data_dict = {}"
   ]
  },
  {
   "cell_type": "code",
   "execution_count": null,
   "id": "92c73fde",
   "metadata": {},
   "outputs": [],
   "source": [
    "driver  = create_driver()"
   ]
  },
  {
   "cell_type": "code",
   "execution_count": null,
   "id": "2becd969",
   "metadata": {},
   "outputs": [],
   "source": [
    "data_dict[\"urls\"] ={}\n",
    "data_dict[\"urls\"][\"Main Page\"] = driver.current_url"
   ]
  },
  {
   "cell_type": "code",
   "execution_count": null,
   "id": "41534340",
   "metadata": {},
   "outputs": [],
   "source": [
    "wait = WebDriverWait(driver=driver, timeout=3)\n",
    "# Créer une instance d'ActionChains pour interagir avec l'élément\n",
    "actions = ActionChains(driver)"
   ]
  },
  {
   "cell_type": "markdown",
   "id": "37cec6f5",
   "metadata": {},
   "source": [
    "# Connection"
   ]
  },
  {
   "cell_type": "code",
   "execution_count": null,
   "id": "c2552e0b",
   "metadata": {},
   "outputs": [],
   "source": [
    "button_mi_cuenta = driver.find_element(By.XPATH, \n",
    "                                       \"//a[normalize-space()='Mi cuenta']\")\n",
    "if button_mi_cuenta.is_enabled():\n",
    "    button_mi_cuenta.click()\n",
    "    time_sleep()\n",
    "    data_dict[\"urls\"][\"Connection Page\"] = driver.current_url\n",
    "\n",
    "\n",
    "email_zone = driver.find_element(By.XPATH, \n",
    "        \"//form[@action='https://renzo.com.co/mi-cuenta/?action=login']//input[@id='username']\")\n",
    "email_zone.send_keys(my_email)\n",
    "time_sleep()\n",
    "password_zone = driver.find_element(By.XPATH, \n",
    "    \"//form[@action='https://renzo.com.co/mi-cuenta/?action=login']//input[@id='password']\")\n",
    "password_zone.send_keys(my_password)\n",
    "time_sleep()\n",
    "recordame = driver.find_element(By.XPATH, \n",
    "        \"//form[@action='https://renzo.com.co/mi-cuenta/?action=login']//input[@name='rememberme']\")\n",
    "if recordame.is_enabled() and not recordame.is_selected():\n",
    "    recordame.click()\n",
    "time_sleep()\n",
    "ingresar = driver.find_element(By.XPATH,\n",
    "    \"//form[@action='https://renzo.com.co/mi-cuenta/?action=login']//button[@name='login'][normalize-space()='Ingresar']\")\n",
    "if ingresar.is_enabled() and not ingresar.is_selected():\n",
    "    ingresar.click()\n",
    "    WebDriverWait(driver, 10).until(\n",
    "    EC.presence_of_element_located((By.TAG_NAME, \"body\"))\n",
    "    )\n",
    "    time_sleep()    \n",
    "    driver.get(data_dict[\"urls\"][\"Main Page\"])\n"
   ]
  },
  {
   "cell_type": "markdown",
   "id": "a6373b7e",
   "metadata": {},
   "source": [
    "# Menu Nav-Bar"
   ]
  },
  {
   "cell_type": "code",
   "execution_count": null,
   "id": "31a3b8ee",
   "metadata": {},
   "outputs": [],
   "source": [
    "main_menu = find_element(driver,\"id\", \"menu-header-1\")\n",
    "choices = find_elements(main_menu, 'tag', 'a')\n",
    "print(len(choices))\n",
    "\n",
    "nav_menu = find_element(driver, 'xpath',\"//div[contains(@class,'main-nav')]\")\n",
    "choice_hombre = WebDriverWait(nav_menu, 10).until(\n",
    "    EC.visibility_of_element_located((By.XPATH, \"//li[contains(@class,'menu-item menu-item-type-taxonomy menu-item-object-product_cat menu-item-has-children menu-item-8283 menu-item-design-default item-event-hover')]\"))\n",
    ")\n",
    "\n",
    "# Effectuer l'action de survol\n",
    "actions.move_to_element(choice_hombre).perform()\n",
    "choice_ninos = find_element(nav_menu, 'xpath', \n",
    "\"//li[contains(@class,'menu-item menu-item-type-post_type menu-item-object-page menu-item-has-children menu-item-8352 menu-item-design-default item-event-hover')]\")\n",
    "\n",
    "choice_promos = find_element(nav_menu, 'xpath', \n",
    "\"//li[contains(@class,'color-sale-menu menu-item menu-item-type-taxonomy menu-item-object-product_cat menu-item-has-children menu-item-133578 menu-item-design-default item-event-hover')]\")\n",
    "\n",
    "choice_tiendas = find_element(nav_menu, 'xpath', \n",
    "\"//li[contains(@class,'menu-item menu-item-type-post_type menu-item-object-page menu-item-8563 menu-item-design-default item-event-hover')]\")\n",
    "button_search = find_element(driver, \"xpath\", \"//i[contains(@class,'fa-search')]\")\n",
    "\n",
    "button_wishlist = find_element(nav_menu,\"xpath\", \n",
    "                               \"//a[contains(@href,'https://renzo.com.co/wishlist')]\")\n",
    "button_basket = find_element(nav_menu,\"xpath\",\"//a[contains(@href, 'https://renzo.com.co/carrito/')]\")"
   ]
  },
  {
   "cell_type": "markdown",
   "id": "60721128",
   "metadata": {},
   "source": [
    "# Query"
   ]
  },
  {
   "cell_type": "code",
   "execution_count": null,
   "id": "ace447cd",
   "metadata": {},
   "outputs": [],
   "source": [
    "category_wanted = [\"hombre\", \"promo\"]\n",
    "articles_wanted = [\"pantalon\"]\n",
    "simple_search_query =[]"
   ]
  },
  {
   "cell_type": "markdown",
   "id": "3f5dad3c",
   "metadata": {},
   "source": [
    "# Hombres"
   ]
  },
  {
   "cell_type": "code",
   "execution_count": null,
   "id": "8f2c7711",
   "metadata": {},
   "outputs": [],
   "source": [
    "list_hombres_articles = ['CAMISAS', 'LINOS', 'POLOS/T-SHIRT', 'PANTALONES', 'JEANS', 'BERMUDAS', 'PANTALONETAS',\n",
    "                         'CORREAS', 'ZAPATOS']\n",
    "\n",
    "\n",
    "time_sleep()\n",
    "dict_hombres = {}\n",
    "\n",
    "for item in list_hombres_articles:\n",
    "    try:\n",
    "        element = find_element(choice_hombre, 'xpath', f\".//a[contains(text(), '{item}')]\")\n",
    "        dict_hombres[item]['element'] = element\n",
    "        print(f\"[OK] Élément trouvé pour {item}\")\n",
    "    except Exception as e:\n",
    "        print(f\"[!!] Élément manquant pour {item} : {e}\")\n"
   ]
  },
  {
   "cell_type": "markdown",
   "id": "6ba807e8",
   "metadata": {},
   "source": [
    "# Ninos"
   ]
  },
  {
   "cell_type": "code",
   "execution_count": null,
   "id": "82d8bf41",
   "metadata": {},
   "outputs": [],
   "source": [
    "list_ninos_articles = ['CAMISAS', 'LINOS', 'POLOS/T-SHIRT', 'PANTALONES', 'JEANS', 'BERMUDAS',\n",
    "                       'PANTALONETAS', 'CORREAS', 'ZAPATOS', 'SET', 'ACCESORIOS', 'Outfit']\n",
    "\n",
    "dict_ninos = {}\n",
    "\n",
    "for item in list_ninos_articles:\n",
    "    try:\n",
    "        element = find_element(choice_ninos, 'xpath', f\".//a[contains(text(), '{item}')]\")\n",
    "        dict_ninos[item] = element\n",
    "        print(f\"[OK] Élément trouvé pour {item}\")\n",
    "    except Exception as e:\n",
    "        print(f\"[!!] Élément manquant pour {item} : {e}\")\n"
   ]
  },
  {
   "cell_type": "markdown",
   "id": "35522eae",
   "metadata": {},
   "source": [
    "# Promos"
   ]
  },
  {
   "cell_type": "code",
   "execution_count": null,
   "id": "2ceaf491",
   "metadata": {},
   "outputs": [],
   "source": [
    "promos_page_links = [\n",
    "    'https://renzo.com.co/categoria-producto/ofertas-ropa-hombre-ninos/sale-renzo/',\n",
    "    'https://renzo.com.co/categoria-producto/ofertas-ropa-hombre-ninos/sale-bambino/'\n",
    "]\n",
    "\n",
    "for item in promos_page_links:\n",
    "    try:\n",
    "        promos_hombres = find_element(choice_promos, 'xpath', \n",
    "            f\".//a[contains(@href, '{item}')]\")\n",
    "        print(\"[OK] Élément trouvé pour promos_hombres\")\n",
    "    except Exception as e:\n",
    "        print(f\"[!!] Élément manquant pour promos_hombres : {e}\")\n",
    "\n",
    "    try:\n",
    "        promos_ninos = find_element(choice_promos, 'xpath', \n",
    "            f\".//a[contains(@href, '{item}')]\")\n",
    "        print(\"[OK] Élément trouvé pour promos_ninos\")\n",
    "    except Exception as e:\n",
    "        print(f\"[!!] Élément manquant pour promos_ninos : {e}\")\n"
   ]
  },
  {
   "cell_type": "code",
   "execution_count": null,
   "id": "c84f11bb",
   "metadata": {},
   "outputs": [],
   "source": [
    "# Passe la souris sur HOMBRE pour voir les sous-menus\n",
    "actions.move_to_element(choice_hombre).perform()\n",
    "time.sleep(1)  # Temps pour que le sous-menu apparaisse"
   ]
  },
  {
   "cell_type": "markdown",
   "id": "1a8d063c",
   "metadata": {},
   "source": [
    "# Search Mechanics"
   ]
  },
  {
   "cell_type": "code",
   "execution_count": null,
   "id": "b9660783",
   "metadata": {},
   "outputs": [],
   "source": []
  }
 ],
 "metadata": {
  "kernelspec": {
   "display_name": "env",
   "language": "python",
   "name": "python3"
  },
  "language_info": {
   "codemirror_mode": {
    "name": "ipython",
    "version": 3
   },
   "file_extension": ".py",
   "mimetype": "text/x-python",
   "name": "python",
   "nbconvert_exporter": "python",
   "pygments_lexer": "ipython3",
   "version": "3.13.2"
  }
 },
 "nbformat": 4,
 "nbformat_minor": 5
}
