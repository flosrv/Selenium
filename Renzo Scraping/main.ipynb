{
 "cells": [
  {
   "cell_type": "code",
   "execution_count": 1,
   "id": "1076d76e",
   "metadata": {},
   "outputs": [],
   "source": [
    "from functions import *\n",
    "from imports import *\n",
    "from constants import *"
   ]
  },
  {
   "cell_type": "code",
   "execution_count": 2,
   "id": "0753271f",
   "metadata": {},
   "outputs": [],
   "source": [
    "dict_url = {}"
   ]
  },
  {
   "cell_type": "code",
   "execution_count": 3,
   "id": "2becd969",
   "metadata": {},
   "outputs": [],
   "source": [
    "driver  = create_driver()\n",
    "\n",
    "dict_url[\"Main Page\"] = driver.current_url"
   ]
  },
  {
   "cell_type": "code",
   "execution_count": 4,
   "id": "294bc949",
   "metadata": {},
   "outputs": [],
   "source": [
    "button_mi_cuenta = driver.find_element(By.XPATH, \n",
    "                                       \"//a[normalize-space()='Mi cuenta']\")\n",
    "if button_mi_cuenta.is_enabled():\n",
    "    button_mi_cuenta.click()\n",
    "    time_sleep()\n",
    "    dict_url[\"Connection Page\"] = driver.current_url\n"
   ]
  },
  {
   "cell_type": "code",
   "execution_count": 5,
   "id": "35e1f6e1",
   "metadata": {},
   "outputs": [
    {
     "data": {
      "text/plain": [
       "{'Main Page': 'https://renzo.com.co/',\n",
       " 'Connection Page': 'https://renzo.com.co/mi-cuenta/'}"
      ]
     },
     "execution_count": 5,
     "metadata": {},
     "output_type": "execute_result"
    }
   ],
   "source": [
    "dict_url"
   ]
  },
  {
   "cell_type": "markdown",
   "id": "37cec6f5",
   "metadata": {},
   "source": [
    "Connection"
   ]
  },
  {
   "cell_type": "code",
   "execution_count": 6,
   "id": "c2552e0b",
   "metadata": {},
   "outputs": [],
   "source": [
    "email_zone = driver.find_element(By.XPATH, \n",
    "        \"//form[@action='https://renzo.com.co/mi-cuenta/?action=login']//input[@id='username']\")\n",
    "email_zone.send_keys(my_email)\n",
    "time_sleep()\n",
    "password_zone = driver.find_element(By.XPATH, \n",
    "    \"//form[@action='https://renzo.com.co/mi-cuenta/?action=login']//input[@id='password']\")\n",
    "password_zone.send_keys(my_password)\n",
    "time_sleep()\n",
    "recordame = driver.find_element(By.XPATH, \n",
    "        \"//form[@action='https://renzo.com.co/mi-cuenta/?action=login']//input[@name='rememberme']\")\n",
    "if recordame.is_enabled() and not recordame.is_selected():\n",
    "    recordame.click()\n",
    "time_sleep()\n",
    "ingresar = driver.find_element(By.XPATH,\n",
    "    \"//form[@action='https://renzo.com.co/mi-cuenta/?action=login']//button[@name='login'][normalize-space()='Ingresar']\")\n",
    "if ingresar.is_enabled() and not ingresar.is_selected():\n",
    "    ingresar.click()\n",
    "    WebDriverWait(driver, 10).until(\n",
    "    EC.presence_of_element_located((By.TAG_NAME, \"body\"))\n",
    "    )\n",
    "    time_sleep()    \n",
    "    driver.get(dict_url[\"Main Page\"])\n"
   ]
  },
  {
   "cell_type": "code",
   "execution_count": 8,
   "id": "dac40926",
   "metadata": {},
   "outputs": [
    {
     "data": {
      "text/plain": [
       "{'Main Page': 'https://renzo.com.co/',\n",
       " 'Connection Page': 'https://renzo.com.co/mi-cuenta/'}"
      ]
     },
     "execution_count": 8,
     "metadata": {},
     "output_type": "execute_result"
    }
   ],
   "source": [
    "dict_url"
   ]
  },
  {
   "cell_type": "code",
   "execution_count": null,
   "id": "6d6e6a96",
   "metadata": {},
   "outputs": [
    {
     "ename": "NoSuchElementException",
     "evalue": "Message: no such element: Unable to locate element: {\"method\":\"tag name\",\"selector\":\"menu-header-1\"}\n  (Session info: chrome=135.0.7049.96); For documentation on this error, please visit: https://www.selenium.dev/documentation/webdriver/troubleshooting/errors#no-such-element-exception\nStacktrace:\n\tGetHandleVerifier [0x00007FF7779D5355+78597]\n\tGetHandleVerifier [0x00007FF7779D53B0+78688]\n\t(No symbol) [0x00007FF7777891AA]\n\t(No symbol) [0x00007FF7777DF149]\n\t(No symbol) [0x00007FF7777DF3FC]\n\t(No symbol) [0x00007FF777832467]\n\t(No symbol) [0x00007FF77780712F]\n\t(No symbol) [0x00007FF77782F2BB]\n\t(No symbol) [0x00007FF777806EC3]\n\t(No symbol) [0x00007FF7777D03F8]\n\t(No symbol) [0x00007FF7777D1163]\n\tGetHandleVerifier [0x00007FF777C7EF0D+2870973]\n\tGetHandleVerifier [0x00007FF777C796B8+2848360]\n\tGetHandleVerifier [0x00007FF777C96993+2967875]\n\tGetHandleVerifier [0x00007FF7779F019A+188746]\n\tGetHandleVerifier [0x00007FF7779F847F+222255]\n\tGetHandleVerifier [0x00007FF7779DD2D4+111236]\n\tGetHandleVerifier [0x00007FF7779DD482+111666]\n\tGetHandleVerifier [0x00007FF7779C35A9+5465]\n\tBaseThreadInitThunk [0x00007FFB21767374+20]\n\tRtlUserThreadStart [0x00007FFB21C5CC91+33]\n",
     "output_type": "error",
     "traceback": [
      "\u001b[31m---------------------------------------------------------------------------\u001b[39m",
      "\u001b[31mNoSuchElementException\u001b[39m                    Traceback (most recent call last)",
      "\u001b[36mCell\u001b[39m\u001b[36m \u001b[39m\u001b[32mIn[10]\u001b[39m\u001b[32m, line 1\u001b[39m\n\u001b[32m----> \u001b[39m\u001b[32m1\u001b[39m main_menu = \u001b[43mfind_element\u001b[49m\u001b[43m(\u001b[49m\u001b[43mdriver\u001b[49m\u001b[43m,\u001b[49m\u001b[33;43m\"\u001b[39;49m\u001b[33;43mmenu-header-1\u001b[39;49m\u001b[33;43m\"\u001b[39;49m\u001b[43m)\u001b[49m\n",
      "\u001b[36mFile \u001b[39m\u001b[32mc:\\Users\\f.gionnane\\Documents\\Selenium\\Renzo Scraping\\functions.py:70\u001b[39m, in \u001b[36mfind_element\u001b[39m\u001b[34m(driver, selector)\u001b[39m\n\u001b[32m     68\u001b[39m     \u001b[38;5;28;01mreturn\u001b[39;00m driver.find_element(By.CSS_SELECTOR, selector)  \u001b[38;5;66;03m# combinaison CSS\u001b[39;00m\n\u001b[32m     69\u001b[39m \u001b[38;5;28;01melse\u001b[39;00m:\n\u001b[32m---> \u001b[39m\u001b[32m70\u001b[39m     \u001b[38;5;28;01mreturn\u001b[39;00m \u001b[43mdriver\u001b[49m\u001b[43m.\u001b[49m\u001b[43mfind_element\u001b[49m\u001b[43m(\u001b[49m\u001b[43mBy\u001b[49m\u001b[43m.\u001b[49m\u001b[43mTAG_NAME\u001b[49m\u001b[43m,\u001b[49m\u001b[43m \u001b[49m\u001b[43mselector\u001b[49m\u001b[43m)\u001b[49m\n",
      "\u001b[36mFile \u001b[39m\u001b[32mc:\\Users\\f.gionnane\\Documents\\Selenium\\Renzo Scraping\\env\\Lib\\site-packages\\selenium\\webdriver\\remote\\webdriver.py:898\u001b[39m, in \u001b[36mWebDriver.find_element\u001b[39m\u001b[34m(self, by, value)\u001b[39m\n\u001b[32m    895\u001b[39m         \u001b[38;5;28;01mraise\u001b[39;00m NoSuchElementException(\u001b[33mf\u001b[39m\u001b[33m\"\u001b[39m\u001b[33mCannot locate relative element with: \u001b[39m\u001b[38;5;132;01m{\u001b[39;00mby.root\u001b[38;5;132;01m}\u001b[39;00m\u001b[33m\"\u001b[39m)\n\u001b[32m    896\u001b[39m     \u001b[38;5;28;01mreturn\u001b[39;00m elements[\u001b[32m0\u001b[39m]\n\u001b[32m--> \u001b[39m\u001b[32m898\u001b[39m \u001b[38;5;28;01mreturn\u001b[39;00m \u001b[38;5;28;43mself\u001b[39;49m\u001b[43m.\u001b[49m\u001b[43mexecute\u001b[49m\u001b[43m(\u001b[49m\u001b[43mCommand\u001b[49m\u001b[43m.\u001b[49m\u001b[43mFIND_ELEMENT\u001b[49m\u001b[43m,\u001b[49m\u001b[43m \u001b[49m\u001b[43m{\u001b[49m\u001b[33;43m\"\u001b[39;49m\u001b[33;43musing\u001b[39;49m\u001b[33;43m\"\u001b[39;49m\u001b[43m:\u001b[49m\u001b[43m \u001b[49m\u001b[43mby\u001b[49m\u001b[43m,\u001b[49m\u001b[43m \u001b[49m\u001b[33;43m\"\u001b[39;49m\u001b[33;43mvalue\u001b[39;49m\u001b[33;43m\"\u001b[39;49m\u001b[43m:\u001b[49m\u001b[43m \u001b[49m\u001b[43mvalue\u001b[49m\u001b[43m}\u001b[49m\u001b[43m)\u001b[49m[\u001b[33m\"\u001b[39m\u001b[33mvalue\u001b[39m\u001b[33m\"\u001b[39m]\n",
      "\u001b[36mFile \u001b[39m\u001b[32mc:\\Users\\f.gionnane\\Documents\\Selenium\\Renzo Scraping\\env\\Lib\\site-packages\\selenium\\webdriver\\remote\\webdriver.py:429\u001b[39m, in \u001b[36mWebDriver.execute\u001b[39m\u001b[34m(self, driver_command, params)\u001b[39m\n\u001b[32m    427\u001b[39m response = \u001b[38;5;28mself\u001b[39m.command_executor.execute(driver_command, params)\n\u001b[32m    428\u001b[39m \u001b[38;5;28;01mif\u001b[39;00m response:\n\u001b[32m--> \u001b[39m\u001b[32m429\u001b[39m     \u001b[38;5;28;43mself\u001b[39;49m\u001b[43m.\u001b[49m\u001b[43merror_handler\u001b[49m\u001b[43m.\u001b[49m\u001b[43mcheck_response\u001b[49m\u001b[43m(\u001b[49m\u001b[43mresponse\u001b[49m\u001b[43m)\u001b[49m\n\u001b[32m    430\u001b[39m     response[\u001b[33m\"\u001b[39m\u001b[33mvalue\u001b[39m\u001b[33m\"\u001b[39m] = \u001b[38;5;28mself\u001b[39m._unwrap_value(response.get(\u001b[33m\"\u001b[39m\u001b[33mvalue\u001b[39m\u001b[33m\"\u001b[39m, \u001b[38;5;28;01mNone\u001b[39;00m))\n\u001b[32m    431\u001b[39m     \u001b[38;5;28;01mreturn\u001b[39;00m response\n",
      "\u001b[36mFile \u001b[39m\u001b[32mc:\\Users\\f.gionnane\\Documents\\Selenium\\Renzo Scraping\\env\\Lib\\site-packages\\selenium\\webdriver\\remote\\errorhandler.py:232\u001b[39m, in \u001b[36mErrorHandler.check_response\u001b[39m\u001b[34m(self, response)\u001b[39m\n\u001b[32m    230\u001b[39m         alert_text = value[\u001b[33m\"\u001b[39m\u001b[33malert\u001b[39m\u001b[33m\"\u001b[39m].get(\u001b[33m\"\u001b[39m\u001b[33mtext\u001b[39m\u001b[33m\"\u001b[39m)\n\u001b[32m    231\u001b[39m     \u001b[38;5;28;01mraise\u001b[39;00m exception_class(message, screen, stacktrace, alert_text)  \u001b[38;5;66;03m# type: ignore[call-arg]  # mypy is not smart enough here\u001b[39;00m\n\u001b[32m--> \u001b[39m\u001b[32m232\u001b[39m \u001b[38;5;28;01mraise\u001b[39;00m exception_class(message, screen, stacktrace)\n",
      "\u001b[31mNoSuchElementException\u001b[39m: Message: no such element: Unable to locate element: {\"method\":\"tag name\",\"selector\":\"menu-header-1\"}\n  (Session info: chrome=135.0.7049.96); For documentation on this error, please visit: https://www.selenium.dev/documentation/webdriver/troubleshooting/errors#no-such-element-exception\nStacktrace:\n\tGetHandleVerifier [0x00007FF7779D5355+78597]\n\tGetHandleVerifier [0x00007FF7779D53B0+78688]\n\t(No symbol) [0x00007FF7777891AA]\n\t(No symbol) [0x00007FF7777DF149]\n\t(No symbol) [0x00007FF7777DF3FC]\n\t(No symbol) [0x00007FF777832467]\n\t(No symbol) [0x00007FF77780712F]\n\t(No symbol) [0x00007FF77782F2BB]\n\t(No symbol) [0x00007FF777806EC3]\n\t(No symbol) [0x00007FF7777D03F8]\n\t(No symbol) [0x00007FF7777D1163]\n\tGetHandleVerifier [0x00007FF777C7EF0D+2870973]\n\tGetHandleVerifier [0x00007FF777C796B8+2848360]\n\tGetHandleVerifier [0x00007FF777C96993+2967875]\n\tGetHandleVerifier [0x00007FF7779F019A+188746]\n\tGetHandleVerifier [0x00007FF7779F847F+222255]\n\tGetHandleVerifier [0x00007FF7779DD2D4+111236]\n\tGetHandleVerifier [0x00007FF7779DD482+111666]\n\tGetHandleVerifier [0x00007FF7779C35A9+5465]\n\tBaseThreadInitThunk [0x00007FFB21767374+20]\n\tRtlUserThreadStart [0x00007FFB21C5CC91+33]\n"
     ]
    }
   ],
   "source": [
    "main_menu = find_element(driver,\"id\", \"menu-header-1\")"
   ]
  },
  {
   "cell_type": "code",
   "execution_count": 9,
   "id": "ec224eb5",
   "metadata": {},
   "outputs": [],
   "source": [
    "hombres = find_element(driver, \"//div[@role='navigation']//li[@class='menu-item menu-item-type-taxonomy menu-item-object-product_cat menu-item-has-children menu-item-8283 menu-item-design-default item-event-hover']//a[normalize-space()='HOMBRE']\")\n",
    "if not hombres.is_selected():\n",
    "    hombres.click()"
   ]
  }
 ],
 "metadata": {
  "kernelspec": {
   "display_name": "env",
   "language": "python",
   "name": "python3"
  },
  "language_info": {
   "codemirror_mode": {
    "name": "ipython",
    "version": 3
   },
   "file_extension": ".py",
   "mimetype": "text/x-python",
   "name": "python",
   "nbconvert_exporter": "python",
   "pygments_lexer": "ipython3",
   "version": "3.13.2"
  }
 },
 "nbformat": 4,
 "nbformat_minor": 5
}
