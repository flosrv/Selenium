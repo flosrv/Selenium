{
 "cells": [
  {
   "cell_type": "code",
   "execution_count": 29,
   "id": "1076d76e",
   "metadata": {},
   "outputs": [],
   "source": [
    "from functions import *\n",
    "from imports import *\n",
    "from constants import *"
   ]
  },
  {
   "cell_type": "code",
   "execution_count": null,
   "id": "50487065",
   "metadata": {},
   "outputs": [],
   "source": [
    "# Initialisation du logging\n",
    "logging.basicConfig(level=logging.INFO, format='%(asctime)s - %(levelname)s - %(message)s')\n",
    "logger = logging.getLogger()"
   ]
  },
  {
   "cell_type": "markdown",
   "id": "28e38958",
   "metadata": {},
   "source": [
    "# Launching Automation Driver and Website"
   ]
  },
  {
   "cell_type": "code",
   "execution_count": 31,
   "id": "92c73fde",
   "metadata": {},
   "outputs": [],
   "source": [
    "driver = create_driver()\n",
    "main_page = driver.current_url\n",
    "wait5 = WebDriverWait(driver=driver, timeout=5)\n",
    "wait10 = WebDriverWait(driver=driver, timeout=10)\n",
    "# Créer une instance d'ActionChains pour interagir avec l'élément\n",
    "actions = ActionChains(driver)"
   ]
  },
  {
   "cell_type": "markdown",
   "id": "37cec6f5",
   "metadata": {},
   "source": [
    "# Connection to Account"
   ]
  },
  {
   "cell_type": "code",
   "execution_count": 32,
   "id": "c2552e0b",
   "metadata": {},
   "outputs": [],
   "source": [
    "button_mi_cuenta = driver.find_element(By.XPATH, \n",
    "                                       \"//a[normalize-space()='Mi cuenta']\")\n",
    "if button_mi_cuenta.is_enabled():\n",
    "    button_mi_cuenta.click()\n",
    "    time_sleep()\n",
    "\n",
    "\n",
    "email_zone = driver.find_element(By.XPATH, \n",
    "        \"//form[@action='https://renzo.com.co/mi-cuenta/?action=login']//input[@id='username']\")\n",
    "email_zone.send_keys(my_email)\n",
    "time_sleep()\n",
    "password_zone = driver.find_element(By.XPATH, \n",
    "    \"//form[@action='https://renzo.com.co/mi-cuenta/?action=login']//input[@id='password']\")\n",
    "password_zone.send_keys(my_password)\n",
    "time_sleep()\n",
    "recordame = driver.find_element(By.XPATH, \n",
    "        \"//form[@action='https://renzo.com.co/mi-cuenta/?action=login']//input[@name='rememberme']\")\n",
    "if recordame.is_enabled() and not recordame.is_selected():\n",
    "    recordame.click()\n",
    "time_sleep()\n",
    "ingresar = driver.find_element(By.XPATH,\n",
    "    \"//form[@action='https://renzo.com.co/mi-cuenta/?action=login']//button[@name='login'][normalize-space()='Ingresar']\")\n",
    "if ingresar.is_enabled() and not ingresar.is_selected():\n",
    "    ingresar.click()\n",
    "    WebDriverWait(driver, 10).until(\n",
    "    EC.presence_of_element_located((By.TAG_NAME, \"body\"))\n",
    "    )\n",
    "    time_sleep()    \n",
    "    driver.get(main_page)"
   ]
  },
  {
   "cell_type": "markdown",
   "id": "60721128",
   "metadata": {},
   "source": [
    "# Query Statement"
   ]
  },
  {
   "cell_type": "code",
   "execution_count": 33,
   "id": "a379f419",
   "metadata": {},
   "outputs": [],
   "source": [
    "SEARCH_QUERY = \"camisa lino hombre\""
   ]
  },
  {
   "cell_type": "markdown",
   "id": "da55ac97",
   "metadata": {},
   "source": [
    "# Generating Query"
   ]
  },
  {
   "cell_type": "code",
   "execution_count": 34,
   "id": "2093d2f2",
   "metadata": {},
   "outputs": [
    {
     "name": "stdout",
     "output_type": "stream",
     "text": [
      "https://renzo.com.co/?s=camisa+lino+hombre&post_type=product\n"
     ]
    }
   ],
   "source": [
    "def generate_url(query):\n",
    "    # Retirer les accents et convertir la chaîne en minuscules\n",
    "    query_normalized = unidecode(query).lower()\n",
    "    \n",
    "    # Remplacer les espaces par des plus (+) pour respecter la structure d'URL\n",
    "    query_normalized = query_normalized.replace(\" \", \"+\")\n",
    "    \n",
    "    # Créer l'URL en ajoutant la requête à l'URL de base\n",
    "    base_url = \"https://renzo.com.co/?s=\"  # URL de base\n",
    "    full_url = base_url + query_normalized + \"&post_type=product\"\n",
    "    \n",
    "    return full_url\n",
    "\n",
    "# Exemple d'utilisation\n",
    "query = \"camisa lino hombre\"\n",
    "search_url = generate_url(query)\n",
    "print(search_url)"
   ]
  },
  {
   "cell_type": "markdown",
   "id": "a1edadeb",
   "metadata": {},
   "source": [
    "# Moving to Search URL"
   ]
  },
  {
   "cell_type": "code",
   "execution_count": 35,
   "id": "55c31e8c",
   "metadata": {},
   "outputs": [],
   "source": [
    "driver.get(search_url)"
   ]
  },
  {
   "cell_type": "markdown",
   "id": "ad25e648",
   "metadata": {},
   "source": [
    "# Data Collection"
   ]
  },
  {
   "cell_type": "markdown",
   "id": "ef63708d",
   "metadata": {},
   "source": [
    "Dictionary for storing results"
   ]
  },
  {
   "cell_type": "code",
   "execution_count": null,
   "id": "cf7207e0",
   "metadata": {},
   "outputs": [],
   "source": [
    "dict_results = {}"
   ]
  },
  {
   "cell_type": "markdown",
   "id": "6e308df7",
   "metadata": {},
   "source": [
    "Launching Data Collection Process..."
   ]
  },
  {
   "cell_type": "code",
   "execution_count": 41,
   "id": "0b46d1c8",
   "metadata": {},
   "outputs": [
    {
     "name": "stderr",
     "output_type": "stream",
     "text": [
      "2025-04-22 11:07:30,725 - INFO - 📜 Retrieving product title...\n",
      "2025-04-22 11:07:30,737 - INFO - ✅ Title retrieved: CAMISA MC ESTAMPADO 100% LINO HOMBRE\n",
      "2025-04-22 11:07:30,747 - INFO - ✅ Product detail link retrieved: https://renzo.com.co/producto/camisa-mc-estampado-100-lino-hombre/\n",
      "2025-04-22 11:07:30,748 - INFO - 🎨 Retrieving available colors...\n",
      "2025-04-22 11:07:30,763 - INFO - ✅ Available colors: BEIGE\n",
      "2025-04-22 11:07:30,811 - INFO - ✅ Image retrieved for color BEIGE\n",
      "2025-04-22 11:07:30,834 - INFO - ✅ Price found: 219.000\n",
      "2025-04-22 11:07:37,451 - INFO - 🌐 Opening product detail page...\n",
      "2025-04-22 11:07:37,514 - INFO - ✅ Available sizes: XS, S, M, L, XL, XXL\n",
      "2025-04-22 11:07:39,373 - INFO - 🔙 Back to product list...\n",
      "2025-04-22 11:07:39,374 - INFO - ✅ Product 1 added to results.\n",
      "2025-04-22 11:07:39,380 - INFO - 📜 Retrieving product title...\n",
      "2025-04-22 11:07:39,392 - INFO - ✅ Title retrieved: CAMISA MC ESTAMPADA 100% LINO HOMBRE\n",
      "2025-04-22 11:07:39,403 - INFO - ✅ Product detail link retrieved: https://renzo.com.co/producto/camisa-mc-estampada-100-lino-hombre/\n",
      "2025-04-22 11:07:39,404 - INFO - 🎨 Retrieving available colors...\n",
      "2025-04-22 11:07:39,421 - INFO - ✅ Available colors: BEIGE\n",
      "2025-04-22 11:07:39,467 - INFO - ✅ Image retrieved for color BEIGE\n",
      "2025-04-22 11:07:39,492 - INFO - ✅ Price found: 219.000\n",
      "2025-04-22 11:07:39,997 - INFO - 🌐 Opening product detail page...\n",
      "2025-04-22 11:07:40,046 - INFO - ✅ Available sizes: XS, S, M, L, XL, XXL\n",
      "2025-04-22 11:07:41,628 - INFO - 🔙 Back to product list...\n",
      "2025-04-22 11:07:41,629 - INFO - ✅ Product 2 added to results.\n",
      "2025-04-22 11:07:41,637 - INFO - 📜 Retrieving product title...\n",
      "2025-04-22 11:07:41,647 - INFO - ✅ Title retrieved: CAMISA ML 70% LINO 30% ALGODON HOMBRE\n",
      "2025-04-22 11:07:41,657 - INFO - ✅ Product detail link retrieved: https://renzo.com.co/producto/camisa-ml-70-lino-30-algodon-hombre/\n",
      "2025-04-22 11:07:41,657 - INFO - 🎨 Retrieving available colors...\n",
      "2025-04-22 11:07:41,677 - INFO - ✅ Available colors: AZUL, BLANCO\n",
      "2025-04-22 11:07:41,699 - INFO - ✅ Image retrieved for color AZUL\n",
      "2025-04-22 11:07:41,746 - INFO - ✅ Image retrieved for color BLANCO\n",
      "2025-04-22 11:07:41,766 - INFO - ✅ Price found: 169.000\n",
      "2025-04-22 11:07:47,509 - INFO - 🌐 Opening product detail page...\n",
      "2025-04-22 11:07:47,558 - INFO - ✅ Available sizes: XS, S, M, L, XL, XXL\n",
      "2025-04-22 11:07:49,115 - INFO - 🔙 Back to product list...\n",
      "2025-04-22 11:07:49,115 - INFO - ✅ Product 3 added to results.\n",
      "2025-04-22 11:07:49,123 - INFO - 📜 Retrieving product title...\n",
      "2025-04-22 11:07:49,135 - INFO - ✅ Title retrieved: CAMISA MC 70% LINO 30% ALGODON HOMBRE\n",
      "2025-04-22 11:07:49,145 - INFO - ✅ Product detail link retrieved: https://renzo.com.co/producto/camisa-mc-70-lino-30-algodon-hombre/\n",
      "2025-04-22 11:07:49,146 - INFO - 🎨 Retrieving available colors...\n",
      "2025-04-22 11:07:49,168 - INFO - ✅ Available colors: BLANCO, ROSADO\n",
      "2025-04-22 11:07:49,225 - INFO - ✅ Image retrieved for color BLANCO\n",
      "2025-04-22 11:07:49,252 - INFO - ✅ Image retrieved for color ROSADO\n",
      "2025-04-22 11:07:49,274 - INFO - ✅ Price found: 159.000\n",
      "2025-04-22 11:07:55,056 - INFO - 🌐 Opening product detail page...\n",
      "2025-04-22 11:07:55,102 - INFO - ✅ Available sizes: XS, S, M, L, XL, XXL\n",
      "2025-04-22 11:07:59,557 - INFO - 🔙 Back to product list...\n",
      "2025-04-22 11:07:59,557 - INFO - ✅ Product 4 added to results.\n",
      "2025-04-22 11:07:59,564 - INFO - 📜 Retrieving product title...\n",
      "2025-04-22 11:07:59,576 - INFO - ✅ Title retrieved: CAMISA MC 100% LINO HOMBRE\n",
      "2025-04-22 11:07:59,586 - INFO - ✅ Product detail link retrieved: https://renzo.com.co/producto/camisa-mc-100-lino-hombre-11/\n",
      "2025-04-22 11:07:59,587 - INFO - 🎨 Retrieving available colors...\n",
      "2025-04-22 11:07:59,607 - INFO - ✅ Available colors: BABYBLUE, BLANCO\n",
      "2025-04-22 11:07:59,628 - INFO - ✅ Image retrieved for color BABYBLUE\n",
      "2025-04-22 11:07:59,654 - INFO - ✅ Image retrieved for color BLANCO\n",
      "2025-04-22 11:07:59,675 - INFO - ✅ Price found: 169.000\n",
      "2025-04-22 11:08:08,992 - INFO - 🌐 Opening product detail page...\n",
      "2025-04-22 11:08:09,040 - INFO - ✅ Available sizes: XS, S, M, L, XL, XXL\n",
      "2025-04-22 11:08:10,761 - INFO - 🔙 Back to product list...\n",
      "2025-04-22 11:08:10,762 - INFO - ✅ Product 5 added to results.\n",
      "2025-04-22 11:08:10,771 - INFO - 📜 Retrieving product title...\n",
      "2025-04-22 11:08:10,782 - INFO - ✅ Title retrieved: CAMISA MC 100% LINO HOMBRE\n",
      "2025-04-22 11:08:10,791 - INFO - ✅ Product detail link retrieved: https://renzo.com.co/producto/camisa-mc-100-lino-hombre-9/\n",
      "2025-04-22 11:08:10,791 - INFO - 🎨 Retrieving available colors...\n",
      "2025-04-22 11:08:10,810 - INFO - ✅ Available colors: AMARILLO, BLANCO\n",
      "2025-04-22 11:08:10,836 - INFO - ✅ Image retrieved for color AMARILLO\n",
      "2025-04-22 11:08:10,859 - INFO - ✅ Image retrieved for color BLANCO\n",
      "2025-04-22 11:08:10,880 - INFO - ✅ Price found: 169.000\n",
      "2025-04-22 11:08:18,435 - INFO - 🌐 Opening product detail page...\n",
      "2025-04-22 11:08:18,494 - INFO - ✅ Available sizes: XS, S, M, L, XL, XXL\n",
      "2025-04-22 11:08:20,240 - INFO - 🔙 Back to product list...\n",
      "2025-04-22 11:08:20,241 - INFO - ✅ Product 6 added to results.\n",
      "2025-04-22 11:08:20,248 - INFO - 📜 Retrieving product title...\n",
      "2025-04-22 11:08:20,259 - INFO - ✅ Title retrieved: CAMISA ML 100% LINO HOMBRE\n",
      "2025-04-22 11:08:20,268 - INFO - ✅ Product detail link retrieved: https://renzo.com.co/producto/camisa-ml-100-lino-hombre-34/\n",
      "2025-04-22 11:08:20,269 - INFO - 🎨 Retrieving available colors...\n",
      "2025-04-22 11:08:20,285 - INFO - ✅ Available colors: BLANCO\n",
      "2025-04-22 11:08:20,329 - INFO - ✅ Image retrieved for color BLANCO\n",
      "2025-04-22 11:08:20,361 - INFO - ✅ Price found: 99.500\n"
     ]
    },
    {
     "name": "stdout",
     "output_type": "stream",
     "text": [
      "Initial Price: $199.00\n",
      "Discount: 50%\n",
      "Final Price after Discount: $99.50\n"
     ]
    },
    {
     "name": "stderr",
     "output_type": "stream",
     "text": [
      "2025-04-22 11:08:30,737 - INFO - 🌐 Opening product detail page...\n",
      "2025-04-22 11:08:30,763 - INFO - ✅ Available sizes: XS, XL\n",
      "2025-04-22 11:08:32,193 - INFO - 🔙 Back to product list...\n",
      "2025-04-22 11:08:32,194 - INFO - ✅ Product 7 added to results.\n",
      "2025-04-22 11:08:32,202 - INFO - 📜 Retrieving product title...\n",
      "2025-04-22 11:08:32,212 - INFO - ✅ Title retrieved: CAMISA MC 100% LINO HOMBRE\n",
      "2025-04-22 11:08:32,221 - INFO - ✅ Product detail link retrieved: https://renzo.com.co/producto/camisa-mc-100-lino-hombre-60/\n",
      "2025-04-22 11:08:32,222 - INFO - 🎨 Retrieving available colors...\n",
      "2025-04-22 11:08:32,236 - INFO - ✅ Available colors: BLANCO\n",
      "2025-04-22 11:08:32,258 - INFO - ✅ Image retrieved for color BLANCO\n",
      "2025-04-22 11:08:32,292 - INFO - ✅ Price found: 89.500\n"
     ]
    },
    {
     "name": "stdout",
     "output_type": "stream",
     "text": [
      "Initial Price: $179.00\n",
      "Discount: 50%\n",
      "Final Price after Discount: $89.50\n"
     ]
    },
    {
     "name": "stderr",
     "output_type": "stream",
     "text": [
      "2025-04-22 11:08:41,935 - INFO - 🌐 Opening product detail page...\n",
      "2025-04-22 11:08:41,953 - INFO - ✅ Available sizes: XS\n",
      "2025-04-22 11:08:43,979 - INFO - 🔙 Back to product list...\n",
      "2025-04-22 11:08:43,980 - INFO - ✅ Product 8 added to results.\n",
      "2025-04-22 11:08:43,986 - INFO - 📜 Retrieving product title...\n",
      "2025-04-22 11:08:43,996 - INFO - ✅ Title retrieved: CAMISA ML 100% LINO HOMBRE\n",
      "2025-04-22 11:08:44,005 - INFO - ✅ Product detail link retrieved: https://renzo.com.co/producto/camisa-ml-100-lino-hombre-33/\n",
      "2025-04-22 11:08:44,006 - INFO - 🎨 Retrieving available colors...\n",
      "2025-04-22 11:08:44,021 - INFO - ✅ Available colors: BLANCO\n",
      "2025-04-22 11:08:44,047 - INFO - ✅ Image retrieved for color BLANCO\n",
      "2025-04-22 11:08:44,078 - INFO - ✅ Price found: 99.500\n"
     ]
    },
    {
     "name": "stdout",
     "output_type": "stream",
     "text": [
      "Initial Price: $199.00\n",
      "Discount: 50%\n",
      "Final Price after Discount: $99.50\n"
     ]
    },
    {
     "name": "stderr",
     "output_type": "stream",
     "text": [
      "2025-04-22 11:08:49,437 - INFO - 🌐 Opening product detail page...\n",
      "2025-04-22 11:08:49,463 - INFO - ✅ Available sizes: XL, XXL\n",
      "2025-04-22 11:08:51,332 - INFO - 🔙 Back to product list...\n",
      "2025-04-22 11:08:51,333 - INFO - ✅ Product 9 added to results.\n",
      "2025-04-22 11:08:51,340 - INFO - 📜 Retrieving product title...\n",
      "2025-04-22 11:08:51,351 - INFO - ✅ Title retrieved: CAMISA ML 60% ALGODÓN 40% LINO HOMBRE\n",
      "2025-04-22 11:08:51,359 - INFO - ✅ Product detail link retrieved: https://renzo.com.co/producto/camisa-ml-60-algodon-40-lino-hombre/\n",
      "2025-04-22 11:08:51,360 - INFO - 🎨 Retrieving available colors...\n",
      "2025-04-22 11:08:51,388 - INFO - ✅ Available colors: BLANCO, ROSADO\n",
      "2025-04-22 11:08:51,433 - INFO - ✅ Image retrieved for color BLANCO\n",
      "2025-04-22 11:08:51,459 - INFO - ✅ Image retrieved for color ROSADO\n",
      "2025-04-22 11:08:51,509 - INFO - ✅ Price found: 79.500\n"
     ]
    },
    {
     "name": "stdout",
     "output_type": "stream",
     "text": [
      "Initial Price: $159.00\n",
      "Discount: 50%\n",
      "Final Price after Discount: $79.50\n"
     ]
    },
    {
     "name": "stderr",
     "output_type": "stream",
     "text": [
      "2025-04-22 11:09:00,189 - INFO - 🌐 Opening product detail page...\n",
      "2025-04-22 11:09:00,234 - INFO - ✅ Available sizes: XS, M, L, XL, XXL\n",
      "2025-04-22 11:09:01,713 - INFO - 🔙 Back to product list...\n",
      "2025-04-22 11:09:01,714 - INFO - ✅ Product 10 added to results.\n",
      "2025-04-22 11:09:01,720 - INFO - 📜 Retrieving product title...\n",
      "2025-04-22 11:09:01,731 - INFO - ✅ Title retrieved: CAMISA MC 100% LINO ESTAMPADO HOMBRE\n",
      "2025-04-22 11:09:01,740 - INFO - ✅ Product detail link retrieved: https://renzo.com.co/producto/camisa-mc-100-lino-estampado-hombre-4/\n",
      "2025-04-22 11:09:01,740 - INFO - 🎨 Retrieving available colors...\n",
      "2025-04-22 11:09:01,755 - INFO - ✅ Available colors: BLANCO\n",
      "2025-04-22 11:09:01,783 - INFO - ✅ Image retrieved for color BLANCO\n",
      "2025-04-22 11:09:01,816 - INFO - ✅ Price found: 99.500\n"
     ]
    },
    {
     "name": "stdout",
     "output_type": "stream",
     "text": [
      "Initial Price: $199.00\n",
      "Discount: 50%\n",
      "Final Price after Discount: $99.50\n"
     ]
    },
    {
     "name": "stderr",
     "output_type": "stream",
     "text": [
      "2025-04-22 11:09:14,229 - INFO - 🌐 Opening product detail page...\n",
      "2025-04-22 11:09:14,251 - INFO - ✅ Available sizes: XS\n",
      "2025-04-22 11:09:16,506 - INFO - 🔙 Back to product list...\n",
      "2025-04-22 11:09:16,507 - INFO - ✅ Product 11 added to results.\n",
      "2025-04-22 11:09:16,515 - INFO - 📜 Retrieving product title...\n",
      "2025-04-22 11:09:16,531 - INFO - ✅ Title retrieved: CAMISA MC 100% LINO HOMBRE\n",
      "2025-04-22 11:09:16,546 - INFO - ✅ Product detail link retrieved: https://renzo.com.co/producto/camisa-mc-100-lino-hombre-59/\n",
      "2025-04-22 11:09:16,547 - INFO - 🎨 Retrieving available colors...\n",
      "2025-04-22 11:09:16,564 - INFO - ✅ Available colors: BLANCO\n",
      "2025-04-22 11:09:16,594 - INFO - ✅ Image retrieved for color BLANCO\n",
      "2025-04-22 11:09:16,626 - INFO - ✅ Price found: 84.500\n"
     ]
    },
    {
     "name": "stdout",
     "output_type": "stream",
     "text": [
      "Initial Price: $169.00\n",
      "Discount: 50%\n",
      "Final Price after Discount: $84.50\n"
     ]
    },
    {
     "name": "stderr",
     "output_type": "stream",
     "text": [
      "2025-04-22 11:09:28,872 - INFO - 🌐 Opening product detail page...\n",
      "2025-04-22 11:09:28,892 - INFO - ✅ Available sizes: XS\n",
      "2025-04-22 11:09:31,148 - INFO - 🔙 Back to product list...\n",
      "2025-04-22 11:09:31,149 - INFO - ✅ Product 12 added to results.\n",
      "2025-04-22 11:09:31,155 - INFO - 📜 Retrieving product title...\n",
      "2025-04-22 11:09:31,166 - INFO - ✅ Title retrieved: CAMISA MC 100% LINO HOMBRE\n",
      "2025-04-22 11:09:31,176 - INFO - ✅ Product detail link retrieved: https://renzo.com.co/producto/camisa-mc-100-lino-hombre-58/\n",
      "2025-04-22 11:09:31,177 - INFO - 🎨 Retrieving available colors...\n",
      "2025-04-22 11:09:31,192 - INFO - ✅ Available colors: BLANCO\n",
      "2025-04-22 11:09:31,237 - INFO - ✅ Image retrieved for color BLANCO\n",
      "2025-04-22 11:09:31,275 - INFO - ✅ Price found: 84.500\n"
     ]
    },
    {
     "name": "stdout",
     "output_type": "stream",
     "text": [
      "Initial Price: $169.00\n",
      "Discount: 50%\n",
      "Final Price after Discount: $84.50\n"
     ]
    },
    {
     "name": "stderr",
     "output_type": "stream",
     "text": [
      "2025-04-22 11:09:48,627 - INFO - 🌐 Opening product detail page...\n",
      "2025-04-22 11:09:48,647 - INFO - ✅ Available sizes: XS\n",
      "2025-04-22 11:09:50,361 - INFO - 🔙 Back to product list...\n",
      "2025-04-22 11:09:50,362 - INFO - ✅ Product 13 added to results.\n",
      "2025-04-22 11:09:50,369 - INFO - 📜 Retrieving product title...\n",
      "2025-04-22 11:09:50,382 - INFO - ✅ Title retrieved: CAMISA ML 100% LINO HOMBRE\n",
      "2025-04-22 11:09:50,391 - INFO - ✅ Product detail link retrieved: https://renzo.com.co/producto/camisa-ml-100-lino-hombre-32/\n",
      "2025-04-22 11:09:50,391 - INFO - 🎨 Retrieving available colors...\n",
      "2025-04-22 11:09:50,408 - INFO - ✅ Available colors: BLANCO\n",
      "2025-04-22 11:09:50,434 - INFO - ✅ Image retrieved for color BLANCO\n",
      "2025-04-22 11:09:50,467 - INFO - ✅ Price found: 99.500\n"
     ]
    },
    {
     "name": "stdout",
     "output_type": "stream",
     "text": [
      "Initial Price: $199.00\n",
      "Discount: 50%\n",
      "Final Price after Discount: $99.50\n"
     ]
    },
    {
     "name": "stderr",
     "output_type": "stream",
     "text": [
      "2025-04-22 11:10:00,634 - INFO - 🌐 Opening product detail page...\n",
      "2025-04-22 11:10:00,658 - INFO - ✅ Available sizes: XXL\n",
      "2025-04-22 11:10:02,912 - INFO - 🔙 Back to product list...\n",
      "2025-04-22 11:10:02,913 - INFO - ✅ Product 14 added to results.\n",
      "2025-04-22 11:10:02,920 - INFO - 📜 Retrieving product title...\n",
      "2025-04-22 11:10:02,932 - INFO - ✅ Title retrieved: CAMISA ML 100% LINO HOMBRE\n",
      "2025-04-22 11:10:02,944 - INFO - ✅ Product detail link retrieved: https://renzo.com.co/producto/camisa-ml-100-lino-hombre-31/\n",
      "2025-04-22 11:10:02,944 - INFO - 🎨 Retrieving available colors...\n",
      "2025-04-22 11:10:02,977 - INFO - ✅ Available colors: BLANCO, MAMON, NAVY\n",
      "2025-04-22 11:10:03,018 - INFO - ✅ Image retrieved for color BLANCO\n",
      "2025-04-22 11:10:03,062 - INFO - ✅ Image retrieved for color MAMON\n",
      "2025-04-22 11:10:03,092 - INFO - ✅ Image retrieved for color NAVY\n",
      "2025-04-22 11:10:03,127 - INFO - ✅ Price found: 99.500\n"
     ]
    },
    {
     "name": "stdout",
     "output_type": "stream",
     "text": [
      "Initial Price: $199.00\n",
      "Discount: 50%\n",
      "Final Price after Discount: $99.50\n"
     ]
    },
    {
     "name": "stderr",
     "output_type": "stream",
     "text": [
      "2025-04-22 11:10:18,124 - INFO - 🌐 Opening product detail page...\n",
      "2025-04-22 11:10:18,175 - INFO - ✅ Available sizes: XS, S, M, L, XL, XXL\n",
      "2025-04-22 11:10:20,609 - INFO - 🔙 Back to product list...\n",
      "2025-04-22 11:10:20,609 - INFO - ✅ Product 15 added to results.\n",
      "2025-04-22 11:10:20,615 - INFO - 📜 Retrieving product title...\n",
      "2025-04-22 11:10:20,627 - INFO - ✅ Title retrieved: CAMISA MC 100% LINO HOMBRE\n",
      "2025-04-22 11:10:20,636 - INFO - ✅ Product detail link retrieved: https://renzo.com.co/producto/camisa-mc-100-lino-hombre-57/\n",
      "2025-04-22 11:10:20,637 - INFO - 🎨 Retrieving available colors...\n",
      "2025-04-22 11:10:20,662 - INFO - ✅ Available colors: BABYBLUE, BLANCO, ROSADO\n",
      "2025-04-22 11:10:20,711 - INFO - ✅ Image retrieved for color BABYBLUE\n",
      "2025-04-22 11:10:20,732 - INFO - ✅ Image retrieved for color BLANCO\n",
      "2025-04-22 11:10:20,758 - INFO - ✅ Image retrieved for color ROSADO\n",
      "2025-04-22 11:10:20,789 - INFO - ✅ Price found: 84.500\n"
     ]
    },
    {
     "name": "stdout",
     "output_type": "stream",
     "text": [
      "Initial Price: $169.00\n",
      "Discount: 50%\n",
      "Final Price after Discount: $84.50\n"
     ]
    },
    {
     "name": "stderr",
     "output_type": "stream",
     "text": [
      "2025-04-22 11:10:32,692 - INFO - 🌐 Opening product detail page...\n",
      "2025-04-22 11:10:32,717 - INFO - ✅ Available sizes: XS, S\n",
      "2025-04-22 11:10:34,347 - INFO - 🔙 Back to product list...\n",
      "2025-04-22 11:10:34,348 - INFO - ✅ Product 16 added to results.\n",
      "2025-04-22 11:10:34,356 - INFO - 📜 Retrieving product title...\n",
      "2025-04-22 11:10:34,366 - INFO - ✅ Title retrieved: CAMISA MC 100% LINO HOMBRE\n",
      "2025-04-22 11:10:34,376 - INFO - ✅ Product detail link retrieved: https://renzo.com.co/producto/camisa-mc-100-lino-hombre-56/\n",
      "2025-04-22 11:10:34,376 - INFO - 🎨 Retrieving available colors...\n",
      "2025-04-22 11:10:34,397 - INFO - ✅ Available colors: AMARILLO, DENIM\n",
      "2025-04-22 11:10:34,426 - INFO - ✅ Image retrieved for color AMARILLO\n",
      "2025-04-22 11:10:34,449 - INFO - ✅ Image retrieved for color DENIM\n",
      "2025-04-22 11:10:34,481 - INFO - ✅ Price found: 84.500\n"
     ]
    },
    {
     "name": "stdout",
     "output_type": "stream",
     "text": [
      "Initial Price: $169.00\n",
      "Discount: 50%\n",
      "Final Price after Discount: $84.50\n"
     ]
    },
    {
     "name": "stderr",
     "output_type": "stream",
     "text": [
      "2025-04-22 11:10:50,496 - INFO - 🌐 Opening product detail page...\n",
      "2025-04-22 11:10:50,533 - INFO - ✅ Available sizes: XS, S, L, XL\n",
      "2025-04-22 11:10:53,799 - INFO - 🔙 Back to product list...\n",
      "2025-04-22 11:10:53,800 - INFO - ✅ Product 17 added to results.\n",
      "2025-04-22 11:10:53,807 - INFO - 📜 Retrieving product title...\n",
      "2025-04-22 11:10:53,817 - INFO - ✅ Title retrieved: CAMISA MC 100% LINO CUELLO NERU HOMBRE\n",
      "2025-04-22 11:10:53,826 - INFO - ✅ Product detail link retrieved: https://renzo.com.co/producto/camisa-mc-100-lino-cuello-neru-hombre-6/\n",
      "2025-04-22 11:10:53,826 - INFO - 🎨 Retrieving available colors...\n",
      "2025-04-22 11:10:53,843 - INFO - ✅ Available colors: NAVY\n",
      "2025-04-22 11:10:53,872 - INFO - ✅ Image retrieved for color NAVY\n",
      "2025-04-22 11:10:53,903 - INFO - ✅ Price found: 84.500\n"
     ]
    },
    {
     "name": "stdout",
     "output_type": "stream",
     "text": [
      "Initial Price: $169.00\n",
      "Discount: 50%\n",
      "Final Price after Discount: $84.50\n"
     ]
    },
    {
     "name": "stderr",
     "output_type": "stream",
     "text": [
      "2025-04-22 11:11:11,068 - INFO - 🌐 Opening product detail page...\n",
      "2025-04-22 11:11:11,113 - INFO - ✅ Available sizes: XS, M, L, XXL\n",
      "2025-04-22 11:11:12,681 - INFO - 🔙 Back to product list...\n",
      "2025-04-22 11:11:12,681 - INFO - ✅ Product 18 added to results.\n",
      "2025-04-22 11:11:12,688 - INFO - 📜 Retrieving product title...\n",
      "2025-04-22 11:11:12,699 - INFO - ✅ Title retrieved: CAMISA MC 100% LINO HOMBRE\n",
      "2025-04-22 11:11:12,708 - INFO - ✅ Product detail link retrieved: https://renzo.com.co/producto/camisa-mc-100-lino-hombre-55/\n",
      "2025-04-22 11:11:12,709 - INFO - 🎨 Retrieving available colors...\n",
      "2025-04-22 11:11:12,725 - INFO - ✅ Available colors: BLANCO\n",
      "2025-04-22 11:11:12,787 - INFO - ✅ Image retrieved for color BLANCO\n",
      "2025-04-22 11:11:12,822 - INFO - ✅ Price found: 99.500\n"
     ]
    },
    {
     "name": "stdout",
     "output_type": "stream",
     "text": [
      "Initial Price: $199.00\n",
      "Discount: 50%\n",
      "Final Price after Discount: $99.50\n"
     ]
    },
    {
     "name": "stderr",
     "output_type": "stream",
     "text": [
      "2025-04-22 11:11:17,617 - INFO - 🌐 Opening product detail page...\n",
      "2025-04-22 11:11:17,643 - INFO - ✅ Available sizes: XS, S\n",
      "2025-04-22 11:11:19,025 - INFO - 🔙 Back to product list...\n",
      "2025-04-22 11:11:19,026 - INFO - ✅ Product 19 added to results.\n",
      "2025-04-22 11:11:19,033 - INFO - 📜 Retrieving product title...\n",
      "2025-04-22 11:11:19,043 - INFO - ✅ Title retrieved: CAMISA MC 100% LINO HOMBRE\n",
      "2025-04-22 11:11:19,052 - INFO - ✅ Product detail link retrieved: https://renzo.com.co/producto/camisa-mc-100-lino-hombre-54/\n",
      "2025-04-22 11:11:19,053 - INFO - 🎨 Retrieving available colors...\n",
      "2025-04-22 11:11:19,067 - INFO - ✅ Available colors: BLANCO\n",
      "2025-04-22 11:11:19,092 - INFO - ✅ Image retrieved for color BLANCO\n",
      "2025-04-22 11:11:19,125 - INFO - ✅ Price found: 99.500\n"
     ]
    },
    {
     "name": "stdout",
     "output_type": "stream",
     "text": [
      "Initial Price: $199.00\n",
      "Discount: 50%\n",
      "Final Price after Discount: $99.50\n"
     ]
    },
    {
     "name": "stderr",
     "output_type": "stream",
     "text": [
      "2025-04-22 11:11:26,121 - INFO - 🌐 Opening product detail page...\n",
      "2025-04-22 11:11:26,140 - INFO - ✅ Available sizes: XS\n",
      "2025-04-22 11:11:27,693 - INFO - 🔙 Back to product list...\n",
      "2025-04-22 11:11:27,694 - INFO - ✅ Product 20 added to results.\n",
      "2025-04-22 11:11:27,702 - INFO - 📜 Retrieving product title...\n",
      "2025-04-22 11:11:27,714 - INFO - ✅ Title retrieved: CAMISA MC 100% LINO HOMBRE\n",
      "2025-04-22 11:11:27,722 - INFO - ✅ Product detail link retrieved: https://renzo.com.co/producto/camisa-mc-100-lino-hombre-53/\n",
      "2025-04-22 11:11:27,722 - INFO - 🎨 Retrieving available colors...\n",
      "2025-04-22 11:11:27,738 - INFO - ✅ Available colors: BLANCO\n",
      "2025-04-22 11:11:27,765 - INFO - ✅ Image retrieved for color BLANCO\n",
      "2025-04-22 11:11:27,798 - INFO - ✅ Price found: 99.500\n"
     ]
    },
    {
     "name": "stdout",
     "output_type": "stream",
     "text": [
      "Initial Price: $199.00\n",
      "Discount: 50%\n",
      "Final Price after Discount: $99.50\n"
     ]
    },
    {
     "name": "stderr",
     "output_type": "stream",
     "text": [
      "2025-04-22 11:11:32,497 - INFO - 🌐 Opening product detail page...\n",
      "2025-04-22 11:11:32,517 - INFO - ✅ Available sizes: XS\n",
      "2025-04-22 11:11:34,185 - INFO - 🔙 Back to product list...\n",
      "2025-04-22 11:11:34,185 - INFO - ✅ Product 21 added to results.\n",
      "2025-04-22 11:11:34,192 - INFO - 📜 Retrieving product title...\n",
      "2025-04-22 11:11:34,204 - INFO - ✅ Title retrieved: CAMISA MC 100% LINO CUELLO NERU HOMBRE\n",
      "2025-04-22 11:11:34,214 - INFO - ✅ Product detail link retrieved: https://renzo.com.co/producto/camisa-mc-100-lino-cuello-neru-hombre-5/\n",
      "2025-04-22 11:11:34,214 - INFO - 🎨 Retrieving available colors...\n",
      "2025-04-22 11:11:34,229 - INFO - ✅ Available colors: BABYBLUE\n",
      "2025-04-22 11:11:34,276 - INFO - ✅ Image retrieved for color BABYBLUE\n",
      "2025-04-22 11:11:34,308 - INFO - ✅ Price found: 84.500\n"
     ]
    },
    {
     "name": "stdout",
     "output_type": "stream",
     "text": [
      "Initial Price: $169.00\n",
      "Discount: 50%\n",
      "Final Price after Discount: $84.50\n"
     ]
    },
    {
     "name": "stderr",
     "output_type": "stream",
     "text": [
      "2025-04-22 11:11:39,075 - INFO - 🌐 Opening product detail page...\n",
      "2025-04-22 11:11:39,101 - INFO - ✅ Available sizes: XS\n",
      "2025-04-22 11:11:40,656 - INFO - 🔙 Back to product list...\n",
      "2025-04-22 11:11:40,656 - INFO - ✅ Product 22 added to results.\n",
      "2025-04-22 11:11:40,664 - INFO - 📜 Retrieving product title...\n",
      "2025-04-22 11:11:40,674 - INFO - ✅ Title retrieved: CAMISA MC 100% LINO CUELLO NORMAL HOMBRE\n",
      "2025-04-22 11:11:40,685 - INFO - ✅ Product detail link retrieved: https://renzo.com.co/producto/camisa-mc-100-lino-cuello-normal-hombre/\n",
      "2025-04-22 11:11:40,685 - INFO - 🎨 Retrieving available colors...\n",
      "2025-04-22 11:11:40,702 - INFO - ✅ Available colors: BABYBLUE\n",
      "2025-04-22 11:11:40,733 - INFO - ✅ Image retrieved for color BABYBLUE\n",
      "2025-04-22 11:11:40,770 - INFO - ✅ Price found: 84.500\n"
     ]
    },
    {
     "name": "stdout",
     "output_type": "stream",
     "text": [
      "Initial Price: $169.00\n",
      "Discount: 50%\n",
      "Final Price after Discount: $84.50\n"
     ]
    },
    {
     "name": "stderr",
     "output_type": "stream",
     "text": [
      "2025-04-22 11:11:46,507 - INFO - 🌐 Opening product detail page...\n",
      "2025-04-22 11:11:46,549 - INFO - ✅ Available sizes: XS, S, M, L\n",
      "2025-04-22 11:11:48,206 - INFO - 🔙 Back to product list...\n",
      "2025-04-22 11:11:48,207 - INFO - ✅ Product 23 added to results.\n",
      "2025-04-22 11:11:48,215 - INFO - 📜 Retrieving product title...\n",
      "2025-04-22 11:11:48,228 - INFO - ✅ Title retrieved: CAMISA ML 100% LINO HOMBRE\n",
      "2025-04-22 11:11:48,239 - INFO - ✅ Product detail link retrieved: https://renzo.com.co/producto/camisa-ml-100-lino-hombre-30/\n",
      "2025-04-22 11:11:48,240 - INFO - 🎨 Retrieving available colors...\n",
      "2025-04-22 11:11:48,259 - INFO - ✅ Available colors: BABYBLUE\n",
      "2025-04-22 11:11:48,293 - INFO - ✅ Image retrieved for color BABYBLUE\n",
      "2025-04-22 11:11:48,331 - INFO - ✅ Price found: 99.500\n"
     ]
    },
    {
     "name": "stdout",
     "output_type": "stream",
     "text": [
      "Initial Price: $199.00\n",
      "Discount: 50%\n",
      "Final Price after Discount: $99.50\n"
     ]
    },
    {
     "name": "stderr",
     "output_type": "stream",
     "text": [
      "2025-04-22 11:11:55,325 - INFO - 🌐 Opening product detail page...\n",
      "2025-04-22 11:11:55,346 - INFO - ✅ Available sizes: XS\n",
      "2025-04-22 11:11:58,102 - INFO - 🔙 Back to product list...\n",
      "2025-04-22 11:11:58,103 - INFO - ✅ Product 24 added to results.\n",
      "2025-04-22 11:11:58,110 - INFO - 📜 Retrieving product title...\n",
      "2025-04-22 11:11:58,122 - INFO - ✅ Title retrieved: CAMISA ML 100% LINO HOMBRE\n",
      "2025-04-22 11:11:58,132 - INFO - ✅ Product detail link retrieved: https://renzo.com.co/producto/camisa-ml-100-lino-hombre-29/\n",
      "2025-04-22 11:11:58,133 - INFO - 🎨 Retrieving available colors...\n",
      "2025-04-22 11:11:58,150 - INFO - ✅ Available colors: NAVY\n",
      "2025-04-22 11:11:58,204 - INFO - ✅ Image retrieved for color NAVY\n",
      "2025-04-22 11:11:58,244 - INFO - ✅ Price found: 99.500\n"
     ]
    },
    {
     "name": "stdout",
     "output_type": "stream",
     "text": [
      "Initial Price: $199.00\n",
      "Discount: 50%\n",
      "Final Price after Discount: $99.50\n"
     ]
    },
    {
     "name": "stderr",
     "output_type": "stream",
     "text": [
      "2025-04-22 11:12:05,124 - INFO - 🌐 Opening product detail page...\n",
      "2025-04-22 11:12:05,166 - INFO - ✅ Available sizes: XS, S, L, XL, XXL\n",
      "2025-04-22 11:12:06,914 - INFO - 🔙 Back to product list...\n",
      "2025-04-22 11:12:06,915 - INFO - ✅ Product 25 added to results.\n",
      "2025-04-22 11:12:06,922 - INFO - 📜 Retrieving product title...\n",
      "2025-04-22 11:12:06,934 - INFO - ✅ Title retrieved: CAMISA MC 100% LINO LISA HOMBRE\n",
      "2025-04-22 11:12:06,943 - INFO - ✅ Product detail link retrieved: https://renzo.com.co/producto/camisa-mc-100-lino-lisa-hombre-3/\n",
      "2025-04-22 11:12:06,944 - INFO - 🎨 Retrieving available colors...\n",
      "2025-04-22 11:12:06,960 - INFO - ✅ Available colors: AZUL\n",
      "2025-04-22 11:12:06,987 - INFO - ✅ Image retrieved for color AZUL\n",
      "2025-04-22 11:12:07,020 - INFO - ✅ Price found: 84.500\n"
     ]
    },
    {
     "name": "stdout",
     "output_type": "stream",
     "text": [
      "Initial Price: $169.00\n",
      "Discount: 50%\n",
      "Final Price after Discount: $84.50\n"
     ]
    },
    {
     "name": "stderr",
     "output_type": "stream",
     "text": [
      "2025-04-22 11:12:14,693 - INFO - 🌐 Opening product detail page...\n",
      "2025-04-22 11:12:14,715 - INFO - ✅ Available sizes: XS\n",
      "2025-04-22 11:12:16,117 - INFO - 🔙 Back to product list...\n",
      "2025-04-22 11:12:16,118 - INFO - ✅ Product 26 added to results.\n",
      "2025-04-22 11:12:16,125 - INFO - 📜 Retrieving product title...\n",
      "2025-04-22 11:12:16,135 - INFO - ✅ Title retrieved: CAMISA MC 100% LINO ESTAMPADA HOMBRE\n",
      "2025-04-22 11:12:16,145 - INFO - ✅ Product detail link retrieved: https://renzo.com.co/producto/camisa-mc-100-lino-estampada-hombre-2/\n",
      "2025-04-22 11:12:16,145 - INFO - 🎨 Retrieving available colors...\n",
      "2025-04-22 11:12:16,162 - INFO - ✅ Available colors: BLANCO\n",
      "2025-04-22 11:12:16,189 - INFO - ✅ Image retrieved for color BLANCO\n",
      "2025-04-22 11:12:16,222 - INFO - ✅ Price found: 99.500\n"
     ]
    },
    {
     "name": "stdout",
     "output_type": "stream",
     "text": [
      "Initial Price: $199.00\n",
      "Discount: 50%\n",
      "Final Price after Discount: $99.50\n"
     ]
    },
    {
     "name": "stderr",
     "output_type": "stream",
     "text": [
      "2025-04-22 11:12:21,634 - INFO - 🌐 Opening product detail page...\n",
      "2025-04-22 11:12:21,659 - INFO - ✅ Available sizes: XS, S\n",
      "2025-04-22 11:12:23,340 - INFO - 🔙 Back to product list...\n",
      "2025-04-22 11:12:23,341 - INFO - ✅ Product 27 added to results.\n",
      "2025-04-22 11:12:23,348 - INFO - 📜 Retrieving product title...\n",
      "2025-04-22 11:12:23,358 - INFO - ✅ Title retrieved: CAMISA MC 100% LINO ESTAMPADA HOMBRE\n",
      "2025-04-22 11:12:23,367 - INFO - ✅ Product detail link retrieved: https://renzo.com.co/producto/camisa-mc-100-lino-estampada-hombre/\n",
      "2025-04-22 11:12:23,368 - INFO - 🎨 Retrieving available colors...\n",
      "2025-04-22 11:12:23,383 - INFO - ✅ Available colors: BLANCO\n",
      "2025-04-22 11:12:23,430 - INFO - ✅ Image retrieved for color BLANCO\n",
      "2025-04-22 11:12:23,478 - INFO - ✅ Price found: 99.500\n"
     ]
    },
    {
     "name": "stdout",
     "output_type": "stream",
     "text": [
      "Initial Price: $199.00\n",
      "Discount: 50%\n",
      "Final Price after Discount: $99.50\n"
     ]
    },
    {
     "name": "stderr",
     "output_type": "stream",
     "text": [
      "2025-04-22 11:12:28,074 - INFO - 🌐 Opening product detail page...\n",
      "2025-04-22 11:12:28,100 - INFO - ✅ Available sizes: XS, S\n",
      "2025-04-22 11:12:32,632 - INFO - 🔙 Back to product list...\n",
      "2025-04-22 11:12:32,633 - INFO - ✅ Product 28 added to results.\n",
      "2025-04-22 11:12:32,640 - INFO - 📜 Retrieving product title...\n",
      "2025-04-22 11:12:32,650 - INFO - ✅ Title retrieved: CAMISA MC 100% LINO LISA HOMBRE\n",
      "2025-04-22 11:12:32,659 - INFO - ✅ Product detail link retrieved: https://renzo.com.co/producto/camisa-mc-100-lino-lisa-hombre-2/\n",
      "2025-04-22 11:12:32,659 - INFO - 🎨 Retrieving available colors...\n",
      "2025-04-22 11:12:32,679 - INFO - ✅ Available colors: BEIGE, BLANCO\n",
      "2025-04-22 11:12:32,704 - INFO - ✅ Image retrieved for color BEIGE\n",
      "2025-04-22 11:12:32,729 - INFO - ✅ Image retrieved for color BLANCO\n",
      "2025-04-22 11:12:32,761 - INFO - ✅ Price found: 84.500\n"
     ]
    },
    {
     "name": "stdout",
     "output_type": "stream",
     "text": [
      "Initial Price: $169.00\n",
      "Discount: 50%\n",
      "Final Price after Discount: $84.50\n"
     ]
    },
    {
     "name": "stderr",
     "output_type": "stream",
     "text": [
      "2025-04-22 11:12:37,282 - INFO - 🌐 Opening product detail page...\n",
      "2025-04-22 11:12:37,318 - INFO - ✅ Available sizes: XS, S, M\n",
      "2025-04-22 11:12:38,645 - INFO - 🔙 Back to product list...\n",
      "2025-04-22 11:12:38,646 - INFO - ✅ Product 29 added to results.\n",
      "2025-04-22 11:12:38,652 - INFO - 📜 Retrieving product title...\n",
      "2025-04-22 11:12:38,664 - INFO - ✅ Title retrieved: CAMISA MC 100% LINO ESTAMPADO HOMBRE\n",
      "2025-04-22 11:12:38,675 - INFO - ✅ Product detail link retrieved: https://renzo.com.co/producto/camisa-mc-100-lino-estampado-hombre-3/\n",
      "2025-04-22 11:12:38,676 - INFO - 🎨 Retrieving available colors...\n",
      "2025-04-22 11:12:38,693 - INFO - ✅ Available colors: BLANCO\n",
      "2025-04-22 11:12:38,721 - INFO - ✅ Image retrieved for color BLANCO\n",
      "2025-04-22 11:12:38,765 - INFO - ✅ Price found: 99.500\n"
     ]
    },
    {
     "name": "stdout",
     "output_type": "stream",
     "text": [
      "Initial Price: $199.00\n",
      "Discount: 50%\n",
      "Final Price after Discount: $99.50\n"
     ]
    },
    {
     "name": "stderr",
     "output_type": "stream",
     "text": [
      "2025-04-22 11:12:41,900 - INFO - 🌐 Opening product detail page...\n",
      "2025-04-22 11:12:41,922 - INFO - ✅ Available sizes: XS\n",
      "2025-04-22 11:12:43,484 - INFO - 🔙 Back to product list...\n",
      "2025-04-22 11:12:43,484 - INFO - ✅ Product 30 added to results.\n",
      "2025-04-22 11:12:43,492 - INFO - 📜 Retrieving product title...\n",
      "2025-04-22 11:12:43,503 - INFO - ✅ Title retrieved: CAMISA ML 100% LINO HOMBRE\n",
      "2025-04-22 11:12:43,513 - INFO - ✅ Product detail link retrieved: https://renzo.com.co/producto/camisa-ml-100-lino-hombre-24/\n",
      "2025-04-22 11:12:43,514 - INFO - 🎨 Retrieving available colors...\n",
      "2025-04-22 11:12:43,531 - INFO - ✅ Available colors: SALMON\n",
      "2025-04-22 11:12:43,589 - INFO - ✅ Image retrieved for color SALMON\n",
      "2025-04-22 11:12:43,632 - INFO - ✅ Price found: 99.500\n"
     ]
    },
    {
     "name": "stdout",
     "output_type": "stream",
     "text": [
      "Initial Price: $199.00\n",
      "Discount: 50%\n",
      "Final Price after Discount: $99.50\n"
     ]
    },
    {
     "name": "stderr",
     "output_type": "stream",
     "text": [
      "2025-04-22 11:12:45,097 - INFO - 🌐 Opening product detail page...\n",
      "2025-04-22 11:12:45,157 - INFO - ✅ Available sizes: XS, XXL\n",
      "2025-04-22 11:12:46,850 - INFO - 🔙 Back to product list...\n",
      "2025-04-22 11:12:46,850 - INFO - ✅ Product 31 added to results.\n",
      "2025-04-22 11:12:46,858 - INFO - 📜 Retrieving product title...\n",
      "2025-04-22 11:12:46,872 - INFO - ✅ Title retrieved: CAMISA MC 100% LINO LISA HOMBRE\n",
      "2025-04-22 11:12:46,883 - INFO - ✅ Product detail link retrieved: https://renzo.com.co/producto/camisa-mc-100-lino-lisa-hombre/\n",
      "2025-04-22 11:12:46,884 - INFO - 🎨 Retrieving available colors...\n",
      "2025-04-22 11:12:46,901 - INFO - ✅ Available colors: VERDEMILIT\n",
      "2025-04-22 11:12:46,931 - INFO - ✅ Image retrieved for color VERDEMILIT\n",
      "2025-04-22 11:12:46,970 - INFO - ✅ Price found: 84.500\n"
     ]
    },
    {
     "name": "stdout",
     "output_type": "stream",
     "text": [
      "Initial Price: $169.00\n",
      "Discount: 50%\n",
      "Final Price after Discount: $84.50\n"
     ]
    },
    {
     "name": "stderr",
     "output_type": "stream",
     "text": [
      "2025-04-22 11:12:50,667 - INFO - 🌐 Opening product detail page...\n",
      "2025-04-22 11:12:50,699 - INFO - ✅ Available sizes: XS, XXL\n",
      "2025-04-22 11:12:51,988 - INFO - 🔙 Back to product list...\n",
      "2025-04-22 11:12:51,988 - INFO - ✅ Product 32 added to results.\n",
      "2025-04-22 11:12:51,995 - INFO - 📜 Retrieving product title...\n",
      "2025-04-22 11:12:52,008 - INFO - ✅ Title retrieved: CAMISA MC 100% LINO ESTAMPADO HOMBRE\n",
      "2025-04-22 11:12:52,018 - INFO - ✅ Product detail link retrieved: https://renzo.com.co/producto/camisa-mc-100-lino-estampado-hombre/\n",
      "2025-04-22 11:12:52,018 - INFO - 🎨 Retrieving available colors...\n",
      "2025-04-22 11:12:52,037 - INFO - ✅ Available colors: BLANCO\n",
      "2025-04-22 11:12:52,068 - INFO - ✅ Image retrieved for color BLANCO\n",
      "2025-04-22 11:12:52,109 - INFO - ✅ Price found: 99.500\n"
     ]
    },
    {
     "name": "stdout",
     "output_type": "stream",
     "text": [
      "Initial Price: $199.00\n",
      "Discount: 50%\n",
      "Final Price after Discount: $99.50\n"
     ]
    },
    {
     "name": "stderr",
     "output_type": "stream",
     "text": [
      "2025-04-22 11:12:54,755 - INFO - 🌐 Opening product detail page...\n",
      "2025-04-22 11:12:54,790 - INFO - ✅ Available sizes: XS, S\n",
      "2025-04-22 11:12:56,372 - INFO - 🔙 Back to product list...\n",
      "2025-04-22 11:12:56,373 - INFO - ✅ Product 33 added to results.\n",
      "2025-04-22 11:12:56,373 - INFO - 🔍 Looking for 'Next' button...\n",
      "2025-04-22 11:12:56,428 - INFO - ➡️ Moving to the next page...\n",
      "2025-04-22 11:12:56,443 - INFO - 📜 Retrieving product title...\n",
      "2025-04-22 11:12:56,456 - INFO - ✅ Title retrieved: CAMISA MC ESTAMPADO 100% LINO HOMBRE\n",
      "2025-04-22 11:12:56,466 - INFO - ✅ Product detail link retrieved: https://renzo.com.co/producto/camisa-mc-estampado-100-lino-hombre/\n",
      "2025-04-22 11:12:56,467 - INFO - 🎨 Retrieving available colors...\n",
      "2025-04-22 11:12:56,489 - INFO - ✅ Available colors: BEIGE\n",
      "2025-04-22 11:12:56,599 - INFO - ✅ Image retrieved for color BEIGE\n",
      "2025-04-22 11:12:56,628 - INFO - ✅ Price found: 219.000\n",
      "2025-04-22 11:12:57,207 - INFO - 🌐 Opening product detail page...\n",
      "2025-04-22 11:12:57,259 - INFO - ✅ Available sizes: XS, S, M, L, XL, XXL\n",
      "2025-04-22 11:12:58,883 - INFO - 🔙 Back to product list...\n",
      "2025-04-22 11:12:58,883 - INFO - ✅ Product 34 added to results.\n",
      "2025-04-22 11:12:58,909 - INFO - 📜 Retrieving product title...\n",
      "2025-04-22 11:12:58,920 - INFO - ✅ Title retrieved: CAMISA MC 100% LINO HOMBRE\n",
      "2025-04-22 11:12:58,929 - INFO - ✅ Product detail link retrieved: https://renzo.com.co/producto/camisa-mc-100-lino-hombre-43/\n",
      "2025-04-22 11:12:58,930 - INFO - 🎨 Retrieving available colors...\n",
      "2025-04-22 11:12:58,951 - INFO - ✅ Available colors: AZUL, SALMON\n",
      "2025-04-22 11:12:59,000 - INFO - ✅ Image retrieved for color AZUL\n",
      "2025-04-22 11:12:59,027 - INFO - ✅ Image retrieved for color SALMON\n",
      "2025-04-22 11:12:59,063 - INFO - ✅ Price found: 84.500\n"
     ]
    },
    {
     "name": "stdout",
     "output_type": "stream",
     "text": [
      "Initial Price: $169.00\n",
      "Discount: 50%\n",
      "Final Price after Discount: $84.50\n"
     ]
    },
    {
     "name": "stderr",
     "output_type": "stream",
     "text": [
      "2025-04-22 11:12:59,531 - INFO - 🌐 Opening product detail page...\n",
      "2025-04-22 11:12:59,562 - INFO - ✅ Available sizes: XS, S\n",
      "2025-04-22 11:13:01,018 - INFO - 🔙 Back to product list...\n",
      "2025-04-22 11:13:01,019 - INFO - ✅ Product 35 added to results.\n",
      "2025-04-22 11:13:01,025 - INFO - 📜 Retrieving product title...\n",
      "2025-04-22 11:13:01,037 - INFO - ✅ Title retrieved: CAMISA MC 100% LINO HOMBRE\n",
      "2025-04-22 11:13:01,047 - INFO - ✅ Product detail link retrieved: https://renzo.com.co/producto/camisa-mc-100-lino-hombre-51/\n",
      "2025-04-22 11:13:01,048 - INFO - 🎨 Retrieving available colors...\n",
      "2025-04-22 11:13:01,066 - INFO - ✅ Available colors: AZUL\n",
      "2025-04-22 11:13:01,160 - INFO - ✅ Image retrieved for color AZUL\n",
      "2025-04-22 11:13:01,197 - INFO - ✅ Price found: 84.500\n"
     ]
    },
    {
     "name": "stdout",
     "output_type": "stream",
     "text": [
      "Initial Price: $169.00\n",
      "Discount: 50%\n",
      "Final Price after Discount: $84.50\n"
     ]
    },
    {
     "name": "stderr",
     "output_type": "stream",
     "text": [
      "2025-04-22 11:13:01,833 - INFO - 🌐 Opening product detail page...\n",
      "2025-04-22 11:13:01,850 - INFO - ✅ Available sizes: XS\n",
      "2025-04-22 11:13:04,824 - INFO - 🔙 Back to product list...\n",
      "2025-04-22 11:13:04,825 - INFO - ✅ Product 36 added to results.\n",
      "2025-04-22 11:13:04,831 - INFO - 📜 Retrieving product title...\n",
      "2025-04-22 11:13:04,843 - INFO - ✅ Title retrieved: CAMISA MC 100% LINO HOMBRE\n",
      "2025-04-22 11:13:04,854 - INFO - ✅ Product detail link retrieved: https://renzo.com.co/producto/camisa-mc-100-lino-hombre-50/\n",
      "2025-04-22 11:13:04,854 - INFO - 🎨 Retrieving available colors...\n",
      "2025-04-22 11:13:04,878 - INFO - ✅ Available colors: AZUL, ROSADO\n",
      "2025-04-22 11:13:04,932 - INFO - ✅ Image retrieved for color AZUL\n",
      "2025-04-22 11:13:04,958 - INFO - ✅ Image retrieved for color ROSADO\n",
      "2025-04-22 11:13:04,996 - INFO - ✅ Price found: 84.500\n"
     ]
    },
    {
     "name": "stdout",
     "output_type": "stream",
     "text": [
      "Initial Price: $169.00\n",
      "Discount: 50%\n",
      "Final Price after Discount: $84.50\n"
     ]
    },
    {
     "name": "stderr",
     "output_type": "stream",
     "text": [
      "2025-04-22 11:13:06,373 - INFO - 🌐 Opening product detail page...\n",
      "2025-04-22 11:13:06,394 - INFO - ✅ Available sizes: XS\n",
      "2025-04-22 11:13:08,160 - INFO - 🔙 Back to product list...\n",
      "2025-04-22 11:13:08,161 - INFO - ✅ Product 37 added to results.\n",
      "2025-04-22 11:13:08,167 - INFO - 📜 Retrieving product title...\n",
      "2025-04-22 11:13:08,180 - INFO - ✅ Title retrieved: CAMISA MC 100% LINO HOMBRE\n",
      "2025-04-22 11:13:08,193 - INFO - ✅ Product detail link retrieved: https://renzo.com.co/producto/camisa-mc-100-lino-hombre-49/\n",
      "2025-04-22 11:13:08,193 - INFO - 🎨 Retrieving available colors...\n",
      "2025-04-22 11:13:08,214 - INFO - ✅ Available colors: AZUL\n",
      "2025-04-22 11:13:08,256 - INFO - ✅ Image retrieved for color AZUL\n",
      "2025-04-22 11:13:08,298 - INFO - ✅ Price found: 84.500\n"
     ]
    },
    {
     "name": "stdout",
     "output_type": "stream",
     "text": [
      "Initial Price: $169.00\n",
      "Discount: 50%\n",
      "Final Price after Discount: $84.50\n"
     ]
    },
    {
     "name": "stderr",
     "output_type": "stream",
     "text": [
      "2025-04-22 11:13:08,811 - INFO - 🌐 Opening product detail page...\n",
      "2025-04-22 11:13:08,830 - INFO - ✅ Available sizes: XS\n",
      "2025-04-22 11:13:10,624 - INFO - 🔙 Back to product list...\n",
      "2025-04-22 11:13:10,625 - INFO - ✅ Product 38 added to results.\n",
      "2025-04-22 11:13:10,631 - INFO - 📜 Retrieving product title...\n",
      "2025-04-22 11:13:10,644 - INFO - ✅ Title retrieved: CAMISA MC 100% LINO HOMBRE\n",
      "2025-04-22 11:13:10,654 - INFO - ✅ Product detail link retrieved: https://renzo.com.co/producto/camisa-mc-100-lino-hombre-48/\n",
      "2025-04-22 11:13:10,655 - INFO - 🎨 Retrieving available colors...\n",
      "2025-04-22 11:13:10,672 - INFO - ✅ Available colors: AZUL\n",
      "2025-04-22 11:13:10,706 - INFO - ✅ Image retrieved for color AZUL\n",
      "2025-04-22 11:13:10,745 - INFO - ✅ Price found: 84.500\n"
     ]
    },
    {
     "name": "stdout",
     "output_type": "stream",
     "text": [
      "Initial Price: $169.00\n",
      "Discount: 50%\n",
      "Final Price after Discount: $84.50\n"
     ]
    },
    {
     "name": "stderr",
     "output_type": "stream",
     "text": [
      "2025-04-22 11:13:11,244 - INFO - 🌐 Opening product detail page...\n",
      "2025-04-22 11:13:11,262 - INFO - ✅ Available sizes: XS\n",
      "2025-04-22 11:13:13,212 - INFO - 🔙 Back to product list...\n",
      "2025-04-22 11:13:13,212 - INFO - ✅ Product 39 added to results.\n",
      "2025-04-22 11:13:13,219 - INFO - 📜 Retrieving product title...\n",
      "2025-04-22 11:13:13,229 - INFO - ✅ Title retrieved: CAMISA MC 100% LINO HOMBRE\n",
      "2025-04-22 11:13:13,239 - INFO - ✅ Product detail link retrieved: https://renzo.com.co/producto/camisa-mc-100-lino-hombre-47/\n",
      "2025-04-22 11:13:13,240 - INFO - 🎨 Retrieving available colors...\n",
      "2025-04-22 11:13:13,263 - INFO - ✅ Available colors: AZUL, ROSADO\n",
      "2025-04-22 11:13:13,316 - INFO - ✅ Image retrieved for color AZUL\n",
      "2025-04-22 11:13:13,340 - INFO - ✅ Image retrieved for color ROSADO\n",
      "2025-04-22 11:13:13,375 - INFO - ✅ Price found: 84.500\n"
     ]
    },
    {
     "name": "stdout",
     "output_type": "stream",
     "text": [
      "Initial Price: $169.00\n",
      "Discount: 50%\n",
      "Final Price after Discount: $84.50\n"
     ]
    },
    {
     "name": "stderr",
     "output_type": "stream",
     "text": [
      "2025-04-22 11:13:14,465 - INFO - 🌐 Opening product detail page...\n",
      "2025-04-22 11:13:14,493 - INFO - ✅ Available sizes: XS, S\n",
      "2025-04-22 11:13:16,154 - INFO - 🔙 Back to product list...\n",
      "2025-04-22 11:13:16,154 - INFO - ✅ Product 40 added to results.\n",
      "2025-04-22 11:13:16,160 - INFO - 📜 Retrieving product title...\n",
      "2025-04-22 11:13:16,172 - INFO - ✅ Title retrieved: CAMISA ML 100% LINO HOMBRE\n",
      "2025-04-22 11:13:16,182 - INFO - ✅ Product detail link retrieved: https://renzo.com.co/producto/camisa-ml-100-lino-hombre-27/\n",
      "2025-04-22 11:13:16,182 - INFO - 🎨 Retrieving available colors...\n",
      "2025-04-22 11:13:16,200 - INFO - ✅ Available colors: AZUL\n",
      "2025-04-22 11:13:16,233 - INFO - ✅ Image retrieved for color AZUL\n",
      "2025-04-22 11:13:16,285 - INFO - ✅ Price found: 94.500\n"
     ]
    },
    {
     "name": "stdout",
     "output_type": "stream",
     "text": [
      "Initial Price: $189.00\n",
      "Discount: 50%\n",
      "Final Price after Discount: $94.50\n"
     ]
    },
    {
     "name": "stderr",
     "output_type": "stream",
     "text": [
      "2025-04-22 11:13:16,832 - INFO - 🌐 Opening product detail page...\n",
      "2025-04-22 11:13:16,853 - INFO - ✅ Available sizes: XS\n",
      "2025-04-22 11:13:18,350 - INFO - 🔙 Back to product list...\n",
      "2025-04-22 11:13:18,351 - INFO - ✅ Product 41 added to results.\n",
      "2025-04-22 11:13:18,361 - INFO - 📜 Retrieving product title...\n",
      "2025-04-22 11:13:18,378 - INFO - ✅ Title retrieved: CAMISA ML 100% LINO HOMBRE\n",
      "2025-04-22 11:13:18,394 - INFO - ✅ Product detail link retrieved: https://renzo.com.co/producto/camisa-ml-100-lino-hombre-26/\n",
      "2025-04-22 11:13:18,395 - INFO - 🎨 Retrieving available colors...\n",
      "2025-04-22 11:13:18,423 - INFO - ✅ Available colors: BEIGE\n",
      "2025-04-22 11:13:18,466 - INFO - ✅ Image retrieved for color BEIGE\n",
      "2025-04-22 11:13:18,505 - INFO - ✅ Price found: 94.500\n"
     ]
    },
    {
     "name": "stdout",
     "output_type": "stream",
     "text": [
      "Initial Price: $189.00\n",
      "Discount: 50%\n",
      "Final Price after Discount: $94.50\n"
     ]
    },
    {
     "name": "stderr",
     "output_type": "stream",
     "text": [
      "2025-04-22 11:13:19,122 - INFO - 🌐 Opening product detail page...\n",
      "2025-04-22 11:13:19,150 - INFO - ✅ Available sizes: XS\n",
      "2025-04-22 11:13:20,672 - INFO - 🔙 Back to product list...\n",
      "2025-04-22 11:13:20,672 - INFO - ✅ Product 42 added to results.\n",
      "2025-04-22 11:13:20,679 - INFO - 📜 Retrieving product title...\n",
      "2025-04-22 11:13:20,692 - INFO - ✅ Title retrieved: CAMISA ML 100% LINO HOMBRE\n",
      "2025-04-22 11:13:20,703 - INFO - ✅ Product detail link retrieved: https://renzo.com.co/producto/camisa-ml-100-lino-hombre-23/\n",
      "2025-04-22 11:13:20,705 - INFO - 🎨 Retrieving available colors...\n",
      "2025-04-22 11:13:20,723 - INFO - ✅ Available colors: AZUL\n",
      "2025-04-22 11:13:20,787 - INFO - ✅ Image retrieved for color AZUL\n",
      "2025-04-22 11:13:20,825 - INFO - ✅ Price found: 94.500\n"
     ]
    },
    {
     "name": "stdout",
     "output_type": "stream",
     "text": [
      "Initial Price: $189.00\n",
      "Discount: 50%\n",
      "Final Price after Discount: $94.50\n"
     ]
    },
    {
     "name": "stderr",
     "output_type": "stream",
     "text": [
      "2025-04-22 11:13:21,364 - INFO - 🌐 Opening product detail page...\n",
      "2025-04-22 11:13:21,391 - INFO - ✅ Available sizes: XS\n",
      "2025-04-22 11:13:22,892 - INFO - 🔙 Back to product list...\n",
      "2025-04-22 11:13:22,892 - INFO - ✅ Product 43 added to results.\n",
      "2025-04-22 11:13:22,898 - INFO - 📜 Retrieving product title...\n",
      "2025-04-22 11:13:22,910 - INFO - ✅ Title retrieved: CAMISA ML 100 % LINO HOMBRE\n",
      "2025-04-22 11:13:22,920 - INFO - ✅ Product detail link retrieved: https://renzo.com.co/producto/camisa-ml-100-lino-hombre-25/\n",
      "2025-04-22 11:13:22,920 - INFO - 🎨 Retrieving available colors...\n",
      "2025-04-22 11:13:22,935 - INFO - ✅ Available colors: ROSADO\n",
      "2025-04-22 11:13:22,963 - INFO - ✅ Image retrieved for color ROSADO\n",
      "2025-04-22 11:13:22,999 - INFO - ✅ Price found: 94.500\n"
     ]
    },
    {
     "name": "stdout",
     "output_type": "stream",
     "text": [
      "Initial Price: $189.00\n",
      "Discount: 50%\n",
      "Final Price after Discount: $94.50\n"
     ]
    },
    {
     "name": "stderr",
     "output_type": "stream",
     "text": [
      "2025-04-22 11:13:23,562 - INFO - 🌐 Opening product detail page...\n",
      "2025-04-22 11:13:23,585 - INFO - ✅ Available sizes: XS\n",
      "2025-04-22 11:13:25,147 - INFO - 🔙 Back to product list...\n",
      "2025-04-22 11:13:25,147 - INFO - ✅ Product 44 added to results.\n",
      "2025-04-22 11:13:25,154 - INFO - 📜 Retrieving product title...\n",
      "2025-04-22 11:13:25,164 - INFO - ✅ Title retrieved: CAMISA ML 100% LINO HOMBRE\n",
      "2025-04-22 11:13:25,174 - INFO - ✅ Product detail link retrieved: https://renzo.com.co/producto/camisa-ml-100-lino-hombre-22/\n",
      "2025-04-22 11:13:25,175 - INFO - 🎨 Retrieving available colors...\n",
      "2025-04-22 11:13:25,191 - INFO - ✅ Available colors: BEIGE\n",
      "2025-04-22 11:13:25,220 - INFO - ✅ Image retrieved for color BEIGE\n",
      "2025-04-22 11:13:25,255 - INFO - ✅ Price found: 94.500\n"
     ]
    },
    {
     "name": "stdout",
     "output_type": "stream",
     "text": [
      "Initial Price: $189.00\n",
      "Discount: 50%\n",
      "Final Price after Discount: $94.50\n"
     ]
    },
    {
     "name": "stderr",
     "output_type": "stream",
     "text": [
      "2025-04-22 11:13:25,826 - INFO - 🌐 Opening product detail page...\n",
      "2025-04-22 11:13:25,846 - INFO - ✅ Available sizes: XS\n",
      "2025-04-22 11:13:27,312 - INFO - 🔙 Back to product list...\n",
      "2025-04-22 11:13:27,313 - INFO - ✅ Product 45 added to results.\n",
      "2025-04-22 11:13:27,319 - INFO - 📜 Retrieving product title...\n",
      "2025-04-22 11:13:27,329 - INFO - ✅ Title retrieved: CAMISA MC 100% LINO HOMBRE\n",
      "2025-04-22 11:13:27,340 - INFO - ✅ Product detail link retrieved: https://renzo.com.co/producto/camisa-mc-100-lino-hombre-46/\n",
      "2025-04-22 11:13:27,340 - INFO - 🎨 Retrieving available colors...\n",
      "2025-04-22 11:13:27,361 - INFO - ✅ Available colors: AMARILLO, LILA\n",
      "2025-04-22 11:13:27,413 - INFO - ✅ Image retrieved for color AMARILLO\n",
      "2025-04-22 11:13:27,444 - INFO - ✅ Image retrieved for color LILA\n",
      "2025-04-22 11:13:27,485 - INFO - ✅ Price found: 84.500\n"
     ]
    },
    {
     "name": "stdout",
     "output_type": "stream",
     "text": [
      "Initial Price: $169.00\n",
      "Discount: 50%\n",
      "Final Price after Discount: $84.50\n"
     ]
    },
    {
     "name": "stderr",
     "output_type": "stream",
     "text": [
      "2025-04-22 11:13:28,354 - INFO - 🌐 Opening product detail page...\n",
      "2025-04-22 11:13:28,379 - INFO - ✅ Available sizes: XS, S\n",
      "2025-04-22 11:13:30,101 - INFO - 🔙 Back to product list...\n",
      "2025-04-22 11:13:30,101 - INFO - ✅ Product 46 added to results.\n",
      "2025-04-22 11:13:30,108 - INFO - 📜 Retrieving product title...\n",
      "2025-04-22 11:13:30,121 - INFO - ✅ Title retrieved: CAMISA MC 100% LINO HOMBRE\n",
      "2025-04-22 11:13:30,130 - INFO - ✅ Product detail link retrieved: https://renzo.com.co/producto/camisa-mc-100-lino-hombre-45/\n",
      "2025-04-22 11:13:30,130 - INFO - 🎨 Retrieving available colors...\n",
      "2025-04-22 11:13:30,154 - INFO - ✅ Available colors: SALMON, VERDE\n",
      "2025-04-22 11:13:30,182 - INFO - ✅ Image retrieved for color SALMON\n",
      "2025-04-22 11:13:30,214 - INFO - ✅ Image retrieved for color VERDE\n",
      "2025-04-22 11:13:30,267 - INFO - ✅ Price found: 84.500\n"
     ]
    },
    {
     "name": "stdout",
     "output_type": "stream",
     "text": [
      "Initial Price: $169.00\n",
      "Discount: 50%\n",
      "Final Price after Discount: $84.50\n"
     ]
    },
    {
     "name": "stderr",
     "output_type": "stream",
     "text": [
      "2025-04-22 11:13:30,890 - INFO - 🌐 Opening product detail page...\n",
      "2025-04-22 11:13:30,912 - INFO - ✅ Available sizes: XS, S\n",
      "2025-04-22 11:13:32,721 - INFO - 🔙 Back to product list...\n",
      "2025-04-22 11:13:32,722 - INFO - ✅ Product 47 added to results.\n",
      "2025-04-22 11:13:32,728 - INFO - 📜 Retrieving product title...\n",
      "2025-04-22 11:13:32,738 - INFO - ✅ Title retrieved: CAMISA MC 100% LINO HOMBRE\n",
      "2025-04-22 11:13:32,747 - INFO - ✅ Product detail link retrieved: https://renzo.com.co/producto/camisa-mc-100-lino-hombre-44/\n",
      "2025-04-22 11:13:32,748 - INFO - 🎨 Retrieving available colors...\n",
      "2025-04-22 11:13:32,764 - INFO - ✅ Available colors: BEIGE\n",
      "2025-04-22 11:13:32,794 - INFO - ✅ Image retrieved for color BEIGE\n",
      "2025-04-22 11:13:32,831 - INFO - ✅ Price found: 84.500\n"
     ]
    },
    {
     "name": "stdout",
     "output_type": "stream",
     "text": [
      "Initial Price: $169.00\n",
      "Discount: 50%\n",
      "Final Price after Discount: $84.50\n"
     ]
    },
    {
     "name": "stderr",
     "output_type": "stream",
     "text": [
      "2025-04-22 11:13:33,434 - INFO - 🌐 Opening product detail page...\n",
      "2025-04-22 11:13:33,452 - INFO - ✅ Available sizes: XS\n",
      "2025-04-22 11:13:35,045 - INFO - 🔙 Back to product list...\n",
      "2025-04-22 11:13:35,045 - INFO - ✅ Product 48 added to results.\n",
      "2025-04-22 11:13:35,055 - INFO - 📜 Retrieving product title...\n",
      "2025-04-22 11:13:35,066 - INFO - ✅ Title retrieved: CAMISA MC 50% LINO 50% ALGODON HOMBRE\n",
      "2025-04-22 11:13:35,076 - INFO - ✅ Product detail link retrieved: https://renzo.com.co/producto/camisa-mc-50-lino-50-algodon-hombre-2/\n",
      "2025-04-22 11:13:35,077 - INFO - 🎨 Retrieving available colors...\n",
      "2025-04-22 11:13:35,101 - INFO - ✅ Available colors: CORAL, NAVY\n",
      "2025-04-22 11:13:35,151 - INFO - ✅ Image retrieved for color CORAL\n",
      "2025-04-22 11:13:35,180 - INFO - ✅ Image retrieved for color NAVY\n",
      "2025-04-22 11:13:35,219 - INFO - ✅ Price found: 64.950\n"
     ]
    },
    {
     "name": "stdout",
     "output_type": "stream",
     "text": [
      "Initial Price: $129.90\n",
      "Discount: 50%\n",
      "Final Price after Discount: $64.95\n"
     ]
    },
    {
     "name": "stderr",
     "output_type": "stream",
     "text": [
      "2025-04-22 11:13:35,817 - INFO - 🌐 Opening product detail page...\n",
      "2025-04-22 11:13:35,834 - INFO - ✅ Available sizes: XS\n",
      "2025-04-22 11:13:38,309 - INFO - 🔙 Back to product list...\n",
      "2025-04-22 11:13:38,310 - INFO - ✅ Product 49 added to results.\n",
      "2025-04-22 11:13:38,317 - INFO - 📜 Retrieving product title...\n",
      "2025-04-22 11:13:38,328 - INFO - ✅ Title retrieved: CAMISA MC 100% LINO HOMBRE\n",
      "2025-04-22 11:13:38,338 - INFO - ✅ Product detail link retrieved: https://renzo.com.co/producto/camisa-mc-100-lino-hombre-42/\n",
      "2025-04-22 11:13:38,339 - INFO - 🎨 Retrieving available colors...\n",
      "2025-04-22 11:13:38,354 - INFO - ✅ Available colors: BEIGE\n",
      "2025-04-22 11:13:38,385 - INFO - ✅ Image retrieved for color BEIGE\n",
      "2025-04-22 11:13:38,421 - INFO - ✅ Price found: 84.500\n"
     ]
    },
    {
     "name": "stdout",
     "output_type": "stream",
     "text": [
      "Initial Price: $169.00\n",
      "Discount: 50%\n",
      "Final Price after Discount: $84.50\n"
     ]
    },
    {
     "name": "stderr",
     "output_type": "stream",
     "text": [
      "2025-04-22 11:13:41,087 - INFO - 🌐 Opening product detail page...\n",
      "2025-04-22 11:13:41,109 - INFO - ✅ Available sizes: XS\n",
      "2025-04-22 11:13:42,974 - INFO - 🔙 Back to product list...\n",
      "2025-04-22 11:13:42,974 - INFO - ✅ Product 50 added to results.\n",
      "2025-04-22 11:13:42,980 - INFO - 📜 Retrieving product title...\n",
      "2025-04-22 11:13:42,992 - INFO - ✅ Title retrieved: CAMISA MC 100% LINO HOMBRE\n",
      "2025-04-22 11:13:43,002 - INFO - ✅ Product detail link retrieved: https://renzo.com.co/producto/camisa-mc-100-lino-hombre-41/\n",
      "2025-04-22 11:13:43,003 - INFO - 🎨 Retrieving available colors...\n",
      "2025-04-22 11:13:43,019 - INFO - ✅ Available colors: BEIGE\n",
      "2025-04-22 11:13:43,047 - INFO - ✅ Image retrieved for color BEIGE\n",
      "2025-04-22 11:13:43,086 - INFO - ✅ Price found: 84.500\n"
     ]
    },
    {
     "name": "stdout",
     "output_type": "stream",
     "text": [
      "Initial Price: $169.00\n",
      "Discount: 50%\n",
      "Final Price after Discount: $84.50\n"
     ]
    },
    {
     "name": "stderr",
     "output_type": "stream",
     "text": [
      "2025-04-22 11:13:45,812 - INFO - 🌐 Opening product detail page...\n",
      "2025-04-22 11:13:45,837 - INFO - ✅ Available sizes: XS, S\n",
      "2025-04-22 11:13:47,374 - INFO - 🔙 Back to product list...\n",
      "2025-04-22 11:13:47,374 - INFO - ✅ Product 51 added to results.\n",
      "2025-04-22 11:13:47,380 - INFO - 📜 Retrieving product title...\n",
      "2025-04-22 11:13:47,391 - INFO - ✅ Title retrieved: CAMISA MC 100% LINO HOMBRE\n",
      "2025-04-22 11:13:47,401 - INFO - ✅ Product detail link retrieved: https://renzo.com.co/producto/camisa-mc-100-lino-hombre-40/\n",
      "2025-04-22 11:13:47,402 - INFO - 🎨 Retrieving available colors...\n",
      "2025-04-22 11:13:47,428 - INFO - ✅ Available colors: AQUA, ROSADO, VERDEMENTA\n",
      "2025-04-22 11:13:47,503 - INFO - ✅ Image retrieved for color AQUA\n",
      "2025-04-22 11:13:47,527 - INFO - ✅ Image retrieved for color ROSADO\n",
      "2025-04-22 11:13:47,557 - INFO - ✅ Image retrieved for color VERDEMENTA\n",
      "2025-04-22 11:13:47,592 - INFO - ✅ Price found: 84.500\n"
     ]
    },
    {
     "name": "stdout",
     "output_type": "stream",
     "text": [
      "Initial Price: $169.00\n",
      "Discount: 50%\n",
      "Final Price after Discount: $84.50\n"
     ]
    },
    {
     "name": "stderr",
     "output_type": "stream",
     "text": [
      "2025-04-22 11:13:48,285 - INFO - 🌐 Opening product detail page...\n",
      "2025-04-22 11:13:48,307 - INFO - ✅ Available sizes: XS, S\n",
      "2025-04-22 11:13:50,033 - INFO - 🔙 Back to product list...\n",
      "2025-04-22 11:13:50,033 - INFO - ✅ Product 52 added to results.\n",
      "2025-04-22 11:13:50,040 - INFO - 📜 Retrieving product title...\n",
      "2025-04-22 11:13:50,050 - INFO - ✅ Title retrieved: CAMISA MC 100% LINO HOMBRE\n",
      "2025-04-22 11:13:50,059 - INFO - ✅ Product detail link retrieved: https://renzo.com.co/producto/camisa-mc-100-lino-hombre-39/\n",
      "2025-04-22 11:13:50,059 - INFO - 🎨 Retrieving available colors...\n",
      "2025-04-22 11:13:50,076 - INFO - ✅ Available colors: BEIGE\n",
      "2025-04-22 11:13:50,109 - INFO - ✅ Image retrieved for color BEIGE\n",
      "2025-04-22 11:13:50,147 - INFO - ✅ Price found: 94.500\n"
     ]
    },
    {
     "name": "stdout",
     "output_type": "stream",
     "text": [
      "Initial Price: $189.00\n",
      "Discount: 50%\n",
      "Final Price after Discount: $94.50\n"
     ]
    },
    {
     "name": "stderr",
     "output_type": "stream",
     "text": [
      "2025-04-22 11:13:50,671 - INFO - 🌐 Opening product detail page...\n",
      "2025-04-22 11:13:50,698 - INFO - ✅ Available sizes: XS, S\n",
      "2025-04-22 11:13:52,327 - INFO - 🔙 Back to product list...\n",
      "2025-04-22 11:13:52,328 - INFO - ✅ Product 53 added to results.\n",
      "2025-04-22 11:13:52,335 - INFO - 📜 Retrieving product title...\n",
      "2025-04-22 11:13:52,348 - INFO - ✅ Title retrieved: CAMISA MC 100% LINO HOMBRE\n",
      "2025-04-22 11:13:52,359 - INFO - ✅ Product detail link retrieved: https://renzo.com.co/producto/camisa-mc-100-lino-hombre-37/\n",
      "2025-04-22 11:13:52,360 - INFO - 🎨 Retrieving available colors...\n",
      "2025-04-22 11:13:52,382 - INFO - ✅ Available colors: AZUL\n",
      "2025-04-22 11:13:52,417 - INFO - ✅ Image retrieved for color AZUL\n",
      "2025-04-22 11:13:52,453 - INFO - ✅ Price found: 94.500\n"
     ]
    },
    {
     "name": "stdout",
     "output_type": "stream",
     "text": [
      "Initial Price: $189.00\n",
      "Discount: 50%\n",
      "Final Price after Discount: $94.50\n"
     ]
    },
    {
     "name": "stderr",
     "output_type": "stream",
     "text": [
      "2025-04-22 11:13:52,994 - INFO - 🌐 Opening product detail page...\n",
      "2025-04-22 11:13:53,023 - INFO - ✅ Available sizes: XS, S\n",
      "2025-04-22 11:13:54,790 - INFO - 🔙 Back to product list...\n",
      "2025-04-22 11:13:54,791 - INFO - ✅ Product 54 added to results.\n",
      "2025-04-22 11:13:54,798 - INFO - 📜 Retrieving product title...\n",
      "2025-04-22 11:13:54,809 - INFO - ✅ Title retrieved: CAMISA MC 100% LINO HOMBRE\n",
      "2025-04-22 11:13:54,820 - INFO - ✅ Product detail link retrieved: https://renzo.com.co/producto/camisa-mc-100-lino-hombre-36/\n",
      "2025-04-22 11:13:54,821 - INFO - 🎨 Retrieving available colors...\n",
      "2025-04-22 11:13:54,838 - INFO - ✅ Available colors: BEIGE\n",
      "2025-04-22 11:13:54,890 - INFO - ✅ Image retrieved for color BEIGE\n",
      "2025-04-22 11:13:54,926 - INFO - ✅ Price found: 94.500\n"
     ]
    },
    {
     "name": "stdout",
     "output_type": "stream",
     "text": [
      "Initial Price: $189.00\n",
      "Discount: 50%\n",
      "Final Price after Discount: $94.50\n"
     ]
    },
    {
     "name": "stderr",
     "output_type": "stream",
     "text": [
      "2025-04-22 11:13:55,445 - INFO - 🌐 Opening product detail page...\n",
      "2025-04-22 11:13:55,470 - INFO - ✅ Available sizes: XS, S\n",
      "2025-04-22 11:13:57,005 - INFO - 🔙 Back to product list...\n",
      "2025-04-22 11:13:57,006 - INFO - ✅ Product 55 added to results.\n",
      "2025-04-22 11:13:57,012 - INFO - 📜 Retrieving product title...\n",
      "2025-04-22 11:13:57,024 - INFO - ✅ Title retrieved: camisa mc 40% lino 60% algodon hombre\n",
      "2025-04-22 11:13:57,033 - INFO - ✅ Product detail link retrieved: https://renzo.com.co/producto/camisa-mc-40-lino-60-algodon-hombre-2/\n",
      "2025-04-22 11:13:57,033 - INFO - 🎨 Retrieving available colors...\n",
      "2025-04-22 11:13:57,049 - INFO - ✅ Available colors: NARANJA\n",
      "2025-04-22 11:13:57,076 - INFO - ✅ Image retrieved for color NARANJA\n",
      "2025-04-22 11:13:57,117 - INFO - ✅ Price found: 57.500\n"
     ]
    },
    {
     "name": "stdout",
     "output_type": "stream",
     "text": [
      "Initial Price: $115.00\n",
      "Discount: 50%\n",
      "Final Price after Discount: $57.50\n"
     ]
    },
    {
     "name": "stderr",
     "output_type": "stream",
     "text": [
      "2025-04-22 11:13:57,687 - INFO - 🌐 Opening product detail page...\n",
      "2025-04-22 11:13:57,707 - INFO - ✅ Available sizes: XS\n",
      "2025-04-22 11:13:59,365 - INFO - 🔙 Back to product list...\n",
      "2025-04-22 11:13:59,366 - INFO - ✅ Product 56 added to results.\n",
      "2025-04-22 11:13:59,372 - INFO - 📜 Retrieving product title...\n",
      "2025-04-22 11:13:59,383 - INFO - ✅ Title retrieved: camisa mc 40% lino 60% algodon hombre\n",
      "2025-04-22 11:13:59,391 - INFO - ✅ Product detail link retrieved: https://renzo.com.co/producto/camisa-mc-40-lino-60-algodon-hombre/\n",
      "2025-04-22 11:13:59,392 - INFO - 🎨 Retrieving available colors...\n",
      "2025-04-22 11:13:59,416 - INFO - ✅ Available colors: AMARILLO, VERDEMENTA\n",
      "2025-04-22 11:13:59,442 - INFO - ✅ Image retrieved for color AMARILLO\n",
      "2025-04-22 11:13:59,468 - INFO - ✅ Image retrieved for color VERDEMENTA\n",
      "2025-04-22 11:13:59,507 - INFO - ✅ Price found: 57.500\n"
     ]
    },
    {
     "name": "stdout",
     "output_type": "stream",
     "text": [
      "Initial Price: $115.00\n",
      "Discount: 50%\n",
      "Final Price after Discount: $57.50\n"
     ]
    },
    {
     "name": "stderr",
     "output_type": "stream",
     "text": [
      "2025-04-22 11:13:59,956 - INFO - 🌐 Opening product detail page...\n",
      "2025-04-22 11:13:59,975 - INFO - ✅ Available sizes: XS\n",
      "2025-04-22 11:14:01,985 - INFO - 🔙 Back to product list...\n",
      "2025-04-22 11:14:01,986 - INFO - ✅ Product 57 added to results.\n",
      "2025-04-22 11:14:01,992 - INFO - 📜 Retrieving product title...\n",
      "2025-04-22 11:14:02,003 - INFO - ✅ Title retrieved: camisa mc 58 % algodon 42% lino hombre\n",
      "2025-04-22 11:14:02,012 - INFO - ✅ Product detail link retrieved: https://renzo.com.co/producto/camisa-mc-58-algodon-42-lino-hombre/\n",
      "2025-04-22 11:14:02,013 - INFO - 🎨 Retrieving available colors...\n",
      "2025-04-22 11:14:02,035 - INFO - ✅ Available colors: AZUL, BLANCO\n",
      "2025-04-22 11:14:02,088 - INFO - ✅ Image retrieved for color AZUL\n",
      "2025-04-22 11:14:02,112 - INFO - ✅ Image retrieved for color BLANCO\n",
      "2025-04-22 11:14:02,148 - INFO - ✅ Price found: 54.500\n"
     ]
    },
    {
     "name": "stdout",
     "output_type": "stream",
     "text": [
      "Initial Price: $109.00\n",
      "Discount: 50%\n",
      "Final Price after Discount: $54.50\n"
     ]
    },
    {
     "name": "stderr",
     "output_type": "stream",
     "text": [
      "2025-04-22 11:14:04,440 - INFO - 🌐 Opening product detail page...\n",
      "2025-04-22 11:14:04,457 - INFO - ✅ Available sizes: XS\n",
      "2025-04-22 11:14:05,728 - INFO - 🔙 Back to product list...\n",
      "2025-04-22 11:14:05,729 - INFO - ✅ Product 58 added to results.\n",
      "2025-04-22 11:14:05,735 - INFO - 📜 Retrieving product title...\n",
      "2025-04-22 11:14:05,746 - INFO - ✅ Title retrieved: camisa mc 55% lino 45% algodon hombre\n",
      "2025-04-22 11:14:05,755 - INFO - ✅ Product detail link retrieved: https://renzo.com.co/producto/camisa-mc-55-lino-45-algodon-hombre/\n",
      "2025-04-22 11:14:05,756 - INFO - 🎨 Retrieving available colors...\n",
      "2025-04-22 11:14:05,772 - INFO - ✅ Available colors: AZUL\n",
      "2025-04-22 11:14:05,799 - INFO - ✅ Image retrieved for color AZUL\n",
      "2025-04-22 11:14:05,835 - INFO - ✅ Price found: 57.500\n"
     ]
    },
    {
     "name": "stdout",
     "output_type": "stream",
     "text": [
      "Initial Price: $115.00\n",
      "Discount: 50%\n",
      "Final Price after Discount: $57.50\n"
     ]
    },
    {
     "name": "stderr",
     "output_type": "stream",
     "text": [
      "2025-04-22 11:14:07,849 - INFO - 🌐 Opening product detail page...\n",
      "2025-04-22 11:14:07,881 - INFO - ✅ Available sizes: XS, S\n",
      "2025-04-22 11:14:09,344 - INFO - 🔙 Back to product list...\n",
      "2025-04-22 11:14:09,345 - INFO - ✅ Product 59 added to results.\n",
      "2025-04-22 11:14:09,352 - ERROR - ❌ Error retrieving card 26: list index out of range\n",
      "2025-04-22 11:14:09,353 - INFO - 🔍 Looking for 'Next' button...\n",
      "2025-04-22 11:14:16,427 - ERROR - Error clicking on 'Next' button: Message: \n",
      "Stacktrace:\n",
      "\tGetHandleVerifier [0x00007FF6A31A5355+78597]\n",
      "\tGetHandleVerifier [0x00007FF6A31A53B0+78688]\n",
      "\t(No symbol) [0x00007FF6A2F591AA]\n",
      "\t(No symbol) [0x00007FF6A2FAF149]\n",
      "\t(No symbol) [0x00007FF6A2FAF3FC]\n",
      "\t(No symbol) [0x00007FF6A3002467]\n",
      "\t(No symbol) [0x00007FF6A2FD712F]\n",
      "\t(No symbol) [0x00007FF6A2FFF2BB]\n",
      "\t(No symbol) [0x00007FF6A2FD6EC3]\n",
      "\t(No symbol) [0x00007FF6A2FA03F8]\n",
      "\t(No symbol) [0x00007FF6A2FA1163]\n",
      "\tGetHandleVerifier [0x00007FF6A344EF0D+2870973]\n",
      "\tGetHandleVerifier [0x00007FF6A34496B8+2848360]\n",
      "\tGetHandleVerifier [0x00007FF6A3466993+2967875]\n",
      "\tGetHandleVerifier [0x00007FF6A31C019A+188746]\n",
      "\tGetHandleVerifier [0x00007FF6A31C847F+222255]\n",
      "\tGetHandleVerifier [0x00007FF6A31AD2D4+111236]\n",
      "\tGetHandleVerifier [0x00007FF6A31AD482+111666]\n",
      "\tGetHandleVerifier [0x00007FF6A31935A9+5465]\n",
      "\tBaseThreadInitThunk [0x00007FF917587374+20]\n",
      "\tRtlUserThreadStart [0x00007FF917A9CC91+33]\n",
      "\n"
     ]
    }
   ],
   "source": [
    "dict_results = {}\n",
    "count = 0\n",
    "\n",
    "######## COLLECT ALL CARDS #############################################################################################################################################################\n",
    "\n",
    "while True:\n",
    "\n",
    "    try:\n",
    "        cards = wait5.until(EC.presence_of_all_elements_located((By.CSS_SELECTOR, \".product\")))\n",
    "    except Exception as e:\n",
    "        logger.error(f\"❌ Failed to retrieve product cards: {e}\")\n",
    "        break\n",
    "\n",
    "    for index in range(len(cards)):\n",
    "        count += 1\n",
    "        datas = {}\n",
    "        datas[\"Promo\"] = False  # Default value\n",
    "\n",
    "        try:\n",
    "            cards = wait5.until(EC.presence_of_all_elements_located((By.CSS_SELECTOR, \".product\")))\n",
    "            card = cards[index]\n",
    "        except Exception as e:\n",
    "            logger.error(f\"❌ Error retrieving card {index}: {e}\")\n",
    "            break  # STOP ALL\n",
    "\n",
    "######## TITLE #############################################################################################################################################################\n",
    "\n",
    "        try:\n",
    "            logger.info(\"📜 Retrieving product title...\")\n",
    "            title = card.find_element(By.XPATH, \".//h3[contains(@class, 'product-title')]\").text\n",
    "            datas[\"title\"] = title\n",
    "            logger.info(f\"✅ Title retrieved: {title}\")\n",
    "        except Exception as e:\n",
    "            logger.error(f\"❌ Error retrieving title: {e}\")\n",
    "            break\n",
    "\n",
    "######## GET PRODUCT LINKS DETAILS #############################################################################################################################################################\n",
    "\n",
    "        try:\n",
    "            link_to_details = card.find_element(By.XPATH, \".//h3[contains(@class, 'product-title')]/a\").get_attribute(\"href\")\n",
    "            logger.info(f\"✅ Product detail link retrieved: {link_to_details}\")\n",
    "        except Exception as e:\n",
    "            logger.error(f\"❌ Error retrieving link: {e}\")\n",
    "            break\n",
    "\n",
    "######## COLORS #############################################################################################################################################################\n",
    "\n",
    "        try:\n",
    "            logger.info(\"🎨 Retrieving available colors...\")\n",
    "            zone_color = card.find_element(By.XPATH, \".//div[contains(@class, 'swatches-wrapper')]\")\n",
    "            colors_part = card.find_elements(By.XPATH, \".//div[contains(@class, 'swatch-on-grid') and contains(@class, 'swatch-has-image') and @data-image-src]\")\n",
    "            available_colors = [c.text.strip() for c in colors_part]\n",
    "            datas[\"available colors\"] = available_colors\n",
    "            logger.info(f\"✅ Available colors: {', '.join(available_colors)}\")\n",
    "\n",
    "            for color in colors_part:\n",
    "                try:\n",
    "                    color_name = color.text.strip()\n",
    "                    driver.execute_script(\"arguments[0].scrollIntoView(true);\", color)\n",
    "                    driver.execute_script(\"arguments[0].click();\", color)\n",
    "\n",
    "                    image_url = wait5.until(EC.presence_of_element_located(\n",
    "                        (By.XPATH, \".//img[contains(@class, 'attachment-woocommerce_thumbnail')]\"))).get_attribute('src')\n",
    "                    datas[f\"Image_url_{color_name}\"] = image_url\n",
    "                    logger.info(f\"✅ Image retrieved for color {color_name}\")\n",
    "                except Exception as e:\n",
    "                    logger.error(f\"❌ Error with color {color.text if color else 'UNKNOWN'}: {e}\")\n",
    "                    break  # STOP ALL\n",
    "\n",
    "        except Exception as e:\n",
    "            logger.error(f\"❌ Error processing colors: {e}\")\n",
    "            break\n",
    "\n",
    "######## PRICE #############################################################################################################################################################\n",
    "        try:\n",
    "            fresh_card = driver.find_elements(By.CSS_SELECTOR, \".product\")[index]\n",
    "            price_elements = fresh_card.find_elements(By.XPATH, \".//span[contains(@class, 'price')]//bdi\")  # Find all price elements\n",
    "            prices = [price.text.strip().replace('$', '').strip() for price in price_elements if price.text.strip()]\n",
    "            \n",
    "            if prices:\n",
    "                # Créer un dictionnaire temporaire pour associer chaque prix string à sa version float\n",
    "                price_dict = {price: float(price.replace(',', '.')) for price in prices}\n",
    "\n",
    "                # Trouver le prix le plus bas parmi les floatifiés\n",
    "                lowest_price_float = min(price_dict.values())\n",
    "\n",
    "                # Conserver le prix string original\n",
    "                lowest_price_str = next(price for price, value in price_dict.items() if value == lowest_price_float)\n",
    "\n",
    "                # Ajouter le prix dans le dictionnaire des données (prix en string original)\n",
    "                datas[\"price\"] = lowest_price_str\n",
    "\n",
    "                # Calculer la réduction en pourcentage, si deux prix existent\n",
    "                if len(price_dict) > 1:\n",
    "                    highest_price_float = max(price_dict.values())\n",
    "                    discount = round((1 - (lowest_price_float / highest_price_float)) * 100)\n",
    "                    datas[\"Promo\"] = f\"{discount}%\"\n",
    "\n",
    "                    # Print le prix initial, le pourcentage de promo, et le prix après réduction\n",
    "                    print(f\"Initial Price: ${highest_price_float:.2f}\")\n",
    "                    print(f\"Discount: {discount}%\")\n",
    "                    print(f\"Final Price after Discount: ${lowest_price_float:.2f}\")\n",
    "\n",
    "                # Afficher dans les logs le prix en version string\n",
    "                logger.info(f\"✅ Price found: {lowest_price_str}\")\n",
    "            else:\n",
    "                logger.error(\"❌ No valid price found.\")\n",
    "                break\n",
    "        except Exception as e:\n",
    "            logger.error(f\"❌ Error retrieving price: {e}\")\n",
    "            break\n",
    "\n",
    "######## GET TO PRODUCT PAGE #############################################################################################################################################################\n",
    "\n",
    "        try:\n",
    "            driver.get(link_to_details)\n",
    "            logger.info(\"🌐 Opening product detail page...\")\n",
    "        except Exception as e:\n",
    "            logger.error(f\"❌ Error opening product page: {e}\")\n",
    "            break\n",
    "\n",
    "######## GET AVAILABLE SIZES #############################################################################################################################################################\n",
    "\n",
    "        try:\n",
    "            zone_sizes = wait5.until(EC.presence_of_element_located(\n",
    "                (By.XPATH, \"//ul[contains(@aria-label,'Talla')]\")))\n",
    "            available_sizes = zone_sizes.find_elements(By.XPATH, \".//li[not(contains(@class, 'disabled'))]\")\n",
    "            datas[\"available sizes\"] = [size.get_attribute(\"title\") for size in available_sizes if size.get_attribute(\"title\")]\n",
    "            logger.info(f\"✅ Available sizes: {', '.join(datas['available sizes'])}\")\n",
    "        except Exception as e:\n",
    "            logger.error(f\"❌ Error retrieving sizes: {e}\")\n",
    "            break\n",
    "\n",
    "        try:\n",
    "            driver.back()\n",
    "            wait5.until(EC.presence_of_element_located((By.CSS_SELECTOR, \".product\")))\n",
    "            logger.info(\"🔙 Back to product list...\")\n",
    "        except Exception as e:\n",
    "            logger.error(f\"❌ Error returning to product list: {e}\")\n",
    "            break\n",
    "\n",
    "        dict_results[count] = datas\n",
    "        logger.info(f\"✅ Product {count} added to results.\")\n",
    "\n",
    "######## NEXT PAGE #############################################################################################################################################################\n",
    "\n",
    "    try:\n",
    "        logger.info(\"🔍 Looking for 'Next' button...\")\n",
    "        next_page = wait5.until(EC.presence_of_element_located(\n",
    "            (By.XPATH, \"//a[contains(@class, 'next page-numbers')]\")))\n",
    "        driver.execute_script(\"arguments[0].click();\", next_page)\n",
    "        logger.info(\"➡️ Moving to the next page...\")\n",
    "    except NoSuchElementException:\n",
    "        logger.info(\"❌ No 'Next' button found, stopping pagination.\")\n",
    "        break\n",
    "    except Exception as e:\n",
    "        logger.error(f\"Error clicking on 'Next' button: {e}\")\n",
    "        break\n"
   ]
  },
  {
   "cell_type": "markdown",
   "id": "eec5e4d5",
   "metadata": {},
   "source": [
    "# Normalize the Data Results Dictionary"
   ]
  },
  {
   "cell_type": "code",
   "execution_count": null,
   "id": "3d506ab7",
   "metadata": {},
   "outputs": [],
   "source": [
    "# Traiter le dictionnaire pour que les images soient regroupées dans une seule clé \"Image_url\"\n",
    "for product_id, product_data in dict_results.items():\n",
    "    # Regrouper les URLs d'images par couleur sous une même clé 'Image_url'\n",
    "    image_urls = {}\n",
    "    for color in product_data['available colors']:\n",
    "        image_key = f\"Image_url_{color}\"\n",
    "        if image_key in product_data:\n",
    "            image_urls[color] = product_data[image_key]\n",
    "            # Supprimer les anciennes clés d'images après les avoir regroupées\n",
    "            del product_data[image_key]\n",
    "    \n",
    "    # Ajouter la nouvelle clé \"Image_url\" contenant les images regroupées\n",
    "    product_data['Image_url'] = image_urls\n",
    "\n",
    "# Afficher le dictionnaire modifié\n",
    "from pprint import pprint\n",
    "pprint(dict_results)"
   ]
  },
  {
   "cell_type": "markdown",
   "id": "b3f70018",
   "metadata": {},
   "source": [
    "# Build a DataFrame with the results"
   ]
  },
  {
   "cell_type": "code",
   "execution_count": null,
   "id": "18e3c937",
   "metadata": {},
   "outputs": [],
   "source": [
    "# Transformation du dictionnaire en DataFrame\n",
    "df = pd.DataFrame.from_dict(dict_results, orient='index')\n",
    "\n",
    "# Affichage des données\n",
    "df.head()\n"
   ]
  },
  {
   "cell_type": "code",
   "execution_count": null,
   "id": "7fa0a49f",
   "metadata": {},
   "outputs": [],
   "source": [
    "# Trouver à la fois les <a> et <span> dans la pagination\n",
    "page_numbers_elements = find_elements(driver, \"xpath\", \"//a[@class='page-numbers' or @class='page-numbers current'] | //span[@class='page-numbers current']\")\n",
    "\n",
    "for page in page_numbers_elements:\n",
    "    text = page.text\n",
    "    if text:\n",
    "        print(text)"
   ]
  },
  {
   "cell_type": "code",
   "execution_count": null,
   "id": "a1093486",
   "metadata": {},
   "outputs": [],
   "source": [
    "one_card = cards[0]\n",
    "# Attendre que le lien de détail du produit dans \"one_card\" soit visible\n",
    "link_to_details = wait5.until(EC.presence_of_element_located((\n",
    "    By.XPATH, \".//h3[contains(@class, 'product-title')]/a\"\n",
    ")))\n",
    "\n",
    "# Récupérer l'URL du produit\n",
    "product_url = link_to_details.get_attribute(\"href\")\n",
    "print(product_url)"
   ]
  },
  {
   "cell_type": "markdown",
   "id": "bf12bb51",
   "metadata": {},
   "source": [
    "Article Details Page"
   ]
  },
  {
   "cell_type": "code",
   "execution_count": null,
   "id": "8995c46d",
   "metadata": {},
   "outputs": [],
   "source": [
    "zone_sizes = find_element(driver, \"xpath\", \"//ul[contains(@aria-label,'Talla')]\")\n",
    "\n",
    "# Sélectionne uniquement les tailles SANS la classe 'disabled'\n",
    "available_sizes = find_elements(zone_sizes, \"xpath\", \".//li[not(contains(@class, 'disabled'))]\")\n",
    "\n",
    "# Affiche les tailles disponibles\n",
    "for size in available_sizes:\n",
    "    size_name = size.get_attribute(\"title\")\n",
    "    if size_name:\n",
    "        print(size_name)\n",
    "\n",
    "datas[\"available sizes\"] = [size for size in available_sizes]\n"
   ]
  },
  {
   "cell_type": "code",
   "execution_count": null,
   "id": "71f384aa",
   "metadata": {},
   "outputs": [],
   "source": [
    "card_one = cards[0]\n",
    "title = find_element(card_one, \"xpath\", \"//h3[contains(@class, 'product-title')]\")\n",
    "print(title.text)"
   ]
  },
  {
   "cell_type": "markdown",
   "id": "35522eae",
   "metadata": {},
   "source": [
    "# Promos"
   ]
  },
  {
   "cell_type": "code",
   "execution_count": null,
   "id": "2ceaf491",
   "metadata": {},
   "outputs": [],
   "source": [
    "promos_page_links = [\n",
    "    'https://renzo.com.co/categoria-producto/ofertas-ropa-hombre-ninos/sale-renzo/',\n",
    "    'https://renzo.com.co/categoria-producto/ofertas-ropa-hombre-ninos/sale-bambino/'\n",
    "]\n",
    "\n",
    "for item in promos_page_links:\n",
    "    try:\n",
    "        promos_hombres = find_element(choice_promos, 'xpath', \n",
    "            f\".//a[contains(@href, '{item}')]\")\n",
    "        print(\"[OK] Élément trouvé pour promos_hombres\")\n",
    "    except Exception as e:\n",
    "        print(f\"[!!] Élément manquant pour promos_hombres : {e}\")\n",
    "\n",
    "    try:\n",
    "        promos_ninos = find_element(choice_promos, 'xpath', \n",
    "            f\".//a[contains(@href, '{item}')]\")\n",
    "        print(\"[OK] Élément trouvé pour promos_ninos\")\n",
    "    except Exception as e:\n",
    "        print(f\"[!!] Élément manquant pour promos_ninos : {e}\")\n"
   ]
  }
 ],
 "metadata": {
  "kernelspec": {
   "display_name": "env",
   "language": "python",
   "name": "python3"
  },
  "language_info": {
   "codemirror_mode": {
    "name": "ipython",
    "version": 3
   },
   "file_extension": ".py",
   "mimetype": "text/x-python",
   "name": "python",
   "nbconvert_exporter": "python",
   "pygments_lexer": "ipython3",
   "version": "3.13.2"
  }
 },
 "nbformat": 4,
 "nbformat_minor": 5
}
